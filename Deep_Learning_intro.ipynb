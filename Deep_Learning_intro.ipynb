{
  "nbformat": 4,
  "nbformat_minor": 0,
  "metadata": {
    "kernelspec": {
      "display_name": "Python 3",
      "language": "python",
      "name": "python3"
    },
    "language_info": {
      "codemirror_mode": {
        "name": "ipython",
        "version": 3
      },
      "file_extension": ".py",
      "mimetype": "text/x-python",
      "name": "python",
      "nbconvert_exporter": "python",
      "pygments_lexer": "ipython3",
      "version": "3.7.1"
    },
    "colab": {
      "name": "Deep_Learning_intro.ipynb",
      "provenance": [],
      "collapsed_sections": [],
      "include_colab_link": true
    }
  },
  "cells": [
    {
      "cell_type": "markdown",
      "metadata": {
        "id": "view-in-github",
        "colab_type": "text"
      },
      "source": [
        "<a href=\"https://colab.research.google.com/github/ashishkumar30/Machine-Learning/blob/master/Deep_Learning_intro.ipynb\" target=\"_parent\"><img src=\"https://colab.research.google.com/assets/colab-badge.svg\" alt=\"Open In Colab\"/></a>"
      ]
    },
    {
      "cell_type": "code",
      "metadata": {
        "id": "4xt3d_qgBEsd",
        "colab_type": "code",
        "colab": {},
        "outputId": "a44dc61e-8035-4d32-ca2e-e01d2c2c67e8"
      },
      "source": [
        "\"\"\"\n",
        "Q.1- Consider the following diagram:\n",
        "\n",
        "where\n",
        "\n",
        "a, b, and c are inputs\n",
        "u = a * b\n",
        "v = a * c\n",
        "w = b + c\n",
        "F = u + v - w\n",
        "\n",
        "\n",
        "What is the value of F? Give answer in the simplest form.\n",
        "\n",
        "Ans.\n",
        "\n",
        "F = ab+ac-(b+c) = ab+ac-b-c = ab-b+ac-c = b(a-1)+c(a-1) = (a-1)(b+c)\n",
        "\n",
        "so, F = (a-1)(b+c)\n",
        "\n",
        "Q.2- The input values and weights, along with the activation function, are given below.\n",
        "Find the values of x and output (f(x)). \n",
        "If bias is -1.1, then what is the output? Is there any change? Why do we need bias?\n",
        "\n",
        "\"\"\"\n",
        "\n",
        "# Solution :-\n",
        "\n",
        "#Without bias :- \n",
        "\n",
        "import numpy as np\n",
        "y = (-0.06)*(2.7)+(-2.5)*(-8.6)+(1.4)*(0.002) \n",
        "f_x = 1/1+np.exp(-y)\n",
        "f_x"
      ],
      "execution_count": 0,
      "outputs": [
        {
          "output_type": "execute_result",
          "data": {
            "text/plain": [
              "1.0000000005392726"
            ]
          },
          "metadata": {
            "tags": []
          },
          "execution_count": 3
        }
      ]
    },
    {
      "cell_type": "code",
      "metadata": {
        "scrolled": true,
        "id": "coWu4hMWBEsp",
        "colab_type": "code",
        "colab": {},
        "outputId": "2d025cf5-ae11-4080-bd98-2624fdfae005"
      },
      "source": [
        "#With bias :- \n",
        "\n",
        "import numpy as np\n",
        "y = (-0.06)*(2.7)+(-2.5)*(-8.6)+(1.4)*(0.002)-1.1\n",
        "f_x = 1/1+np.exp(-y)\n",
        "f_x"
      ],
      "execution_count": 0,
      "outputs": [
        {
          "output_type": "execute_result",
          "data": {
            "text/plain": [
              "1.0000000016200643"
            ]
          },
          "metadata": {
            "tags": []
          },
          "execution_count": 5
        }
      ]
    },
    {
      "cell_type": "code",
      "metadata": {
        "id": "n5pEVtjzBEsv",
        "colab_type": "code",
        "colab": {}
      },
      "source": [
        "# Why do we need bias?\n",
        "\n",
        "\n",
        "By adding bias there is a change in the f(x) value.\n",
        "\n",
        "A bias is an intercept or offset from an origin. Bias (also known as the bias term) is\n",
        "referred to as b or w0 in machine learning models. \n",
        "For example, bias is the b in the following formula: y = b + w1x1 +w2x2...+wnxn\n",
        "\n",
        "In simple terms, a bais is a value added to the set of predited values so as to minimise the error between the actual\n",
        "and predicted values. It can also be called as manupulation of predicted data where we add/subtract a particular\n",
        "amount of value to shift the output more closer to the desired output. In short, these biases can affect collection\n",
        "and interpretation of data, the design of a system, and how users interact with a system."
      ],
      "execution_count": 0,
      "outputs": []
    }
  ]
}