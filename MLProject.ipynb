{
  "nbformat": 4,
  "nbformat_minor": 0,
  "metadata": {
    "kernelspec": {
      "display_name": "Python 3",
      "language": "python",
      "name": "python3"
    },
    "language_info": {
      "codemirror_mode": {
        "name": "ipython",
        "version": 3
      },
      "file_extension": ".py",
      "mimetype": "text/x-python",
      "name": "python",
      "nbconvert_exporter": "python",
      "pygments_lexer": "ipython3",
      "version": "3.7.1"
    },
    "colab": {
      "name": "MLProject.ipynb",
      "provenance": [],
      "collapsed_sections": [],
      "include_colab_link": true
    }
  },
  "cells": [
    {
      "cell_type": "markdown",
      "metadata": {
        "id": "view-in-github",
        "colab_type": "text"
      },
      "source": [
        "<a href=\"https://colab.research.google.com/github/ashishkumar30/Machine-Learning/blob/master/MLProject.ipynb\" target=\"_parent\"><img src=\"https://colab.research.google.com/assets/colab-badge.svg\" alt=\"Open In Colab\"/></a>"
      ]
    },
    {
      "cell_type": "code",
      "metadata": {
        "id": "68c4tKMeB5ag",
        "colab_type": "code",
        "colab": {}
      },
      "source": [
        "import matplotlib.pyplot as plt\n",
        "import pandas as pd\n",
        "import seaborn as sns\n",
        "from sklearn.linear_model import LinearRegression\n",
        "from sklearn.preprocessing import StandardScaler\n",
        "from sklearn.model_selection import train_test_split\n",
        "import numpy as np\n",
        "plt.rcParams['figure.figsize'] = (10.0, 8.0)\n",
        "import warnings\n",
        "warnings.filterwarnings('ignore')"
      ],
      "execution_count": 0,
      "outputs": []
    },
    {
      "cell_type": "code",
      "metadata": {
        "id": "DyaJUdiFB5as",
        "colab_type": "code",
        "colab": {},
        "outputId": "a7e8668c-c704-499b-8cf3-590e6debfe2e"
      },
      "source": [
        " # importing the dataset\n",
        "dataset = pd.read_csv(\"C:/Users/Genius/Desktop/train/Big_mart.csv\")\n",
        "dataset.head(10)"
      ],
      "execution_count": 0,
      "outputs": [
        {
          "output_type": "execute_result",
          "data": {
            "text/html": [
              "<div>\n",
              "<style scoped>\n",
              "    .dataframe tbody tr th:only-of-type {\n",
              "        vertical-align: middle;\n",
              "    }\n",
              "\n",
              "    .dataframe tbody tr th {\n",
              "        vertical-align: top;\n",
              "    }\n",
              "\n",
              "    .dataframe thead th {\n",
              "        text-align: right;\n",
              "    }\n",
              "</style>\n",
              "<table border=\"1\" class=\"dataframe\">\n",
              "  <thead>\n",
              "    <tr style=\"text-align: right;\">\n",
              "      <th></th>\n",
              "      <th>Item_Identifier</th>\n",
              "      <th>Item_Weight</th>\n",
              "      <th>Item_Fat_Content</th>\n",
              "      <th>Item_Visibility</th>\n",
              "      <th>Item_Type</th>\n",
              "      <th>Item_MRP</th>\n",
              "      <th>Outlet_Identifier</th>\n",
              "      <th>Outlet_Establishment_Year</th>\n",
              "      <th>Outlet_Size</th>\n",
              "      <th>Outlet_Location_Type</th>\n",
              "      <th>Outlet_Type</th>\n",
              "      <th>Item_Outlet_Sales</th>\n",
              "    </tr>\n",
              "  </thead>\n",
              "  <tbody>\n",
              "    <tr>\n",
              "      <th>0</th>\n",
              "      <td>FDA15</td>\n",
              "      <td>9.300</td>\n",
              "      <td>Low Fat</td>\n",
              "      <td>0.016047</td>\n",
              "      <td>Dairy</td>\n",
              "      <td>249.8092</td>\n",
              "      <td>OUT049</td>\n",
              "      <td>1999</td>\n",
              "      <td>Medium</td>\n",
              "      <td>Tier 1</td>\n",
              "      <td>Supermarket Type1</td>\n",
              "      <td>3735.1380</td>\n",
              "    </tr>\n",
              "    <tr>\n",
              "      <th>1</th>\n",
              "      <td>DRC01</td>\n",
              "      <td>5.920</td>\n",
              "      <td>Regular</td>\n",
              "      <td>0.019278</td>\n",
              "      <td>Soft Drinks</td>\n",
              "      <td>48.2692</td>\n",
              "      <td>OUT018</td>\n",
              "      <td>2009</td>\n",
              "      <td>Medium</td>\n",
              "      <td>Tier 3</td>\n",
              "      <td>Supermarket Type2</td>\n",
              "      <td>443.4228</td>\n",
              "    </tr>\n",
              "    <tr>\n",
              "      <th>2</th>\n",
              "      <td>FDN15</td>\n",
              "      <td>17.500</td>\n",
              "      <td>Low Fat</td>\n",
              "      <td>0.016760</td>\n",
              "      <td>Meat</td>\n",
              "      <td>141.6180</td>\n",
              "      <td>OUT049</td>\n",
              "      <td>1999</td>\n",
              "      <td>Medium</td>\n",
              "      <td>Tier 1</td>\n",
              "      <td>Supermarket Type1</td>\n",
              "      <td>2097.2700</td>\n",
              "    </tr>\n",
              "    <tr>\n",
              "      <th>3</th>\n",
              "      <td>FDX07</td>\n",
              "      <td>19.200</td>\n",
              "      <td>Regular</td>\n",
              "      <td>0.000000</td>\n",
              "      <td>Fruits and Vegetables</td>\n",
              "      <td>182.0950</td>\n",
              "      <td>OUT010</td>\n",
              "      <td>1998</td>\n",
              "      <td>NaN</td>\n",
              "      <td>Tier 3</td>\n",
              "      <td>Grocery Store</td>\n",
              "      <td>732.3800</td>\n",
              "    </tr>\n",
              "    <tr>\n",
              "      <th>4</th>\n",
              "      <td>NCD19</td>\n",
              "      <td>8.930</td>\n",
              "      <td>Low Fat</td>\n",
              "      <td>0.000000</td>\n",
              "      <td>Household</td>\n",
              "      <td>53.8614</td>\n",
              "      <td>OUT013</td>\n",
              "      <td>1987</td>\n",
              "      <td>High</td>\n",
              "      <td>Tier 3</td>\n",
              "      <td>Supermarket Type1</td>\n",
              "      <td>994.7052</td>\n",
              "    </tr>\n",
              "    <tr>\n",
              "      <th>5</th>\n",
              "      <td>FDP36</td>\n",
              "      <td>10.395</td>\n",
              "      <td>Regular</td>\n",
              "      <td>0.000000</td>\n",
              "      <td>Baking Goods</td>\n",
              "      <td>51.4008</td>\n",
              "      <td>OUT018</td>\n",
              "      <td>2009</td>\n",
              "      <td>Medium</td>\n",
              "      <td>Tier 3</td>\n",
              "      <td>Supermarket Type2</td>\n",
              "      <td>556.6088</td>\n",
              "    </tr>\n",
              "    <tr>\n",
              "      <th>6</th>\n",
              "      <td>FDO10</td>\n",
              "      <td>13.650</td>\n",
              "      <td>Regular</td>\n",
              "      <td>0.012741</td>\n",
              "      <td>Snack Foods</td>\n",
              "      <td>57.6588</td>\n",
              "      <td>OUT013</td>\n",
              "      <td>1987</td>\n",
              "      <td>High</td>\n",
              "      <td>Tier 3</td>\n",
              "      <td>Supermarket Type1</td>\n",
              "      <td>343.5528</td>\n",
              "    </tr>\n",
              "    <tr>\n",
              "      <th>7</th>\n",
              "      <td>FDP10</td>\n",
              "      <td>NaN</td>\n",
              "      <td>Low Fat</td>\n",
              "      <td>0.127470</td>\n",
              "      <td>Snack Foods</td>\n",
              "      <td>107.7622</td>\n",
              "      <td>OUT027</td>\n",
              "      <td>1985</td>\n",
              "      <td>Medium</td>\n",
              "      <td>Tier 3</td>\n",
              "      <td>Supermarket Type3</td>\n",
              "      <td>4022.7636</td>\n",
              "    </tr>\n",
              "    <tr>\n",
              "      <th>8</th>\n",
              "      <td>FDH17</td>\n",
              "      <td>16.200</td>\n",
              "      <td>Regular</td>\n",
              "      <td>0.016687</td>\n",
              "      <td>Frozen Foods</td>\n",
              "      <td>96.9726</td>\n",
              "      <td>OUT045</td>\n",
              "      <td>2002</td>\n",
              "      <td>NaN</td>\n",
              "      <td>Tier 2</td>\n",
              "      <td>Supermarket Type1</td>\n",
              "      <td>1076.5986</td>\n",
              "    </tr>\n",
              "    <tr>\n",
              "      <th>9</th>\n",
              "      <td>FDU28</td>\n",
              "      <td>19.200</td>\n",
              "      <td>Regular</td>\n",
              "      <td>0.094450</td>\n",
              "      <td>Frozen Foods</td>\n",
              "      <td>187.8214</td>\n",
              "      <td>OUT017</td>\n",
              "      <td>2007</td>\n",
              "      <td>NaN</td>\n",
              "      <td>Tier 2</td>\n",
              "      <td>Supermarket Type1</td>\n",
              "      <td>4710.5350</td>\n",
              "    </tr>\n",
              "  </tbody>\n",
              "</table>\n",
              "</div>"
            ],
            "text/plain": [
              "  Item_Identifier  Item_Weight Item_Fat_Content  Item_Visibility  \\\n",
              "0           FDA15        9.300          Low Fat         0.016047   \n",
              "1           DRC01        5.920          Regular         0.019278   \n",
              "2           FDN15       17.500          Low Fat         0.016760   \n",
              "3           FDX07       19.200          Regular         0.000000   \n",
              "4           NCD19        8.930          Low Fat         0.000000   \n",
              "5           FDP36       10.395          Regular         0.000000   \n",
              "6           FDO10       13.650          Regular         0.012741   \n",
              "7           FDP10          NaN          Low Fat         0.127470   \n",
              "8           FDH17       16.200          Regular         0.016687   \n",
              "9           FDU28       19.200          Regular         0.094450   \n",
              "\n",
              "               Item_Type  Item_MRP Outlet_Identifier  \\\n",
              "0                  Dairy  249.8092            OUT049   \n",
              "1            Soft Drinks   48.2692            OUT018   \n",
              "2                   Meat  141.6180            OUT049   \n",
              "3  Fruits and Vegetables  182.0950            OUT010   \n",
              "4              Household   53.8614            OUT013   \n",
              "5           Baking Goods   51.4008            OUT018   \n",
              "6            Snack Foods   57.6588            OUT013   \n",
              "7            Snack Foods  107.7622            OUT027   \n",
              "8           Frozen Foods   96.9726            OUT045   \n",
              "9           Frozen Foods  187.8214            OUT017   \n",
              "\n",
              "   Outlet_Establishment_Year Outlet_Size Outlet_Location_Type  \\\n",
              "0                       1999      Medium               Tier 1   \n",
              "1                       2009      Medium               Tier 3   \n",
              "2                       1999      Medium               Tier 1   \n",
              "3                       1998         NaN               Tier 3   \n",
              "4                       1987        High               Tier 3   \n",
              "5                       2009      Medium               Tier 3   \n",
              "6                       1987        High               Tier 3   \n",
              "7                       1985      Medium               Tier 3   \n",
              "8                       2002         NaN               Tier 2   \n",
              "9                       2007         NaN               Tier 2   \n",
              "\n",
              "         Outlet_Type  Item_Outlet_Sales  \n",
              "0  Supermarket Type1          3735.1380  \n",
              "1  Supermarket Type2           443.4228  \n",
              "2  Supermarket Type1          2097.2700  \n",
              "3      Grocery Store           732.3800  \n",
              "4  Supermarket Type1           994.7052  \n",
              "5  Supermarket Type2           556.6088  \n",
              "6  Supermarket Type1           343.5528  \n",
              "7  Supermarket Type3          4022.7636  \n",
              "8  Supermarket Type1          1076.5986  \n",
              "9  Supermarket Type1          4710.5350  "
            ]
          },
          "metadata": {
            "tags": []
          },
          "execution_count": 26
        }
      ]
    },
    {
      "cell_type": "code",
      "metadata": {
        "id": "0dmilVtSB5a0",
        "colab_type": "code",
        "colab": {},
        "outputId": "a8f470e4-aed3-4e6c-e4d2-9d6e44ec9ed0"
      },
      "source": [
        "dataset.shape"
      ],
      "execution_count": 0,
      "outputs": [
        {
          "output_type": "execute_result",
          "data": {
            "text/plain": [
              "(8523, 12)"
            ]
          },
          "metadata": {
            "tags": []
          },
          "execution_count": 27
        }
      ]
    },
    {
      "cell_type": "code",
      "metadata": {
        "id": "gAThs_VRB5a6",
        "colab_type": "code",
        "colab": {},
        "outputId": "1fd1b049-3f03-4e3e-996f-684958880ee8"
      },
      "source": [
        "dataset.columns"
      ],
      "execution_count": 0,
      "outputs": [
        {
          "output_type": "execute_result",
          "data": {
            "text/plain": [
              "Index(['Item_Identifier', 'Item_Weight', 'Item_Fat_Content', 'Item_Visibility',\n",
              "       'Item_Type', 'Item_MRP', 'Outlet_Identifier',\n",
              "       'Outlet_Establishment_Year', 'Outlet_Size', 'Outlet_Location_Type',\n",
              "       'Outlet_Type', 'Item_Outlet_Sales'],\n",
              "      dtype='object')"
            ]
          },
          "metadata": {
            "tags": []
          },
          "execution_count": 28
        }
      ]
    },
    {
      "cell_type": "code",
      "metadata": {
        "id": "UoxfKj5zB5bB",
        "colab_type": "code",
        "colab": {},
        "outputId": "a23622f8-17e0-4bcb-f44a-2ad25ce323d2"
      },
      "source": [
        "# Check missing values in dataset.\n",
        "dataset.isnull().sum()"
      ],
      "execution_count": 0,
      "outputs": [
        {
          "output_type": "execute_result",
          "data": {
            "text/plain": [
              "Item_Identifier                 0\n",
              "Item_Weight                  1463\n",
              "Item_Fat_Content                0\n",
              "Item_Visibility                 0\n",
              "Item_Type                       0\n",
              "Item_MRP                        0\n",
              "Outlet_Identifier               0\n",
              "Outlet_Establishment_Year       0\n",
              "Outlet_Size                  2410\n",
              "Outlet_Location_Type            0\n",
              "Outlet_Type                     0\n",
              "Item_Outlet_Sales               0\n",
              "dtype: int64"
            ]
          },
          "metadata": {
            "tags": []
          },
          "execution_count": 29
        }
      ]
    },
    {
      "cell_type": "code",
      "metadata": {
        "id": "FW6gFEAMB5bH",
        "colab_type": "code",
        "colab": {},
        "outputId": "b64e9e83-7e92-45fe-9ad7-98c434491801"
      },
      "source": [
        " # Show the Null values in a heatmap\n",
        "sns.heatmap(dataset.isnull(),cbar=False,cmap='magma',yticklabels=False)\n",
        "plt.show()"
      ],
      "execution_count": 0,
      "outputs": [
        {
          "output_type": "display_data",
          "data": {
            "image/png": "[encoded data removed]",
            "text/plain": [
              "<Figure size 720x576 with 1 Axes>"
            ]
          },
          "metadata": {
            "tags": []
          }
        }
      ]
    },
    {
      "cell_type": "code",
      "metadata": {
        "id": "mCUc6IJUB5bP",
        "colab_type": "code",
        "colab": {},
        "outputId": "d4bd1d99-2e30-4f3d-a210-8c223e4f8489"
      },
      "source": [
        " dataset.describe(include ='all')"
      ],
      "execution_count": 0,
      "outputs": [
        {
          "output_type": "execute_result",
          "data": {
            "text/html": [
              "<div>\n",
              "<style scoped>\n",
              "    .dataframe tbody tr th:only-of-type {\n",
              "        vertical-align: middle;\n",
              "    }\n",
              "\n",
              "    .dataframe tbody tr th {\n",
              "        vertical-align: top;\n",
              "    }\n",
              "\n",
              "    .dataframe thead th {\n",
              "        text-align: right;\n",
              "    }\n",
              "</style>\n",
              "<table border=\"1\" class=\"dataframe\">\n",
              "  <thead>\n",
              "    <tr style=\"text-align: right;\">\n",
              "      <th></th>\n",
              "      <th>Item_Identifier</th>\n",
              "      <th>Item_Weight</th>\n",
              "      <th>Item_Fat_Content</th>\n",
              "      <th>Item_Visibility</th>\n",
              "      <th>Item_Type</th>\n",
              "      <th>Item_MRP</th>\n",
              "      <th>Outlet_Identifier</th>\n",
              "      <th>Outlet_Establishment_Year</th>\n",
              "      <th>Outlet_Size</th>\n",
              "      <th>Outlet_Location_Type</th>\n",
              "      <th>Outlet_Type</th>\n",
              "      <th>Item_Outlet_Sales</th>\n",
              "    </tr>\n",
              "  </thead>\n",
              "  <tbody>\n",
              "    <tr>\n",
              "      <th>count</th>\n",
              "      <td>7060</td>\n",
              "      <td>7060.000000</td>\n",
              "      <td>7060</td>\n",
              "      <td>7060.000000</td>\n",
              "      <td>7060</td>\n",
              "      <td>7060.000000</td>\n",
              "      <td>7060</td>\n",
              "      <td>7060.000000</td>\n",
              "      <td>7060</td>\n",
              "      <td>7060</td>\n",
              "      <td>7060</td>\n",
              "      <td>7060.000000</td>\n",
              "    </tr>\n",
              "    <tr>\n",
              "      <th>unique</th>\n",
              "      <td>1555</td>\n",
              "      <td>NaN</td>\n",
              "      <td>5</td>\n",
              "      <td>NaN</td>\n",
              "      <td>16</td>\n",
              "      <td>NaN</td>\n",
              "      <td>8</td>\n",
              "      <td>NaN</td>\n",
              "      <td>3</td>\n",
              "      <td>3</td>\n",
              "      <td>3</td>\n",
              "      <td>NaN</td>\n",
              "    </tr>\n",
              "    <tr>\n",
              "      <th>top</th>\n",
              "      <td>NCJ30</td>\n",
              "      <td>NaN</td>\n",
              "      <td>Low Fat</td>\n",
              "      <td>NaN</td>\n",
              "      <td>Fruits and Vegetables</td>\n",
              "      <td>NaN</td>\n",
              "      <td>OUT013</td>\n",
              "      <td>NaN</td>\n",
              "      <td>Small</td>\n",
              "      <td>Tier 2</td>\n",
              "      <td>Supermarket Type1</td>\n",
              "      <td>NaN</td>\n",
              "    </tr>\n",
              "    <tr>\n",
              "      <th>freq</th>\n",
              "      <td>8</td>\n",
              "      <td>NaN</td>\n",
              "      <td>4222</td>\n",
              "      <td>NaN</td>\n",
              "      <td>1019</td>\n",
              "      <td>NaN</td>\n",
              "      <td>932</td>\n",
              "      <td>NaN</td>\n",
              "      <td>4270</td>\n",
              "      <td>2785</td>\n",
              "      <td>5577</td>\n",
              "      <td>NaN</td>\n",
              "    </tr>\n",
              "    <tr>\n",
              "      <th>mean</th>\n",
              "      <td>NaN</td>\n",
              "      <td>12.857645</td>\n",
              "      <td>NaN</td>\n",
              "      <td>0.063963</td>\n",
              "      <td>NaN</td>\n",
              "      <td>141.240683</td>\n",
              "      <td>NaN</td>\n",
              "      <td>2000.490935</td>\n",
              "      <td>NaN</td>\n",
              "      <td>NaN</td>\n",
              "      <td>NaN</td>\n",
              "      <td>2118.626808</td>\n",
              "    </tr>\n",
              "    <tr>\n",
              "      <th>std</th>\n",
              "      <td>NaN</td>\n",
              "      <td>4.643456</td>\n",
              "      <td>NaN</td>\n",
              "      <td>0.048625</td>\n",
              "      <td>NaN</td>\n",
              "      <td>62.411888</td>\n",
              "      <td>NaN</td>\n",
              "      <td>6.588984</td>\n",
              "      <td>NaN</td>\n",
              "      <td>NaN</td>\n",
              "      <td>NaN</td>\n",
              "      <td>1533.445842</td>\n",
              "    </tr>\n",
              "    <tr>\n",
              "      <th>min</th>\n",
              "      <td>NaN</td>\n",
              "      <td>4.555000</td>\n",
              "      <td>NaN</td>\n",
              "      <td>0.000000</td>\n",
              "      <td>NaN</td>\n",
              "      <td>31.490000</td>\n",
              "      <td>NaN</td>\n",
              "      <td>1987.000000</td>\n",
              "      <td>NaN</td>\n",
              "      <td>NaN</td>\n",
              "      <td>NaN</td>\n",
              "      <td>33.290000</td>\n",
              "    </tr>\n",
              "    <tr>\n",
              "      <th>25%</th>\n",
              "      <td>NaN</td>\n",
              "      <td>8.773750</td>\n",
              "      <td>NaN</td>\n",
              "      <td>0.026768</td>\n",
              "      <td>NaN</td>\n",
              "      <td>94.143600</td>\n",
              "      <td>NaN</td>\n",
              "      <td>1997.000000</td>\n",
              "      <td>NaN</td>\n",
              "      <td>NaN</td>\n",
              "      <td>NaN</td>\n",
              "      <td>922.798800</td>\n",
              "    </tr>\n",
              "    <tr>\n",
              "      <th>50%</th>\n",
              "      <td>NaN</td>\n",
              "      <td>12.600000</td>\n",
              "      <td>NaN</td>\n",
              "      <td>0.052493</td>\n",
              "      <td>NaN</td>\n",
              "      <td>142.729900</td>\n",
              "      <td>NaN</td>\n",
              "      <td>2002.000000</td>\n",
              "      <td>NaN</td>\n",
              "      <td>NaN</td>\n",
              "      <td>NaN</td>\n",
              "      <td>1789.670400</td>\n",
              "    </tr>\n",
              "    <tr>\n",
              "      <th>75%</th>\n",
              "      <td>NaN</td>\n",
              "      <td>16.850000</td>\n",
              "      <td>NaN</td>\n",
              "      <td>0.092774</td>\n",
              "      <td>NaN</td>\n",
              "      <td>186.024000</td>\n",
              "      <td>NaN</td>\n",
              "      <td>2007.000000</td>\n",
              "      <td>NaN</td>\n",
              "      <td>NaN</td>\n",
              "      <td>NaN</td>\n",
              "      <td>2966.139000</td>\n",
              "    </tr>\n",
              "    <tr>\n",
              "      <th>max</th>\n",
              "      <td>NaN</td>\n",
              "      <td>21.350000</td>\n",
              "      <td>NaN</td>\n",
              "      <td>0.311090</td>\n",
              "      <td>NaN</td>\n",
              "      <td>266.888400</td>\n",
              "      <td>NaN</td>\n",
              "      <td>2009.000000</td>\n",
              "      <td>NaN</td>\n",
              "      <td>NaN</td>\n",
              "      <td>NaN</td>\n",
              "      <td>10256.649000</td>\n",
              "    </tr>\n",
              "  </tbody>\n",
              "</table>\n",
              "</div>"
            ],
            "text/plain": [
              "       Item_Identifier  Item_Weight Item_Fat_Content  Item_Visibility  \\\n",
              "count             7060  7060.000000             7060      7060.000000   \n",
              "unique            1555          NaN                5              NaN   \n",
              "top              NCJ30          NaN          Low Fat              NaN   \n",
              "freq                 8          NaN             4222              NaN   \n",
              "mean               NaN    12.857645              NaN         0.063963   \n",
              "std                NaN     4.643456              NaN         0.048625   \n",
              "min                NaN     4.555000              NaN         0.000000   \n",
              "25%                NaN     8.773750              NaN         0.026768   \n",
              "50%                NaN    12.600000              NaN         0.052493   \n",
              "75%                NaN    16.850000              NaN         0.092774   \n",
              "max                NaN    21.350000              NaN         0.311090   \n",
              "\n",
              "                    Item_Type     Item_MRP Outlet_Identifier  \\\n",
              "count                    7060  7060.000000              7060   \n",
              "unique                     16          NaN                 8   \n",
              "top     Fruits and Vegetables          NaN            OUT013   \n",
              "freq                     1019          NaN               932   \n",
              "mean                      NaN   141.240683               NaN   \n",
              "std                       NaN    62.411888               NaN   \n",
              "min                       NaN    31.490000               NaN   \n",
              "25%                       NaN    94.143600               NaN   \n",
              "50%                       NaN   142.729900               NaN   \n",
              "75%                       NaN   186.024000               NaN   \n",
              "max                       NaN   266.888400               NaN   \n",
              "\n",
              "        Outlet_Establishment_Year Outlet_Size Outlet_Location_Type  \\\n",
              "count                 7060.000000        7060                 7060   \n",
              "unique                        NaN           3                    3   \n",
              "top                           NaN       Small               Tier 2   \n",
              "freq                          NaN        4270                 2785   \n",
              "mean                  2000.490935         NaN                  NaN   \n",
              "std                      6.588984         NaN                  NaN   \n",
              "min                   1987.000000         NaN                  NaN   \n",
              "25%                   1997.000000         NaN                  NaN   \n",
              "50%                   2002.000000         NaN                  NaN   \n",
              "75%                   2007.000000         NaN                  NaN   \n",
              "max                   2009.000000         NaN                  NaN   \n",
              "\n",
              "              Outlet_Type  Item_Outlet_Sales  \n",
              "count                7060        7060.000000  \n",
              "unique                  3                NaN  \n",
              "top     Supermarket Type1                NaN  \n",
              "freq                 5577                NaN  \n",
              "mean                  NaN        2118.626808  \n",
              "std                   NaN        1533.445842  \n",
              "min                   NaN          33.290000  \n",
              "25%                   NaN         922.798800  \n",
              "50%                   NaN        1789.670400  \n",
              "75%                   NaN        2966.139000  \n",
              "max                   NaN       10256.649000  "
            ]
          },
          "metadata": {
            "tags": []
          },
          "execution_count": 119
        }
      ]
    },
    {
      "cell_type": "code",
      "metadata": {
        "id": "qDpmN-NMB5bV",
        "colab_type": "code",
        "colab": {},
        "outputId": "780afd69-ef30-468c-c225-35098fef98a3"
      },
      "source": [
        " average_weight = dataset.pivot_table(index ='Item_Identifier',values = 'Item_Weight')\n",
        "average_weight.describe()"
      ],
      "execution_count": 0,
      "outputs": [
        {
          "output_type": "execute_result",
          "data": {
            "text/html": [
              "<div>\n",
              "<style scoped>\n",
              "    .dataframe tbody tr th:only-of-type {\n",
              "        vertical-align: middle;\n",
              "    }\n",
              "\n",
              "    .dataframe tbody tr th {\n",
              "        vertical-align: top;\n",
              "    }\n",
              "\n",
              "    .dataframe thead th {\n",
              "        text-align: right;\n",
              "    }\n",
              "</style>\n",
              "<table border=\"1\" class=\"dataframe\">\n",
              "  <thead>\n",
              "    <tr style=\"text-align: right;\">\n",
              "      <th></th>\n",
              "      <th>Item_Weight</th>\n",
              "    </tr>\n",
              "  </thead>\n",
              "  <tbody>\n",
              "    <tr>\n",
              "      <th>count</th>\n",
              "      <td>1555.000000</td>\n",
              "    </tr>\n",
              "    <tr>\n",
              "      <th>mean</th>\n",
              "      <td>12.808553</td>\n",
              "    </tr>\n",
              "    <tr>\n",
              "      <th>std</th>\n",
              "      <td>4.652088</td>\n",
              "    </tr>\n",
              "    <tr>\n",
              "      <th>min</th>\n",
              "      <td>4.555000</td>\n",
              "    </tr>\n",
              "    <tr>\n",
              "      <th>25%</th>\n",
              "      <td>8.710000</td>\n",
              "    </tr>\n",
              "    <tr>\n",
              "      <th>50%</th>\n",
              "      <td>12.600000</td>\n",
              "    </tr>\n",
              "    <tr>\n",
              "      <th>75%</th>\n",
              "      <td>16.750000</td>\n",
              "    </tr>\n",
              "    <tr>\n",
              "      <th>max</th>\n",
              "      <td>21.350000</td>\n",
              "    </tr>\n",
              "  </tbody>\n",
              "</table>\n",
              "</div>"
            ],
            "text/plain": [
              "       Item_Weight\n",
              "count  1555.000000\n",
              "mean     12.808553\n",
              "std       4.652088\n",
              "min       4.555000\n",
              "25%       8.710000\n",
              "50%      12.600000\n",
              "75%      16.750000\n",
              "max      21.350000"
            ]
          },
          "metadata": {
            "tags": []
          },
          "execution_count": 118
        }
      ]
    },
    {
      "cell_type": "code",
      "metadata": {
        "id": "kuqC1kssB5ba",
        "colab_type": "code",
        "colab": {},
        "outputId": "b7dbeb73-af8e-43a4-82c3-26468a63f029"
      },
      "source": [
        "def impute_weight(cols):\n",
        "    Weight = cols[0]\n",
        "    Identifier = cols[1]\n",
        "    if pd.isnull(Weight):\n",
        "        return average_weight['Item_Weight'][average_weight.index == Identifier]\n",
        "    else:\n",
        "        return weight\n",
        "        dataset['Item_Weight'] = dataset[['Item_Weight','Item_Identifier']].apply(impute_weight,axis=1).astype(float)\n",
        "dataset.isnull().sum()"
      ],
      "execution_count": 0,
      "outputs": [
        {
          "output_type": "execute_result",
          "data": {
            "text/plain": [
              "Item_Identifier              0\n",
              "Item_Weight                  0\n",
              "Item_Fat_Content             0\n",
              "Item_Visibility              0\n",
              "Item_Type                    0\n",
              "Item_MRP                     0\n",
              "Outlet_Identifier            0\n",
              "Outlet_Establishment_Year    0\n",
              "Outlet_Size                  0\n",
              "Outlet_Location_Type         0\n",
              "Outlet_Type                  0\n",
              "Item_Outlet_Sales            0\n",
              "dtype: int64"
            ]
          },
          "metadata": {
            "tags": []
          },
          "execution_count": 120
        }
      ]
    },
    {
      "cell_type": "code",
      "metadata": {
        "id": "YgRKTtHZB5bi",
        "colab_type": "code",
        "colab": {}
      },
      "source": [
        "dataset.loc[927,:].Item_weight = 12.782404\n",
        "dataset.loc[1922,:].Item_Weight = 13.031230\n",
        "dataset.loc[4187,:].Item_Weight = 13.379905\n",
        "dataset.loc[5022,:].Item_Weight = 12.285317\n",
        "dataset.isnull().sum()"
      ],
      "execution_count": 0,
      "outputs": []
    },
    {
      "cell_type": "code",
      "metadata": {
        "id": "lXj9KX5GB5bq",
        "colab_type": "code",
        "colab": {}
      },
      "source": [
        " average_size = dataset.pivot_table(values = 'Outlet_Size',columns='Outlet_Type',aggfunc=lambda x:x.mode())"
      ],
      "execution_count": 0,
      "outputs": []
    },
    {
      "cell_type": "code",
      "metadata": {
        "id": "siJ2qZNxB5bw",
        "colab_type": "code",
        "colab": {},
        "outputId": "408f0caf-85ad-46d6-8f7e-1e307343eea4"
      },
      "source": [
        " average_size.T"
      ],
      "execution_count": 0,
      "outputs": [
        {
          "output_type": "execute_result",
          "data": {
            "text/html": [
              "<div>\n",
              "<style scoped>\n",
              "    .dataframe tbody tr th:only-of-type {\n",
              "        vertical-align: middle;\n",
              "    }\n",
              "\n",
              "    .dataframe tbody tr th {\n",
              "        vertical-align: top;\n",
              "    }\n",
              "\n",
              "    .dataframe thead th {\n",
              "        text-align: right;\n",
              "    }\n",
              "</style>\n",
              "<table border=\"1\" class=\"dataframe\">\n",
              "  <thead>\n",
              "    <tr style=\"text-align: right;\">\n",
              "      <th></th>\n",
              "      <th>Outlet_Size</th>\n",
              "    </tr>\n",
              "    <tr>\n",
              "      <th>Outlet_Type</th>\n",
              "      <th></th>\n",
              "    </tr>\n",
              "  </thead>\n",
              "  <tbody>\n",
              "    <tr>\n",
              "      <th>Grocery Store</th>\n",
              "      <td>Small</td>\n",
              "    </tr>\n",
              "    <tr>\n",
              "      <th>Supermarket Type1</th>\n",
              "      <td>Small</td>\n",
              "    </tr>\n",
              "    <tr>\n",
              "      <th>Supermarket Type2</th>\n",
              "      <td>Medium</td>\n",
              "    </tr>\n",
              "  </tbody>\n",
              "</table>\n",
              "</div>"
            ],
            "text/plain": [
              "                  Outlet_Size\n",
              "Outlet_Type                  \n",
              "Grocery Store           Small\n",
              "Supermarket Type1       Small\n",
              "Supermarket Type2      Medium"
            ]
          },
          "metadata": {
            "tags": []
          },
          "execution_count": 124
        }
      ]
    },
    {
      "cell_type": "code",
      "metadata": {
        "id": "aqO7wtijB5b2",
        "colab_type": "code",
        "colab": {}
      },
      "source": [
        " def impute_size(x):\n",
        "    size = x[0]\n",
        "    index = x[1]\n",
        "    new_size =''\n",
        "    if pd.isnull(size):\n",
        "        new_size = average_size.loc['Outlet_Size'][average_size.columns == index][0]\n",
        "    else:\n",
        "        new_size = size\n",
        "    return new_size"
      ],
      "execution_count": 0,
      "outputs": []
    },
    {
      "cell_type": "code",
      "metadata": {
        "id": "t2YgAW_pB5b7",
        "colab_type": "code",
        "colab": {},
        "outputId": "ae414061-1ee9-4c82-927a-6756916be469"
      },
      "source": [
        "dataset['Outlet_Size'] = dataset[['Outlet_Size','Outlet_Type']].apply(impute_size,axis =1)\n",
        "sns.heatmap(dataset.isnull(),cbar=False,cmap = 'summer')\n",
        "plt.show()"
      ],
      "execution_count": 0,
      "outputs": [
        {
          "output_type": "display_data",
          "data": {
            "image/png": "[encoded data removed]",
            "text/plain": [
              "<Figure size 720x576 with 1 Axes>"
            ]
          },
          "metadata": {
            "tags": []
          }
        }
      ]
    },
    {
      "cell_type": "code",
      "metadata": {
        "id": "SS88MaJWB5cC",
        "colab_type": "code",
        "colab": {},
        "outputId": "e668fee5-e246-4c3a-fa9a-6057c0944dc0"
      },
      "source": [
        "dataset.isnull().sum()"
      ],
      "execution_count": 0,
      "outputs": [
        {
          "output_type": "execute_result",
          "data": {
            "text/plain": [
              "Item_Identifier              0\n",
              "Item_Weight                  0\n",
              "Item_Fat_Content             0\n",
              "Item_Visibility              0\n",
              "Item_Type                    0\n",
              "Item_MRP                     0\n",
              "Outlet_Identifier            0\n",
              "Outlet_Establishment_Year    0\n",
              "Outlet_Size                  0\n",
              "Outlet_Location_Type         0\n",
              "Outlet_Type                  0\n",
              "Item_Outlet_Sales            0\n",
              "dtype: int64"
            ]
          },
          "metadata": {
            "tags": []
          },
          "execution_count": 129
        }
      ]
    },
    {
      "cell_type": "code",
      "metadata": {
        "id": "-JVSlFCAB5cI",
        "colab_type": "code",
        "colab": {},
        "outputId": "21a329eb-11d6-424f-d714-b53f218b78f4"
      },
      "source": [
        "dataset = dataset.dropna(axis=0,how='any')\n",
        "dataset.isnull().sum()"
      ],
      "execution_count": 0,
      "outputs": [
        {
          "output_type": "execute_result",
          "data": {
            "text/plain": [
              "Item_Identifier              0\n",
              "Item_Weight                  0\n",
              "Item_Fat_Content             0\n",
              "Item_Visibility              0\n",
              "Item_Type                    0\n",
              "Item_MRP                     0\n",
              "Outlet_Identifier            0\n",
              "Outlet_Establishment_Year    0\n",
              "Outlet_Size                  0\n",
              "Outlet_Location_Type         0\n",
              "Outlet_Type                  0\n",
              "Item_Outlet_Sales            0\n",
              "dtype: int64"
            ]
          },
          "metadata": {
            "tags": []
          },
          "execution_count": 51
        }
      ]
    },
    {
      "cell_type": "code",
      "metadata": {
        "id": "k_aUhSaOB5cS",
        "colab_type": "code",
        "colab": {}
      },
      "source": [
        "average_visibility = dataset.pivot_table(index ='Item_Identifier',values='Item_Visibility')"
      ],
      "execution_count": 0,
      "outputs": []
    },
    {
      "cell_type": "code",
      "metadata": {
        "id": "WvNr4iFkB5cW",
        "colab_type": "code",
        "colab": {},
        "outputId": "0d4f24f5-7a4f-48fa-b0d9-576966b88038"
      },
      "source": [
        " average_visibility.describe()"
      ],
      "execution_count": 0,
      "outputs": [
        {
          "output_type": "execute_result",
          "data": {
            "text/html": [
              "<div>\n",
              "<style scoped>\n",
              "    .dataframe tbody tr th:only-of-type {\n",
              "        vertical-align: middle;\n",
              "    }\n",
              "\n",
              "    .dataframe tbody tr th {\n",
              "        vertical-align: top;\n",
              "    }\n",
              "\n",
              "    .dataframe thead th {\n",
              "        text-align: right;\n",
              "    }\n",
              "</style>\n",
              "<table border=\"1\" class=\"dataframe\">\n",
              "  <thead>\n",
              "    <tr style=\"text-align: right;\">\n",
              "      <th></th>\n",
              "      <th>Item_Visibility</th>\n",
              "    </tr>\n",
              "  </thead>\n",
              "  <tbody>\n",
              "    <tr>\n",
              "      <th>count</th>\n",
              "      <td>1555.000000</td>\n",
              "    </tr>\n",
              "    <tr>\n",
              "      <th>mean</th>\n",
              "      <td>0.063383</td>\n",
              "    </tr>\n",
              "    <tr>\n",
              "      <th>std</th>\n",
              "      <td>0.042971</td>\n",
              "    </tr>\n",
              "    <tr>\n",
              "      <th>min</th>\n",
              "      <td>0.000000</td>\n",
              "    </tr>\n",
              "    <tr>\n",
              "      <th>25%</th>\n",
              "      <td>0.029039</td>\n",
              "    </tr>\n",
              "    <tr>\n",
              "      <th>50%</th>\n",
              "      <td>0.052115</td>\n",
              "    </tr>\n",
              "    <tr>\n",
              "      <th>75%</th>\n",
              "      <td>0.089684</td>\n",
              "    </tr>\n",
              "    <tr>\n",
              "      <th>max</th>\n",
              "      <td>0.223469</td>\n",
              "    </tr>\n",
              "  </tbody>\n",
              "</table>\n",
              "</div>"
            ],
            "text/plain": [
              "       Item_Visibility\n",
              "count      1555.000000\n",
              "mean          0.063383\n",
              "std           0.042971\n",
              "min           0.000000\n",
              "25%           0.029039\n",
              "50%           0.052115\n",
              "75%           0.089684\n",
              "max           0.223469"
            ]
          },
          "metadata": {
            "tags": []
          },
          "execution_count": 131
        }
      ]
    },
    {
      "cell_type": "code",
      "metadata": {
        "id": "Y6L0A5W2B5ca",
        "colab_type": "code",
        "colab": {},
        "outputId": "71854481-120b-445e-b37c-7d3d1f9db008"
      },
      "source": [
        " def impute_visibility(x):\n",
        "    identity = x[0]\n",
        "    vis = x[1]\n",
        "    new_vis = 0.0\n",
        "    if vis == 0:\n",
        "        new_vis = average_visibility['Item_Visibility'][average_visibility.index == identity]\n",
        "    else:\n",
        "        new_vis = vis\n",
        "        return new_vis\n",
        "        dataset['Item_Visibility'] = dataset[['Item_Identifier','Item_Visibility']].apply(impute_visibility,axis=1\n",
        ").astype('float')\n",
        "dataset.describe(include='all') "
      ],
      "execution_count": 0,
      "outputs": [
        {
          "output_type": "execute_result",
          "data": {
            "text/html": [
              "<div>\n",
              "<style scoped>\n",
              "    .dataframe tbody tr th:only-of-type {\n",
              "        vertical-align: middle;\n",
              "    }\n",
              "\n",
              "    .dataframe tbody tr th {\n",
              "        vertical-align: top;\n",
              "    }\n",
              "\n",
              "    .dataframe thead th {\n",
              "        text-align: right;\n",
              "    }\n",
              "</style>\n",
              "<table border=\"1\" class=\"dataframe\">\n",
              "  <thead>\n",
              "    <tr style=\"text-align: right;\">\n",
              "      <th></th>\n",
              "      <th>Item_Identifier</th>\n",
              "      <th>Item_Weight</th>\n",
              "      <th>Item_Fat_Content</th>\n",
              "      <th>Item_Visibility</th>\n",
              "      <th>Item_Type</th>\n",
              "      <th>Item_MRP</th>\n",
              "      <th>Outlet_Identifier</th>\n",
              "      <th>Outlet_Establishment_Year</th>\n",
              "      <th>Outlet_Size</th>\n",
              "      <th>Outlet_Location_Type</th>\n",
              "      <th>Outlet_Type</th>\n",
              "      <th>Item_Outlet_Sales</th>\n",
              "    </tr>\n",
              "  </thead>\n",
              "  <tbody>\n",
              "    <tr>\n",
              "      <th>count</th>\n",
              "      <td>7060</td>\n",
              "      <td>7060.000000</td>\n",
              "      <td>7060</td>\n",
              "      <td>7060.000000</td>\n",
              "      <td>7060</td>\n",
              "      <td>7060.000000</td>\n",
              "      <td>7060</td>\n",
              "      <td>7060.000000</td>\n",
              "      <td>7060</td>\n",
              "      <td>7060</td>\n",
              "      <td>7060</td>\n",
              "      <td>7060.000000</td>\n",
              "    </tr>\n",
              "    <tr>\n",
              "      <th>unique</th>\n",
              "      <td>1555</td>\n",
              "      <td>NaN</td>\n",
              "      <td>5</td>\n",
              "      <td>NaN</td>\n",
              "      <td>16</td>\n",
              "      <td>NaN</td>\n",
              "      <td>8</td>\n",
              "      <td>NaN</td>\n",
              "      <td>3</td>\n",
              "      <td>3</td>\n",
              "      <td>3</td>\n",
              "      <td>NaN</td>\n",
              "    </tr>\n",
              "    <tr>\n",
              "      <th>top</th>\n",
              "      <td>NCJ30</td>\n",
              "      <td>NaN</td>\n",
              "      <td>Low Fat</td>\n",
              "      <td>NaN</td>\n",
              "      <td>Fruits and Vegetables</td>\n",
              "      <td>NaN</td>\n",
              "      <td>OUT013</td>\n",
              "      <td>NaN</td>\n",
              "      <td>Small</td>\n",
              "      <td>Tier 2</td>\n",
              "      <td>Supermarket Type1</td>\n",
              "      <td>NaN</td>\n",
              "    </tr>\n",
              "    <tr>\n",
              "      <th>freq</th>\n",
              "      <td>8</td>\n",
              "      <td>NaN</td>\n",
              "      <td>4222</td>\n",
              "      <td>NaN</td>\n",
              "      <td>1019</td>\n",
              "      <td>NaN</td>\n",
              "      <td>932</td>\n",
              "      <td>NaN</td>\n",
              "      <td>4270</td>\n",
              "      <td>2785</td>\n",
              "      <td>5577</td>\n",
              "      <td>NaN</td>\n",
              "    </tr>\n",
              "    <tr>\n",
              "      <th>mean</th>\n",
              "      <td>NaN</td>\n",
              "      <td>12.857645</td>\n",
              "      <td>NaN</td>\n",
              "      <td>0.063963</td>\n",
              "      <td>NaN</td>\n",
              "      <td>141.240683</td>\n",
              "      <td>NaN</td>\n",
              "      <td>2000.490935</td>\n",
              "      <td>NaN</td>\n",
              "      <td>NaN</td>\n",
              "      <td>NaN</td>\n",
              "      <td>2118.626808</td>\n",
              "    </tr>\n",
              "    <tr>\n",
              "      <th>std</th>\n",
              "      <td>NaN</td>\n",
              "      <td>4.643456</td>\n",
              "      <td>NaN</td>\n",
              "      <td>0.048625</td>\n",
              "      <td>NaN</td>\n",
              "      <td>62.411888</td>\n",
              "      <td>NaN</td>\n",
              "      <td>6.588984</td>\n",
              "      <td>NaN</td>\n",
              "      <td>NaN</td>\n",
              "      <td>NaN</td>\n",
              "      <td>1533.445842</td>\n",
              "    </tr>\n",
              "    <tr>\n",
              "      <th>min</th>\n",
              "      <td>NaN</td>\n",
              "      <td>4.555000</td>\n",
              "      <td>NaN</td>\n",
              "      <td>0.000000</td>\n",
              "      <td>NaN</td>\n",
              "      <td>31.490000</td>\n",
              "      <td>NaN</td>\n",
              "      <td>1987.000000</td>\n",
              "      <td>NaN</td>\n",
              "      <td>NaN</td>\n",
              "      <td>NaN</td>\n",
              "      <td>33.290000</td>\n",
              "    </tr>\n",
              "    <tr>\n",
              "      <th>25%</th>\n",
              "      <td>NaN</td>\n",
              "      <td>8.773750</td>\n",
              "      <td>NaN</td>\n",
              "      <td>0.026768</td>\n",
              "      <td>NaN</td>\n",
              "      <td>94.143600</td>\n",
              "      <td>NaN</td>\n",
              "      <td>1997.000000</td>\n",
              "      <td>NaN</td>\n",
              "      <td>NaN</td>\n",
              "      <td>NaN</td>\n",
              "      <td>922.798800</td>\n",
              "    </tr>\n",
              "    <tr>\n",
              "      <th>50%</th>\n",
              "      <td>NaN</td>\n",
              "      <td>12.600000</td>\n",
              "      <td>NaN</td>\n",
              "      <td>0.052493</td>\n",
              "      <td>NaN</td>\n",
              "      <td>142.729900</td>\n",
              "      <td>NaN</td>\n",
              "      <td>2002.000000</td>\n",
              "      <td>NaN</td>\n",
              "      <td>NaN</td>\n",
              "      <td>NaN</td>\n",
              "      <td>1789.670400</td>\n",
              "    </tr>\n",
              "    <tr>\n",
              "      <th>75%</th>\n",
              "      <td>NaN</td>\n",
              "      <td>16.850000</td>\n",
              "      <td>NaN</td>\n",
              "      <td>0.092774</td>\n",
              "      <td>NaN</td>\n",
              "      <td>186.024000</td>\n",
              "      <td>NaN</td>\n",
              "      <td>2007.000000</td>\n",
              "      <td>NaN</td>\n",
              "      <td>NaN</td>\n",
              "      <td>NaN</td>\n",
              "      <td>2966.139000</td>\n",
              "    </tr>\n",
              "    <tr>\n",
              "      <th>max</th>\n",
              "      <td>NaN</td>\n",
              "      <td>21.350000</td>\n",
              "      <td>NaN</td>\n",
              "      <td>0.311090</td>\n",
              "      <td>NaN</td>\n",
              "      <td>266.888400</td>\n",
              "      <td>NaN</td>\n",
              "      <td>2009.000000</td>\n",
              "      <td>NaN</td>\n",
              "      <td>NaN</td>\n",
              "      <td>NaN</td>\n",
              "      <td>10256.649000</td>\n",
              "    </tr>\n",
              "  </tbody>\n",
              "</table>\n",
              "</div>"
            ],
            "text/plain": [
              "       Item_Identifier  Item_Weight Item_Fat_Content  Item_Visibility  \\\n",
              "count             7060  7060.000000             7060      7060.000000   \n",
              "unique            1555          NaN                5              NaN   \n",
              "top              NCJ30          NaN          Low Fat              NaN   \n",
              "freq                 8          NaN             4222              NaN   \n",
              "mean               NaN    12.857645              NaN         0.063963   \n",
              "std                NaN     4.643456              NaN         0.048625   \n",
              "min                NaN     4.555000              NaN         0.000000   \n",
              "25%                NaN     8.773750              NaN         0.026768   \n",
              "50%                NaN    12.600000              NaN         0.052493   \n",
              "75%                NaN    16.850000              NaN         0.092774   \n",
              "max                NaN    21.350000              NaN         0.311090   \n",
              "\n",
              "                    Item_Type     Item_MRP Outlet_Identifier  \\\n",
              "count                    7060  7060.000000              7060   \n",
              "unique                     16          NaN                 8   \n",
              "top     Fruits and Vegetables          NaN            OUT013   \n",
              "freq                     1019          NaN               932   \n",
              "mean                      NaN   141.240683               NaN   \n",
              "std                       NaN    62.411888               NaN   \n",
              "min                       NaN    31.490000               NaN   \n",
              "25%                       NaN    94.143600               NaN   \n",
              "50%                       NaN   142.729900               NaN   \n",
              "75%                       NaN   186.024000               NaN   \n",
              "max                       NaN   266.888400               NaN   \n",
              "\n",
              "        Outlet_Establishment_Year Outlet_Size Outlet_Location_Type  \\\n",
              "count                 7060.000000        7060                 7060   \n",
              "unique                        NaN           3                    3   \n",
              "top                           NaN       Small               Tier 2   \n",
              "freq                          NaN        4270                 2785   \n",
              "mean                  2000.490935         NaN                  NaN   \n",
              "std                      6.588984         NaN                  NaN   \n",
              "min                   1987.000000         NaN                  NaN   \n",
              "25%                   1997.000000         NaN                  NaN   \n",
              "50%                   2002.000000         NaN                  NaN   \n",
              "75%                   2007.000000         NaN                  NaN   \n",
              "max                   2009.000000         NaN                  NaN   \n",
              "\n",
              "              Outlet_Type  Item_Outlet_Sales  \n",
              "count                7060        7060.000000  \n",
              "unique                  3                NaN  \n",
              "top     Supermarket Type1                NaN  \n",
              "freq                 5577                NaN  \n",
              "mean                  NaN        2118.626808  \n",
              "std                   NaN        1533.445842  \n",
              "min                   NaN          33.290000  \n",
              "25%                   NaN         922.798800  \n",
              "50%                   NaN        1789.670400  \n",
              "75%                   NaN        2966.139000  \n",
              "max                   NaN       10256.649000  "
            ]
          },
          "metadata": {
            "tags": []
          },
          "execution_count": 133
        }
      ]
    },
    {
      "cell_type": "code",
      "metadata": {
        "id": "iD-fYA2EB5ce",
        "colab_type": "code",
        "colab": {},
        "outputId": "554ae24e-a8dd-42fc-8c50-ad0fb052a2a2"
      },
      "source": [
        "dataset.head(10)"
      ],
      "execution_count": 0,
      "outputs": [
        {
          "output_type": "execute_result",
          "data": {
            "text/html": [
              "<div>\n",
              "<style scoped>\n",
              "    .dataframe tbody tr th:only-of-type {\n",
              "        vertical-align: middle;\n",
              "    }\n",
              "\n",
              "    .dataframe tbody tr th {\n",
              "        vertical-align: top;\n",
              "    }\n",
              "\n",
              "    .dataframe thead th {\n",
              "        text-align: right;\n",
              "    }\n",
              "</style>\n",
              "<table border=\"1\" class=\"dataframe\">\n",
              "  <thead>\n",
              "    <tr style=\"text-align: right;\">\n",
              "      <th></th>\n",
              "      <th>Item_Identifier</th>\n",
              "      <th>Item_Weight</th>\n",
              "      <th>Item_Fat_Content</th>\n",
              "      <th>Item_Visibility</th>\n",
              "      <th>Item_Type</th>\n",
              "      <th>Item_MRP</th>\n",
              "      <th>Outlet_Identifier</th>\n",
              "      <th>Outlet_Establishment_Year</th>\n",
              "      <th>Outlet_Size</th>\n",
              "      <th>Outlet_Location_Type</th>\n",
              "      <th>Outlet_Type</th>\n",
              "      <th>Item_Outlet_Sales</th>\n",
              "    </tr>\n",
              "  </thead>\n",
              "  <tbody>\n",
              "    <tr>\n",
              "      <th>0</th>\n",
              "      <td>FDA15</td>\n",
              "      <td>9.300</td>\n",
              "      <td>Low Fat</td>\n",
              "      <td>0.016047</td>\n",
              "      <td>Dairy</td>\n",
              "      <td>249.8092</td>\n",
              "      <td>OUT049</td>\n",
              "      <td>1999</td>\n",
              "      <td>Medium</td>\n",
              "      <td>Tier 1</td>\n",
              "      <td>Supermarket Type1</td>\n",
              "      <td>3735.1380</td>\n",
              "    </tr>\n",
              "    <tr>\n",
              "      <th>1</th>\n",
              "      <td>DRC01</td>\n",
              "      <td>5.920</td>\n",
              "      <td>Regular</td>\n",
              "      <td>0.019278</td>\n",
              "      <td>Soft Drinks</td>\n",
              "      <td>48.2692</td>\n",
              "      <td>OUT018</td>\n",
              "      <td>2009</td>\n",
              "      <td>Medium</td>\n",
              "      <td>Tier 3</td>\n",
              "      <td>Supermarket Type2</td>\n",
              "      <td>443.4228</td>\n",
              "    </tr>\n",
              "    <tr>\n",
              "      <th>2</th>\n",
              "      <td>FDN15</td>\n",
              "      <td>17.500</td>\n",
              "      <td>Low Fat</td>\n",
              "      <td>0.016760</td>\n",
              "      <td>Meat</td>\n",
              "      <td>141.6180</td>\n",
              "      <td>OUT049</td>\n",
              "      <td>1999</td>\n",
              "      <td>Medium</td>\n",
              "      <td>Tier 1</td>\n",
              "      <td>Supermarket Type1</td>\n",
              "      <td>2097.2700</td>\n",
              "    </tr>\n",
              "    <tr>\n",
              "      <th>3</th>\n",
              "      <td>FDX07</td>\n",
              "      <td>19.200</td>\n",
              "      <td>Regular</td>\n",
              "      <td>0.000000</td>\n",
              "      <td>Fruits and Vegetables</td>\n",
              "      <td>182.0950</td>\n",
              "      <td>OUT010</td>\n",
              "      <td>1998</td>\n",
              "      <td>Small</td>\n",
              "      <td>Tier 3</td>\n",
              "      <td>Grocery Store</td>\n",
              "      <td>732.3800</td>\n",
              "    </tr>\n",
              "    <tr>\n",
              "      <th>4</th>\n",
              "      <td>NCD19</td>\n",
              "      <td>8.930</td>\n",
              "      <td>Low Fat</td>\n",
              "      <td>0.000000</td>\n",
              "      <td>Household</td>\n",
              "      <td>53.8614</td>\n",
              "      <td>OUT013</td>\n",
              "      <td>1987</td>\n",
              "      <td>High</td>\n",
              "      <td>Tier 3</td>\n",
              "      <td>Supermarket Type1</td>\n",
              "      <td>994.7052</td>\n",
              "    </tr>\n",
              "    <tr>\n",
              "      <th>5</th>\n",
              "      <td>FDP36</td>\n",
              "      <td>10.395</td>\n",
              "      <td>Regular</td>\n",
              "      <td>0.000000</td>\n",
              "      <td>Baking Goods</td>\n",
              "      <td>51.4008</td>\n",
              "      <td>OUT018</td>\n",
              "      <td>2009</td>\n",
              "      <td>Medium</td>\n",
              "      <td>Tier 3</td>\n",
              "      <td>Supermarket Type2</td>\n",
              "      <td>556.6088</td>\n",
              "    </tr>\n",
              "    <tr>\n",
              "      <th>6</th>\n",
              "      <td>FDO10</td>\n",
              "      <td>13.650</td>\n",
              "      <td>Regular</td>\n",
              "      <td>0.012741</td>\n",
              "      <td>Snack Foods</td>\n",
              "      <td>57.6588</td>\n",
              "      <td>OUT013</td>\n",
              "      <td>1987</td>\n",
              "      <td>High</td>\n",
              "      <td>Tier 3</td>\n",
              "      <td>Supermarket Type1</td>\n",
              "      <td>343.5528</td>\n",
              "    </tr>\n",
              "    <tr>\n",
              "      <th>8</th>\n",
              "      <td>FDH17</td>\n",
              "      <td>16.200</td>\n",
              "      <td>Regular</td>\n",
              "      <td>0.016687</td>\n",
              "      <td>Frozen Foods</td>\n",
              "      <td>96.9726</td>\n",
              "      <td>OUT045</td>\n",
              "      <td>2002</td>\n",
              "      <td>Small</td>\n",
              "      <td>Tier 2</td>\n",
              "      <td>Supermarket Type1</td>\n",
              "      <td>1076.5986</td>\n",
              "    </tr>\n",
              "    <tr>\n",
              "      <th>9</th>\n",
              "      <td>FDU28</td>\n",
              "      <td>19.200</td>\n",
              "      <td>Regular</td>\n",
              "      <td>0.094450</td>\n",
              "      <td>Frozen Foods</td>\n",
              "      <td>187.8214</td>\n",
              "      <td>OUT017</td>\n",
              "      <td>2007</td>\n",
              "      <td>Small</td>\n",
              "      <td>Tier 2</td>\n",
              "      <td>Supermarket Type1</td>\n",
              "      <td>4710.5350</td>\n",
              "    </tr>\n",
              "    <tr>\n",
              "      <th>10</th>\n",
              "      <td>FDY07</td>\n",
              "      <td>11.800</td>\n",
              "      <td>Low Fat</td>\n",
              "      <td>0.000000</td>\n",
              "      <td>Fruits and Vegetables</td>\n",
              "      <td>45.5402</td>\n",
              "      <td>OUT049</td>\n",
              "      <td>1999</td>\n",
              "      <td>Medium</td>\n",
              "      <td>Tier 1</td>\n",
              "      <td>Supermarket Type1</td>\n",
              "      <td>1516.0266</td>\n",
              "    </tr>\n",
              "  </tbody>\n",
              "</table>\n",
              "</div>"
            ],
            "text/plain": [
              "   Item_Identifier  Item_Weight Item_Fat_Content  Item_Visibility  \\\n",
              "0            FDA15        9.300          Low Fat         0.016047   \n",
              "1            DRC01        5.920          Regular         0.019278   \n",
              "2            FDN15       17.500          Low Fat         0.016760   \n",
              "3            FDX07       19.200          Regular         0.000000   \n",
              "4            NCD19        8.930          Low Fat         0.000000   \n",
              "5            FDP36       10.395          Regular         0.000000   \n",
              "6            FDO10       13.650          Regular         0.012741   \n",
              "8            FDH17       16.200          Regular         0.016687   \n",
              "9            FDU28       19.200          Regular         0.094450   \n",
              "10           FDY07       11.800          Low Fat         0.000000   \n",
              "\n",
              "                Item_Type  Item_MRP Outlet_Identifier  \\\n",
              "0                   Dairy  249.8092            OUT049   \n",
              "1             Soft Drinks   48.2692            OUT018   \n",
              "2                    Meat  141.6180            OUT049   \n",
              "3   Fruits and Vegetables  182.0950            OUT010   \n",
              "4               Household   53.8614            OUT013   \n",
              "5            Baking Goods   51.4008            OUT018   \n",
              "6             Snack Foods   57.6588            OUT013   \n",
              "8            Frozen Foods   96.9726            OUT045   \n",
              "9            Frozen Foods  187.8214            OUT017   \n",
              "10  Fruits and Vegetables   45.5402            OUT049   \n",
              "\n",
              "    Outlet_Establishment_Year Outlet_Size Outlet_Location_Type  \\\n",
              "0                        1999      Medium               Tier 1   \n",
              "1                        2009      Medium               Tier 3   \n",
              "2                        1999      Medium               Tier 1   \n",
              "3                        1998       Small               Tier 3   \n",
              "4                        1987        High               Tier 3   \n",
              "5                        2009      Medium               Tier 3   \n",
              "6                        1987        High               Tier 3   \n",
              "8                        2002       Small               Tier 2   \n",
              "9                        2007       Small               Tier 2   \n",
              "10                       1999      Medium               Tier 1   \n",
              "\n",
              "          Outlet_Type  Item_Outlet_Sales  \n",
              "0   Supermarket Type1          3735.1380  \n",
              "1   Supermarket Type2           443.4228  \n",
              "2   Supermarket Type1          2097.2700  \n",
              "3       Grocery Store           732.3800  \n",
              "4   Supermarket Type1           994.7052  \n",
              "5   Supermarket Type2           556.6088  \n",
              "6   Supermarket Type1           343.5528  \n",
              "8   Supermarket Type1          1076.5986  \n",
              "9   Supermarket Type1          4710.5350  \n",
              "10  Supermarket Type1          1516.0266  "
            ]
          },
          "metadata": {
            "tags": []
          },
          "execution_count": 134
        }
      ]
    },
    {
      "cell_type": "code",
      "metadata": {
        "id": "9qOSwnhbB5ck",
        "colab_type": "code",
        "colab": {},
        "outputId": "f62f7c09-1d9a-4a80-8f2f-c4c05bcc6add"
      },
      "source": [
        "dataset.Item_Weight.plot(kind='hist', color='green', edgecolor='black', figsize=(10,6), title='Histogram of Item_Weight')\n",
        "plt.show()"
      ],
      "execution_count": 0,
      "outputs": [
        {
          "output_type": "display_data",
          "data": {
            "image/png": "[encoded data removed]",
            "text/plain": [
              "<Figure size 720x432 with 1 Axes>"
            ]
          },
          "metadata": {
            "tags": []
          }
        }
      ]
    },
    {
      "cell_type": "code",
      "metadata": {
        "id": "bU_oEvydB5cq",
        "colab_type": "code",
        "colab": {},
        "outputId": "a11a3723-867f-49a9-bab4-7d5064c9b431"
      },
      "source": [
        " sns.countplot(y=dataset['Item_Type'])\n",
        "plt.show()"
      ],
      "execution_count": 0,
      "outputs": [
        {
          "output_type": "display_data",
          "data": {
            "image/png": "[encoded data removed]",
            "text/plain": [
              "<Figure size 720x576 with 1 Axes>"
            ]
          },
          "metadata": {
            "tags": []
          }
        }
      ]
    },
    {
      "cell_type": "code",
      "metadata": {
        "id": "GLxWqJJaB5cu",
        "colab_type": "code",
        "colab": {},
        "outputId": "03108e2d-3163-4085-a569-76783103a2c8"
      },
      "source": [
        " sns.countplot(dataset['Outlet_Size'])\n",
        "plt.show()"
      ],
      "execution_count": 0,
      "outputs": [
        {
          "output_type": "display_data",
          "data": {
            "image/png": "[encoded data removed]",
            "text/plain": [
              "<Figure size 720x576 with 1 Axes>"
            ]
          },
          "metadata": {
            "tags": []
          }
        }
      ]
    },
    {
      "cell_type": "code",
      "metadata": {
        "id": "eyxvsRzsB5cz",
        "colab_type": "code",
        "colab": {},
        "outputId": "6022a7f8-1f61-42e1-abe7-083e2773cd0c"
      },
      "source": [
        "sns.countplot(dataset['Outlet_Location_Type'])\n",
        "plt.show()"
      ],
      "execution_count": 0,
      "outputs": [
        {
          "output_type": "display_data",
          "data": {
            "image/png": "[encoded data removed]",
            "text/plain": [
              "<Figure size 720x576 with 1 Axes>"
            ]
          },
          "metadata": {
            "tags": []
          }
        }
      ]
    },
    {
      "cell_type": "code",
      "metadata": {
        "id": "9ZjGBTnZB5c4",
        "colab_type": "code",
        "colab": {},
        "outputId": "e8988ea3-28fa-46cc-8ff9-f31deca9b67c"
      },
      "source": [
        "sns.countplot(dataset['Outlet_Type'])\n",
        "plt.show()"
      ],
      "execution_count": 0,
      "outputs": [
        {
          "output_type": "display_data",
          "data": {
            "image/png": "[encoded data removed]",
            "text/plain": [
              "<Figure size 720x576 with 1 Axes>"
            ]
          },
          "metadata": {
            "tags": []
          }
        }
      ]
    },
    {
      "cell_type": "code",
      "metadata": {
        "id": "KIRTISSFB5c9",
        "colab_type": "code",
        "colab": {},
        "outputId": "476f40fd-62ac-4d52-d1f9-bfa302088224"
      },
      "source": [
        "sns.FacetGrid(data = dataset,row = 'Outlet_Type',size = 6).map(plt.hist,'Item_MRP')\n",
        "plt.show()"
      ],
      "execution_count": 0,
      "outputs": [
        {
          "output_type": "display_data",
          "data": {
            "image/png": "[encoded data removed]",
            "text/plain": [
              "<Figure size 432x1296 with 3 Axes>"
            ]
          },
          "metadata": {
            "tags": []
          }
        }
      ]
    },
    {
      "cell_type": "code",
      "metadata": {
        "id": "gijV0D5oB5dE",
        "colab_type": "code",
        "colab": {},
        "outputId": "590b2c00-ec56-4d24-d00f-c91c8c952018"
      },
      "source": [
        " # Split data into numerical data and categorical data for better visualization\n",
        "#num is for numerical data\n",
        "#cat is for categorical data\n",
        "num = dataset.select_dtypes(exclude ='object')\n",
        "cat = dataset.select_dtypes(include ='object')\n",
        "print(\"Shape of num is {} and of cat is {}\". format(num.shape,cat.shape))"
      ],
      "execution_count": 0,
      "outputs": [
        {
          "output_type": "stream",
          "text": [
            "Shape of num is (7060, 5) and of cat is (7060, 7)\n"
          ],
          "name": "stdout"
        }
      ]
    },
    {
      "cell_type": "code",
      "metadata": {
        "id": "4Fw3mCbLB5dI",
        "colab_type": "code",
        "colab": {},
        "outputId": "528c96d1-ce52-4ead-93e8-3eea69b85826"
      },
      "source": [
        " # Heat map for analyzing correlation with sales price\n",
        "corr = num.corr()\n",
        "sns.set(style='whitegrid',color_codes=True)\n",
        "plt.xticks(rotation=90)\n",
        "sns.heatmap(corr,cmap = plt.cm.cubehelix_r)"
      ],
      "execution_count": 0,
      "outputs": [
        {
          "output_type": "execute_result",
          "data": {
            "text/plain": [
              "<matplotlib.axes._subplots.AxesSubplot at 0xb3e8e25a20>"
            ]
          },
          "metadata": {
            "tags": []
          },
          "execution_count": 145
        },
        {
          "output_type": "display_data",
          "data": {
            "image/png": "[encoded data removed]",
            "text/plain": [
              "<Figure size 720x576 with 2 Axes>"
            ]
          },
          "metadata": {
            "tags": []
          }
        }
      ]
    },
    {
      "cell_type": "code",
      "metadata": {
        "id": "Jgzi_o8jB5dO",
        "colab_type": "code",
        "colab": {},
        "outputId": "129f0b0b-c063-4804-e204-1b7d2c9cde77"
      },
      "source": [
        " print(corr.Item_Outlet_Sales.sort_values(ascending = False))"
      ],
      "execution_count": 0,
      "outputs": [
        {
          "output_type": "stream",
          "text": [
            "Item_Outlet_Sales            1.000000\n",
            "Item_MRP                     0.620961\n",
            "Item_Weight                  0.014123\n",
            "Outlet_Establishment_Year    0.012212\n",
            "Item_Visibility             -0.085334\n",
            "Name: Item_Outlet_Sales, dtype: float64\n"
          ],
          "name": "stdout"
        }
      ]
    },
    {
      "cell_type": "code",
      "metadata": {
        "id": "ImSBUc9wB5dU",
        "colab_type": "code",
        "colab": {},
        "outputId": "41d6f8f0-9d77-46eb-862a-6fca62fe6114"
      },
      "source": [
        "# Lets visualize it with saleprice\n",
        "sns.jointplot(x='Item_MRP',y='Item_Outlet_Sales',size=8 ,data = dataset.sample(500),kind = 'reg')\n",
        "plt.show()"
      ],
      "execution_count": 0,
      "outputs": [
        {
          "output_type": "display_data",
          "data": {
            "image/png": "[encoded data removed]",
            "text/plain": [
              "<Figure size 576x576 with 3 Axes>"
            ]
          },
          "metadata": {
            "tags": []
          }
        }
      ]
    },
    {
      "cell_type": "code",
      "metadata": {
        "id": "QtMj3kdTB5dc",
        "colab_type": "code",
        "colab": {},
        "outputId": "db102fcf-fcb4-4091-a1aa-1bfad2bd014f"
      },
      "source": [
        "sns.jointplot(x='Item_Weight',y='Item_Outlet_Sales',size=8,kind='reg',data = dataset.sample(500))\n",
        "plt.show()"
      ],
      "execution_count": 0,
      "outputs": [
        {
          "output_type": "display_data",
          "data": {
            "image/png": "[encoded data removed]",
            "text/plain": [
              "<Figure size 576x576 with 3 Axes>"
            ]
          },
          "metadata": {
            "tags": []
          }
        }
      ]
    },
    {
      "cell_type": "code",
      "metadata": {
        "id": "IeBloj-JB5dm",
        "colab_type": "code",
        "colab": {},
        "outputId": "ffbb741f-9eb0-4f58-bdf2-155503c359b2"
      },
      "source": [
        " sns.jointplot(x='Item_Visibility',y='Item_Outlet_Sales',size=8,kind='reg',data = dataset.sample(500))\n",
        "plt.show()"
      ],
      "execution_count": 0,
      "outputs": [
        {
          "output_type": "display_data",
          "data": {
            "image/png": "[encoded data removed]",
            "text/plain": [
              "<Figure size 576x576 with 3 Axes>"
            ]
          },
          "metadata": {
            "tags": []
          }
        }
      ]
    },
    {
      "cell_type": "code",
      "metadata": {
        "id": "pSGHAb8uB5dq",
        "colab_type": "code",
        "colab": {}
      },
      "source": [
        "# We will use ANOVA for categorical correrlation with sale\n",
        "from scipy import stats\n",
        "cate = [f for f in dataset.columns if dataset.dtypes[f] == 'object']\n",
        "def anova(frame):\n",
        "    anv = pd.DataFrame()\n",
        "    anv['features'] = cate\n",
        "    pvals = []\n",
        "    for c in cate:\n",
        "        samples = []\n",
        "    for cls in frame[c].unique():\n",
        "        s = frame[frame[c] == cls]['Item_Outlet_Sales'].values\n",
        "        samples.append(s)\n",
        "        pval = stats.f_oneway(*samples)[1]\n",
        "        pvals.append(pval)\n",
        "        anv['pval'] = pvals\n",
        "    return anv.sort_values('pval')"
      ],
      "execution_count": 0,
      "outputs": []
    },
    {
      "cell_type": "code",
      "metadata": {
        "id": "QUYNOIEQB5dx",
        "colab_type": "code",
        "colab": {}
      },
      "source": [
        "int_features =['Item_MRP','Item_Weight','Item_Identifier','Outlet_Identifier','Outlet_Location_Type','Outlet_Size','Item_Type','Item_Outlet_Sales','Item_Fat_Content','Item_Visibility']\n",
        "s_dataset = dataset[int_features]"
      ],
      "execution_count": 0,
      "outputs": []
    },
    {
      "cell_type": "code",
      "metadata": {
        "id": "uC3kRpVDB5d1",
        "colab_type": "code",
        "colab": {},
        "outputId": "c6f31479-ee5b-451e-d243-6d07b991719a"
      },
      "source": [
        " s_dataset.head()"
      ],
      "execution_count": 0,
      "outputs": [
        {
          "output_type": "execute_result",
          "data": {
            "text/html": [
              "<div>\n",
              "<style scoped>\n",
              "    .dataframe tbody tr th:only-of-type {\n",
              "        vertical-align: middle;\n",
              "    }\n",
              "\n",
              "    .dataframe tbody tr th {\n",
              "        vertical-align: top;\n",
              "    }\n",
              "\n",
              "    .dataframe thead th {\n",
              "        text-align: right;\n",
              "    }\n",
              "</style>\n",
              "<table border=\"1\" class=\"dataframe\">\n",
              "  <thead>\n",
              "    <tr style=\"text-align: right;\">\n",
              "      <th></th>\n",
              "      <th>Item_MRP</th>\n",
              "      <th>Item_Weight</th>\n",
              "      <th>Item_Identifier</th>\n",
              "      <th>Outlet_Identifier</th>\n",
              "      <th>Outlet_Location_Type</th>\n",
              "      <th>Outlet_Size</th>\n",
              "      <th>Item_Type</th>\n",
              "      <th>Item_Outlet_Sales</th>\n",
              "      <th>Item_Fat_Content</th>\n",
              "      <th>Item_Visibility</th>\n",
              "    </tr>\n",
              "  </thead>\n",
              "  <tbody>\n",
              "    <tr>\n",
              "      <th>0</th>\n",
              "      <td>249.8092</td>\n",
              "      <td>9.30</td>\n",
              "      <td>FDA15</td>\n",
              "      <td>OUT049</td>\n",
              "      <td>Tier 1</td>\n",
              "      <td>Medium</td>\n",
              "      <td>Dairy</td>\n",
              "      <td>3735.1380</td>\n",
              "      <td>Low Fat</td>\n",
              "      <td>0.016047</td>\n",
              "    </tr>\n",
              "    <tr>\n",
              "      <th>1</th>\n",
              "      <td>48.2692</td>\n",
              "      <td>5.92</td>\n",
              "      <td>DRC01</td>\n",
              "      <td>OUT018</td>\n",
              "      <td>Tier 3</td>\n",
              "      <td>Medium</td>\n",
              "      <td>Soft Drinks</td>\n",
              "      <td>443.4228</td>\n",
              "      <td>Regular</td>\n",
              "      <td>0.019278</td>\n",
              "    </tr>\n",
              "    <tr>\n",
              "      <th>2</th>\n",
              "      <td>141.6180</td>\n",
              "      <td>17.50</td>\n",
              "      <td>FDN15</td>\n",
              "      <td>OUT049</td>\n",
              "      <td>Tier 1</td>\n",
              "      <td>Medium</td>\n",
              "      <td>Meat</td>\n",
              "      <td>2097.2700</td>\n",
              "      <td>Low Fat</td>\n",
              "      <td>0.016760</td>\n",
              "    </tr>\n",
              "    <tr>\n",
              "      <th>3</th>\n",
              "      <td>182.0950</td>\n",
              "      <td>19.20</td>\n",
              "      <td>FDX07</td>\n",
              "      <td>OUT010</td>\n",
              "      <td>Tier 3</td>\n",
              "      <td>Small</td>\n",
              "      <td>Fruits and Vegetables</td>\n",
              "      <td>732.3800</td>\n",
              "      <td>Regular</td>\n",
              "      <td>0.000000</td>\n",
              "    </tr>\n",
              "    <tr>\n",
              "      <th>4</th>\n",
              "      <td>53.8614</td>\n",
              "      <td>8.93</td>\n",
              "      <td>NCD19</td>\n",
              "      <td>OUT013</td>\n",
              "      <td>Tier 3</td>\n",
              "      <td>High</td>\n",
              "      <td>Household</td>\n",
              "      <td>994.7052</td>\n",
              "      <td>Low Fat</td>\n",
              "      <td>0.000000</td>\n",
              "    </tr>\n",
              "  </tbody>\n",
              "</table>\n",
              "</div>"
            ],
            "text/plain": [
              "   Item_MRP  Item_Weight Item_Identifier Outlet_Identifier  \\\n",
              "0  249.8092         9.30           FDA15            OUT049   \n",
              "1   48.2692         5.92           DRC01            OUT018   \n",
              "2  141.6180        17.50           FDN15            OUT049   \n",
              "3  182.0950        19.20           FDX07            OUT010   \n",
              "4   53.8614         8.93           NCD19            OUT013   \n",
              "\n",
              "  Outlet_Location_Type Outlet_Size              Item_Type  Item_Outlet_Sales  \\\n",
              "0               Tier 1      Medium                  Dairy          3735.1380   \n",
              "1               Tier 3      Medium            Soft Drinks           443.4228   \n",
              "2               Tier 1      Medium                   Meat          2097.2700   \n",
              "3               Tier 3       Small  Fruits and Vegetables           732.3800   \n",
              "4               Tier 3        High              Household           994.7052   \n",
              "\n",
              "  Item_Fat_Content  Item_Visibility  \n",
              "0          Low Fat         0.016047  \n",
              "1          Regular         0.019278  \n",
              "2          Low Fat         0.016760  \n",
              "3          Regular         0.000000  \n",
              "4          Low Fat         0.000000  "
            ]
          },
          "metadata": {
            "tags": []
          },
          "execution_count": 152
        }
      ]
    },
    {
      "cell_type": "code",
      "metadata": {
        "id": "EszvqF7IB5d6",
        "colab_type": "code",
        "colab": {}
      },
      "source": [
        "s_dataset['Item_Type_Combined'] = s_dataset['Item_Identifier'].map(lambda x : x[0:2])\n",
        "s_dataset.Item_Type_Combined = s_dataset.Item_Type_Combined.map({\"FD\":\"FOOD\",\"DR\":\"DRINK\",\"NC\":\"NON_CONSUMABLE\"})"
      ],
      "execution_count": 0,
      "outputs": []
    },
    {
      "cell_type": "code",
      "metadata": {
        "id": "Wv7lr1cEB5eH",
        "colab_type": "code",
        "colab": {},
        "outputId": "388c1c20-837b-4db4-9190-a1af08c09de0"
      },
      "source": [
        "s_dataset.head()"
      ],
      "execution_count": 0,
      "outputs": [
        {
          "output_type": "execute_result",
          "data": {
            "text/html": [
              "<div>\n",
              "<style scoped>\n",
              "    .dataframe tbody tr th:only-of-type {\n",
              "        vertical-align: middle;\n",
              "    }\n",
              "\n",
              "    .dataframe tbody tr th {\n",
              "        vertical-align: top;\n",
              "    }\n",
              "\n",
              "    .dataframe thead th {\n",
              "        text-align: right;\n",
              "    }\n",
              "</style>\n",
              "<table border=\"1\" class=\"dataframe\">\n",
              "  <thead>\n",
              "    <tr style=\"text-align: right;\">\n",
              "      <th></th>\n",
              "      <th>Item_MRP</th>\n",
              "      <th>Item_Weight</th>\n",
              "      <th>Item_Identifier</th>\n",
              "      <th>Outlet_Identifier</th>\n",
              "      <th>Outlet_Location_Type</th>\n",
              "      <th>Outlet_Size</th>\n",
              "      <th>Item_Type</th>\n",
              "      <th>Item_Outlet_Sales</th>\n",
              "      <th>Item_Fat_Content</th>\n",
              "      <th>Item_Visibility</th>\n",
              "      <th>Item_Costly</th>\n",
              "      <th>Item_Heavy</th>\n",
              "      <th>Item_Type_Combined</th>\n",
              "    </tr>\n",
              "  </thead>\n",
              "  <tbody>\n",
              "    <tr>\n",
              "      <th>0</th>\n",
              "      <td>249.8092</td>\n",
              "      <td>9.30</td>\n",
              "      <td>FDA15</td>\n",
              "      <td>OUT049</td>\n",
              "      <td>Tier 1</td>\n",
              "      <td>Medium</td>\n",
              "      <td>Dairy</td>\n",
              "      <td>3735.1380</td>\n",
              "      <td>Low Fat</td>\n",
              "      <td>0.016047</td>\n",
              "      <td>0</td>\n",
              "      <td>1</td>\n",
              "      <td>FOOD</td>\n",
              "    </tr>\n",
              "    <tr>\n",
              "      <th>1</th>\n",
              "      <td>48.2692</td>\n",
              "      <td>5.92</td>\n",
              "      <td>DRC01</td>\n",
              "      <td>OUT018</td>\n",
              "      <td>Tier 3</td>\n",
              "      <td>Medium</td>\n",
              "      <td>Soft Drinks</td>\n",
              "      <td>443.4228</td>\n",
              "      <td>Regular</td>\n",
              "      <td>0.019278</td>\n",
              "      <td>1</td>\n",
              "      <td>1</td>\n",
              "      <td>DRINK</td>\n",
              "    </tr>\n",
              "    <tr>\n",
              "      <th>2</th>\n",
              "      <td>141.6180</td>\n",
              "      <td>17.50</td>\n",
              "      <td>FDN15</td>\n",
              "      <td>OUT049</td>\n",
              "      <td>Tier 1</td>\n",
              "      <td>Medium</td>\n",
              "      <td>Meat</td>\n",
              "      <td>2097.2700</td>\n",
              "      <td>Low Fat</td>\n",
              "      <td>0.016760</td>\n",
              "      <td>1</td>\n",
              "      <td>0</td>\n",
              "      <td>FOOD</td>\n",
              "    </tr>\n",
              "    <tr>\n",
              "      <th>3</th>\n",
              "      <td>182.0950</td>\n",
              "      <td>19.20</td>\n",
              "      <td>FDX07</td>\n",
              "      <td>OUT010</td>\n",
              "      <td>Tier 3</td>\n",
              "      <td>Small</td>\n",
              "      <td>Fruits and Vegetables</td>\n",
              "      <td>732.3800</td>\n",
              "      <td>Regular</td>\n",
              "      <td>0.000000</td>\n",
              "      <td>0</td>\n",
              "      <td>0</td>\n",
              "      <td>FOOD</td>\n",
              "    </tr>\n",
              "    <tr>\n",
              "      <th>4</th>\n",
              "      <td>53.8614</td>\n",
              "      <td>8.93</td>\n",
              "      <td>NCD19</td>\n",
              "      <td>OUT013</td>\n",
              "      <td>Tier 3</td>\n",
              "      <td>High</td>\n",
              "      <td>Household</td>\n",
              "      <td>994.7052</td>\n",
              "      <td>Low Fat</td>\n",
              "      <td>0.000000</td>\n",
              "      <td>1</td>\n",
              "      <td>1</td>\n",
              "      <td>NON_CONSUMABLE</td>\n",
              "    </tr>\n",
              "  </tbody>\n",
              "</table>\n",
              "</div>"
            ],
            "text/plain": [
              "   Item_MRP  Item_Weight Item_Identifier Outlet_Identifier  \\\n",
              "0  249.8092         9.30           FDA15            OUT049   \n",
              "1   48.2692         5.92           DRC01            OUT018   \n",
              "2  141.6180        17.50           FDN15            OUT049   \n",
              "3  182.0950        19.20           FDX07            OUT010   \n",
              "4   53.8614         8.93           NCD19            OUT013   \n",
              "\n",
              "  Outlet_Location_Type Outlet_Size              Item_Type  Item_Outlet_Sales  \\\n",
              "0               Tier 1      Medium                  Dairy          3735.1380   \n",
              "1               Tier 3      Medium            Soft Drinks           443.4228   \n",
              "2               Tier 1      Medium                   Meat          2097.2700   \n",
              "3               Tier 3       Small  Fruits and Vegetables           732.3800   \n",
              "4               Tier 3        High              Household           994.7052   \n",
              "\n",
              "  Item_Fat_Content  Item_Visibility  Item_Costly  Item_Heavy  \\\n",
              "0          Low Fat         0.016047            0           1   \n",
              "1          Regular         0.019278            1           1   \n",
              "2          Low Fat         0.016760            1           0   \n",
              "3          Regular         0.000000            0           0   \n",
              "4          Low Fat         0.000000            1           1   \n",
              "\n",
              "  Item_Type_Combined  \n",
              "0               FOOD  \n",
              "1              DRINK  \n",
              "2               FOOD  \n",
              "3               FOOD  \n",
              "4     NON_CONSUMABLE  "
            ]
          },
          "metadata": {
            "tags": []
          },
          "execution_count": 158
        }
      ]
    },
    {
      "cell_type": "code",
      "metadata": {
        "id": "SEoqd37QB5eM",
        "colab_type": "code",
        "colab": {},
        "outputId": "ac20efdf-71a6-426e-8a06-77e63e6311ff"
      },
      "source": [
        " # 0 = True 1 =False\n",
        "s_dataset['Item_Costly'] = s_dataset.Item_MRP.apply(lambda x : 0 if x >=150 else 1)\n",
        "s_dataset['Item_Heavy'] = s_dataset.Item_Weight.apply(lambda x : 0 if x> 12 else 1)\n",
        "s_dataset.head()"
      ],
      "execution_count": 0,
      "outputs": [
        {
          "output_type": "execute_result",
          "data": {
            "text/html": [
              "<div>\n",
              "<style scoped>\n",
              "    .dataframe tbody tr th:only-of-type {\n",
              "        vertical-align: middle;\n",
              "    }\n",
              "\n",
              "    .dataframe tbody tr th {\n",
              "        vertical-align: top;\n",
              "    }\n",
              "\n",
              "    .dataframe thead th {\n",
              "        text-align: right;\n",
              "    }\n",
              "</style>\n",
              "<table border=\"1\" class=\"dataframe\">\n",
              "  <thead>\n",
              "    <tr style=\"text-align: right;\">\n",
              "      <th></th>\n",
              "      <th>Item_MRP</th>\n",
              "      <th>Item_Weight</th>\n",
              "      <th>Item_Identifier</th>\n",
              "      <th>Outlet_Identifier</th>\n",
              "      <th>Outlet_Location_Type</th>\n",
              "      <th>Outlet_Size</th>\n",
              "      <th>Item_Type</th>\n",
              "      <th>Item_Outlet_Sales</th>\n",
              "      <th>Item_Fat_Content</th>\n",
              "      <th>Item_Visibility</th>\n",
              "      <th>Item_Costly</th>\n",
              "      <th>Item_Heavy</th>\n",
              "      <th>Item_Type_Combined</th>\n",
              "    </tr>\n",
              "  </thead>\n",
              "  <tbody>\n",
              "    <tr>\n",
              "      <th>0</th>\n",
              "      <td>249.8092</td>\n",
              "      <td>9.30</td>\n",
              "      <td>FDA15</td>\n",
              "      <td>OUT049</td>\n",
              "      <td>Tier 1</td>\n",
              "      <td>Medium</td>\n",
              "      <td>Dairy</td>\n",
              "      <td>3735.1380</td>\n",
              "      <td>Low Fat</td>\n",
              "      <td>0.016047</td>\n",
              "      <td>0</td>\n",
              "      <td>1</td>\n",
              "      <td>FOOD</td>\n",
              "    </tr>\n",
              "    <tr>\n",
              "      <th>1</th>\n",
              "      <td>48.2692</td>\n",
              "      <td>5.92</td>\n",
              "      <td>DRC01</td>\n",
              "      <td>OUT018</td>\n",
              "      <td>Tier 3</td>\n",
              "      <td>Medium</td>\n",
              "      <td>Soft Drinks</td>\n",
              "      <td>443.4228</td>\n",
              "      <td>Regular</td>\n",
              "      <td>0.019278</td>\n",
              "      <td>1</td>\n",
              "      <td>1</td>\n",
              "      <td>DRINK</td>\n",
              "    </tr>\n",
              "    <tr>\n",
              "      <th>2</th>\n",
              "      <td>141.6180</td>\n",
              "      <td>17.50</td>\n",
              "      <td>FDN15</td>\n",
              "      <td>OUT049</td>\n",
              "      <td>Tier 1</td>\n",
              "      <td>Medium</td>\n",
              "      <td>Meat</td>\n",
              "      <td>2097.2700</td>\n",
              "      <td>Low Fat</td>\n",
              "      <td>0.016760</td>\n",
              "      <td>1</td>\n",
              "      <td>0</td>\n",
              "      <td>FOOD</td>\n",
              "    </tr>\n",
              "    <tr>\n",
              "      <th>3</th>\n",
              "      <td>182.0950</td>\n",
              "      <td>19.20</td>\n",
              "      <td>FDX07</td>\n",
              "      <td>OUT010</td>\n",
              "      <td>Tier 3</td>\n",
              "      <td>Small</td>\n",
              "      <td>Fruits and Vegetables</td>\n",
              "      <td>732.3800</td>\n",
              "      <td>Regular</td>\n",
              "      <td>0.000000</td>\n",
              "      <td>0</td>\n",
              "      <td>0</td>\n",
              "      <td>FOOD</td>\n",
              "    </tr>\n",
              "    <tr>\n",
              "      <th>4</th>\n",
              "      <td>53.8614</td>\n",
              "      <td>8.93</td>\n",
              "      <td>NCD19</td>\n",
              "      <td>OUT013</td>\n",
              "      <td>Tier 3</td>\n",
              "      <td>High</td>\n",
              "      <td>Household</td>\n",
              "      <td>994.7052</td>\n",
              "      <td>Low Fat</td>\n",
              "      <td>0.000000</td>\n",
              "      <td>1</td>\n",
              "      <td>1</td>\n",
              "      <td>NON_CONSUMABLE</td>\n",
              "    </tr>\n",
              "  </tbody>\n",
              "</table>\n",
              "</div>"
            ],
            "text/plain": [
              "   Item_MRP  Item_Weight Item_Identifier Outlet_Identifier  \\\n",
              "0  249.8092         9.30           FDA15            OUT049   \n",
              "1   48.2692         5.92           DRC01            OUT018   \n",
              "2  141.6180        17.50           FDN15            OUT049   \n",
              "3  182.0950        19.20           FDX07            OUT010   \n",
              "4   53.8614         8.93           NCD19            OUT013   \n",
              "\n",
              "  Outlet_Location_Type Outlet_Size              Item_Type  Item_Outlet_Sales  \\\n",
              "0               Tier 1      Medium                  Dairy          3735.1380   \n",
              "1               Tier 3      Medium            Soft Drinks           443.4228   \n",
              "2               Tier 1      Medium                   Meat          2097.2700   \n",
              "3               Tier 3       Small  Fruits and Vegetables           732.3800   \n",
              "4               Tier 3        High              Household           994.7052   \n",
              "\n",
              "  Item_Fat_Content  Item_Visibility  Item_Costly  Item_Heavy  \\\n",
              "0          Low Fat         0.016047            0           1   \n",
              "1          Regular         0.019278            1           1   \n",
              "2          Low Fat         0.016760            1           0   \n",
              "3          Regular         0.000000            0           0   \n",
              "4          Low Fat         0.000000            1           1   \n",
              "\n",
              "  Item_Type_Combined  \n",
              "0               FOOD  \n",
              "1              DRINK  \n",
              "2               FOOD  \n",
              "3               FOOD  \n",
              "4     NON_CONSUMABLE  "
            ]
          },
          "metadata": {
            "tags": []
          },
          "execution_count": 159
        }
      ]
    },
    {
      "cell_type": "code",
      "metadata": {
        "id": "LNScLcTLB5eP",
        "colab_type": "code",
        "colab": {},
        "outputId": "d995972f-a455-4012-8e2c-dc4bf8abf383"
      },
      "source": [
        "s_dataset.Item_Type_Combined.value_counts()"
      ],
      "execution_count": 0,
      "outputs": [
        {
          "output_type": "execute_result",
          "data": {
            "text/plain": [
              "FOOD              5059\n",
              "NON_CONSUMABLE    1326\n",
              "DRINK              675\n",
              "Name: Item_Type_Combined, dtype: int64"
            ]
          },
          "metadata": {
            "tags": []
          },
          "execution_count": 160
        }
      ]
    },
    {
      "cell_type": "code",
      "metadata": {
        "id": "6rplfCllB5eT",
        "colab_type": "code",
        "colab": {},
        "outputId": "063218b2-fe13-4cf3-9e20-6e586df8a702"
      },
      "source": [
        "# Marking non consumable in fat content\n",
        "idx = s_dataset.Item_Type_Combined == \"NON_CONSUMABLE\"\n",
        "s_dataset.loc[idx,'Item_Fat_Content'] = 'NON_CONSUMABLE'\n",
        "s_dataset.Item_Fat_Content = s_dataset.Item_Fat_Content.replace({\"LF\":'Low Fat',\"reg\":\"Regular\",\"low fat\":\"Low Fat\"})\n",
        "s_dataset.Item_Fat_Content.value_counts()"
      ],
      "execution_count": 0,
      "outputs": [
        {
          "output_type": "execute_result",
          "data": {
            "text/plain": [
              "Low Fat           3240\n",
              "Regular           2494\n",
              "NON_CONSUMABLE    1326\n",
              "Name: Item_Fat_Content, dtype: int64"
            ]
          },
          "metadata": {
            "tags": []
          },
          "execution_count": 161
        }
      ]
    },
    {
      "cell_type": "code",
      "metadata": {
        "id": "4JkTSQ2VB5eb",
        "colab_type": "code",
        "colab": {},
        "outputId": "e08a17ba-bf67-44a6-f77f-5f681e33020d"
      },
      "source": [
        " s_dataset.head()"
      ],
      "execution_count": 0,
      "outputs": [
        {
          "output_type": "execute_result",
          "data": {
            "text/html": [
              "<div>\n",
              "<style scoped>\n",
              "    .dataframe tbody tr th:only-of-type {\n",
              "        vertical-align: middle;\n",
              "    }\n",
              "\n",
              "    .dataframe tbody tr th {\n",
              "        vertical-align: top;\n",
              "    }\n",
              "\n",
              "    .dataframe thead th {\n",
              "        text-align: right;\n",
              "    }\n",
              "</style>\n",
              "<table border=\"1\" class=\"dataframe\">\n",
              "  <thead>\n",
              "    <tr style=\"text-align: right;\">\n",
              "      <th></th>\n",
              "      <th>Item_MRP</th>\n",
              "      <th>Item_Weight</th>\n",
              "      <th>Item_Identifier</th>\n",
              "      <th>Outlet_Identifier</th>\n",
              "      <th>Outlet_Location_Type</th>\n",
              "      <th>Outlet_Size</th>\n",
              "      <th>Item_Type</th>\n",
              "      <th>Item_Outlet_Sales</th>\n",
              "      <th>Item_Fat_Content</th>\n",
              "      <th>Item_Visibility</th>\n",
              "      <th>Item_Costly</th>\n",
              "      <th>Item_Heavy</th>\n",
              "      <th>Item_Type_Combined</th>\n",
              "    </tr>\n",
              "  </thead>\n",
              "  <tbody>\n",
              "    <tr>\n",
              "      <th>0</th>\n",
              "      <td>249.8092</td>\n",
              "      <td>9.30</td>\n",
              "      <td>FDA15</td>\n",
              "      <td>OUT049</td>\n",
              "      <td>Tier 1</td>\n",
              "      <td>Medium</td>\n",
              "      <td>Dairy</td>\n",
              "      <td>3735.1380</td>\n",
              "      <td>Low Fat</td>\n",
              "      <td>0.016047</td>\n",
              "      <td>0</td>\n",
              "      <td>1</td>\n",
              "      <td>FOOD</td>\n",
              "    </tr>\n",
              "    <tr>\n",
              "      <th>1</th>\n",
              "      <td>48.2692</td>\n",
              "      <td>5.92</td>\n",
              "      <td>DRC01</td>\n",
              "      <td>OUT018</td>\n",
              "      <td>Tier 3</td>\n",
              "      <td>Medium</td>\n",
              "      <td>Soft Drinks</td>\n",
              "      <td>443.4228</td>\n",
              "      <td>Regular</td>\n",
              "      <td>0.019278</td>\n",
              "      <td>1</td>\n",
              "      <td>1</td>\n",
              "      <td>DRINK</td>\n",
              "    </tr>\n",
              "    <tr>\n",
              "      <th>2</th>\n",
              "      <td>141.6180</td>\n",
              "      <td>17.50</td>\n",
              "      <td>FDN15</td>\n",
              "      <td>OUT049</td>\n",
              "      <td>Tier 1</td>\n",
              "      <td>Medium</td>\n",
              "      <td>Meat</td>\n",
              "      <td>2097.2700</td>\n",
              "      <td>Low Fat</td>\n",
              "      <td>0.016760</td>\n",
              "      <td>1</td>\n",
              "      <td>0</td>\n",
              "      <td>FOOD</td>\n",
              "    </tr>\n",
              "    <tr>\n",
              "      <th>3</th>\n",
              "      <td>182.0950</td>\n",
              "      <td>19.20</td>\n",
              "      <td>FDX07</td>\n",
              "      <td>OUT010</td>\n",
              "      <td>Tier 3</td>\n",
              "      <td>Small</td>\n",
              "      <td>Fruits and Vegetables</td>\n",
              "      <td>732.3800</td>\n",
              "      <td>Regular</td>\n",
              "      <td>0.000000</td>\n",
              "      <td>0</td>\n",
              "      <td>0</td>\n",
              "      <td>FOOD</td>\n",
              "    </tr>\n",
              "    <tr>\n",
              "      <th>4</th>\n",
              "      <td>53.8614</td>\n",
              "      <td>8.93</td>\n",
              "      <td>NCD19</td>\n",
              "      <td>OUT013</td>\n",
              "      <td>Tier 3</td>\n",
              "      <td>High</td>\n",
              "      <td>Household</td>\n",
              "      <td>994.7052</td>\n",
              "      <td>NON_CONSUMABLE</td>\n",
              "      <td>0.000000</td>\n",
              "      <td>1</td>\n",
              "      <td>1</td>\n",
              "      <td>NON_CONSUMABLE</td>\n",
              "    </tr>\n",
              "  </tbody>\n",
              "</table>\n",
              "</div>"
            ],
            "text/plain": [
              "   Item_MRP  Item_Weight Item_Identifier Outlet_Identifier  \\\n",
              "0  249.8092         9.30           FDA15            OUT049   \n",
              "1   48.2692         5.92           DRC01            OUT018   \n",
              "2  141.6180        17.50           FDN15            OUT049   \n",
              "3  182.0950        19.20           FDX07            OUT010   \n",
              "4   53.8614         8.93           NCD19            OUT013   \n",
              "\n",
              "  Outlet_Location_Type Outlet_Size              Item_Type  Item_Outlet_Sales  \\\n",
              "0               Tier 1      Medium                  Dairy          3735.1380   \n",
              "1               Tier 3      Medium            Soft Drinks           443.4228   \n",
              "2               Tier 1      Medium                   Meat          2097.2700   \n",
              "3               Tier 3       Small  Fruits and Vegetables           732.3800   \n",
              "4               Tier 3        High              Household           994.7052   \n",
              "\n",
              "  Item_Fat_Content  Item_Visibility  Item_Costly  Item_Heavy  \\\n",
              "0          Low Fat         0.016047            0           1   \n",
              "1          Regular         0.019278            1           1   \n",
              "2          Low Fat         0.016760            1           0   \n",
              "3          Regular         0.000000            0           0   \n",
              "4   NON_CONSUMABLE         0.000000            1           1   \n",
              "\n",
              "  Item_Type_Combined  \n",
              "0               FOOD  \n",
              "1              DRINK  \n",
              "2               FOOD  \n",
              "3               FOOD  \n",
              "4     NON_CONSUMABLE  "
            ]
          },
          "metadata": {
            "tags": []
          },
          "execution_count": 162
        }
      ]
    },
    {
      "cell_type": "code",
      "metadata": {
        "id": "TnNn7g4nB5eh",
        "colab_type": "code",
        "colab": {}
      },
      "source": [
        "s_dataset['Is_Item_Solid'] = (s_dataset.Item_Type_Combined == 'FOOD' )*1\n",
        "s_dataset['Visibilty_2_MRP_Ratio'] = s_dataset.Item_Visibility/s_dataset.Item_MRP\n",
        "s_dataset['Visibilty_2_Weight_Ratio'] = s_dataset.Item_Visibility/s_dataset.Item_Weight"
      ],
      "execution_count": 0,
      "outputs": []
    },
    {
      "cell_type": "code",
      "metadata": {
        "id": "-PCF2R2UB5eo",
        "colab_type": "code",
        "colab": {},
        "outputId": "558694e2-ea50-404f-eda2-d19fce88082c"
      },
      "source": [
        " s_dataset.head()"
      ],
      "execution_count": 0,
      "outputs": [
        {
          "output_type": "execute_result",
          "data": {
            "text/html": [
              "<div>\n",
              "<style scoped>\n",
              "    .dataframe tbody tr th:only-of-type {\n",
              "        vertical-align: middle;\n",
              "    }\n",
              "\n",
              "    .dataframe tbody tr th {\n",
              "        vertical-align: top;\n",
              "    }\n",
              "\n",
              "    .dataframe thead th {\n",
              "        text-align: right;\n",
              "    }\n",
              "</style>\n",
              "<table border=\"1\" class=\"dataframe\">\n",
              "  <thead>\n",
              "    <tr style=\"text-align: right;\">\n",
              "      <th></th>\n",
              "      <th>Item_MRP</th>\n",
              "      <th>Item_Weight</th>\n",
              "      <th>Item_Identifier</th>\n",
              "      <th>Outlet_Identifier</th>\n",
              "      <th>Outlet_Location_Type</th>\n",
              "      <th>Outlet_Size</th>\n",
              "      <th>Item_Type</th>\n",
              "      <th>Item_Outlet_Sales</th>\n",
              "      <th>Item_Fat_Content</th>\n",
              "      <th>Item_Visibility</th>\n",
              "      <th>Item_Costly</th>\n",
              "      <th>Item_Heavy</th>\n",
              "      <th>Item_Type_Combined</th>\n",
              "      <th>Is_Item_Solid</th>\n",
              "      <th>Visibilty_2_MRP_Ratio</th>\n",
              "      <th>Visibilty_2_Weight_Ratio</th>\n",
              "    </tr>\n",
              "  </thead>\n",
              "  <tbody>\n",
              "    <tr>\n",
              "      <th>0</th>\n",
              "      <td>249.8092</td>\n",
              "      <td>9.30</td>\n",
              "      <td>FDA15</td>\n",
              "      <td>OUT049</td>\n",
              "      <td>Tier 1</td>\n",
              "      <td>Medium</td>\n",
              "      <td>Dairy</td>\n",
              "      <td>3735.1380</td>\n",
              "      <td>Low Fat</td>\n",
              "      <td>0.016047</td>\n",
              "      <td>0</td>\n",
              "      <td>1</td>\n",
              "      <td>FOOD</td>\n",
              "      <td>1</td>\n",
              "      <td>0.000064</td>\n",
              "      <td>0.001726</td>\n",
              "    </tr>\n",
              "    <tr>\n",
              "      <th>1</th>\n",
              "      <td>48.2692</td>\n",
              "      <td>5.92</td>\n",
              "      <td>DRC01</td>\n",
              "      <td>OUT018</td>\n",
              "      <td>Tier 3</td>\n",
              "      <td>Medium</td>\n",
              "      <td>Soft Drinks</td>\n",
              "      <td>443.4228</td>\n",
              "      <td>Regular</td>\n",
              "      <td>0.019278</td>\n",
              "      <td>1</td>\n",
              "      <td>1</td>\n",
              "      <td>DRINK</td>\n",
              "      <td>0</td>\n",
              "      <td>0.000399</td>\n",
              "      <td>0.003256</td>\n",
              "    </tr>\n",
              "    <tr>\n",
              "      <th>2</th>\n",
              "      <td>141.6180</td>\n",
              "      <td>17.50</td>\n",
              "      <td>FDN15</td>\n",
              "      <td>OUT049</td>\n",
              "      <td>Tier 1</td>\n",
              "      <td>Medium</td>\n",
              "      <td>Meat</td>\n",
              "      <td>2097.2700</td>\n",
              "      <td>Low Fat</td>\n",
              "      <td>0.016760</td>\n",
              "      <td>1</td>\n",
              "      <td>0</td>\n",
              "      <td>FOOD</td>\n",
              "      <td>1</td>\n",
              "      <td>0.000118</td>\n",
              "      <td>0.000958</td>\n",
              "    </tr>\n",
              "    <tr>\n",
              "      <th>3</th>\n",
              "      <td>182.0950</td>\n",
              "      <td>19.20</td>\n",
              "      <td>FDX07</td>\n",
              "      <td>OUT010</td>\n",
              "      <td>Tier 3</td>\n",
              "      <td>Small</td>\n",
              "      <td>Fruits and Vegetables</td>\n",
              "      <td>732.3800</td>\n",
              "      <td>Regular</td>\n",
              "      <td>0.000000</td>\n",
              "      <td>0</td>\n",
              "      <td>0</td>\n",
              "      <td>FOOD</td>\n",
              "      <td>1</td>\n",
              "      <td>0.000000</td>\n",
              "      <td>0.000000</td>\n",
              "    </tr>\n",
              "    <tr>\n",
              "      <th>4</th>\n",
              "      <td>53.8614</td>\n",
              "      <td>8.93</td>\n",
              "      <td>NCD19</td>\n",
              "      <td>OUT013</td>\n",
              "      <td>Tier 3</td>\n",
              "      <td>High</td>\n",
              "      <td>Household</td>\n",
              "      <td>994.7052</td>\n",
              "      <td>NON_CONSUMABLE</td>\n",
              "      <td>0.000000</td>\n",
              "      <td>1</td>\n",
              "      <td>1</td>\n",
              "      <td>NON_CONSUMABLE</td>\n",
              "      <td>0</td>\n",
              "      <td>0.000000</td>\n",
              "      <td>0.000000</td>\n",
              "    </tr>\n",
              "  </tbody>\n",
              "</table>\n",
              "</div>"
            ],
            "text/plain": [
              "   Item_MRP  Item_Weight Item_Identifier Outlet_Identifier  \\\n",
              "0  249.8092         9.30           FDA15            OUT049   \n",
              "1   48.2692         5.92           DRC01            OUT018   \n",
              "2  141.6180        17.50           FDN15            OUT049   \n",
              "3  182.0950        19.20           FDX07            OUT010   \n",
              "4   53.8614         8.93           NCD19            OUT013   \n",
              "\n",
              "  Outlet_Location_Type Outlet_Size              Item_Type  Item_Outlet_Sales  \\\n",
              "0               Tier 1      Medium                  Dairy          3735.1380   \n",
              "1               Tier 3      Medium            Soft Drinks           443.4228   \n",
              "2               Tier 1      Medium                   Meat          2097.2700   \n",
              "3               Tier 3       Small  Fruits and Vegetables           732.3800   \n",
              "4               Tier 3        High              Household           994.7052   \n",
              "\n",
              "  Item_Fat_Content  Item_Visibility  Item_Costly  Item_Heavy  \\\n",
              "0          Low Fat         0.016047            0           1   \n",
              "1          Regular         0.019278            1           1   \n",
              "2          Low Fat         0.016760            1           0   \n",
              "3          Regular         0.000000            0           0   \n",
              "4   NON_CONSUMABLE         0.000000            1           1   \n",
              "\n",
              "  Item_Type_Combined  Is_Item_Solid  Visibilty_2_MRP_Ratio  \\\n",
              "0               FOOD              1               0.000064   \n",
              "1              DRINK              0               0.000399   \n",
              "2               FOOD              1               0.000118   \n",
              "3               FOOD              1               0.000000   \n",
              "4     NON_CONSUMABLE              0               0.000000   \n",
              "\n",
              "   Visibilty_2_Weight_Ratio  \n",
              "0                  0.001726  \n",
              "1                  0.003256  \n",
              "2                  0.000958  \n",
              "3                  0.000000  \n",
              "4                  0.000000  "
            ]
          },
          "metadata": {
            "tags": []
          },
          "execution_count": 164
        }
      ]
    },
    {
      "cell_type": "code",
      "metadata": {
        "id": "4onWjtRnB5et",
        "colab_type": "code",
        "colab": {},
        "outputId": "149292bc-8158-4cc7-b82b-bfd02cac619a"
      },
      "source": [
        "# Label Encoding\n",
        "from sklearn.preprocessing import LabelEncoder\n",
        "var = ['Outlet_Location_Type','Item_Identifier','Outlet_Identifier','Outlet_Size','Item_Type','Item_Type_Combined','Item_Fat_Content']\n",
        "le = LabelEncoder()\n",
        "for _ in var:\n",
        "    s_dataset[_] = le.fit_transform(s_dataset[_])\n",
        "s_dataset.head()"
      ],
      "execution_count": 0,
      "outputs": [
        {
          "output_type": "execute_result",
          "data": {
            "text/html": [
              "<div>\n",
              "<style scoped>\n",
              "    .dataframe tbody tr th:only-of-type {\n",
              "        vertical-align: middle;\n",
              "    }\n",
              "\n",
              "    .dataframe tbody tr th {\n",
              "        vertical-align: top;\n",
              "    }\n",
              "\n",
              "    .dataframe thead th {\n",
              "        text-align: right;\n",
              "    }\n",
              "</style>\n",
              "<table border=\"1\" class=\"dataframe\">\n",
              "  <thead>\n",
              "    <tr style=\"text-align: right;\">\n",
              "      <th></th>\n",
              "      <th>Item_MRP</th>\n",
              "      <th>Item_Weight</th>\n",
              "      <th>Item_Identifier</th>\n",
              "      <th>Outlet_Identifier</th>\n",
              "      <th>Outlet_Location_Type</th>\n",
              "      <th>Outlet_Size</th>\n",
              "      <th>Item_Type</th>\n",
              "      <th>Item_Outlet_Sales</th>\n",
              "      <th>Item_Fat_Content</th>\n",
              "      <th>Item_Visibility</th>\n",
              "      <th>Item_Costly</th>\n",
              "      <th>Item_Heavy</th>\n",
              "      <th>Item_Type_Combined</th>\n",
              "      <th>Is_Item_Solid</th>\n",
              "      <th>Visibilty_2_MRP_Ratio</th>\n",
              "      <th>Visibilty_2_Weight_Ratio</th>\n",
              "    </tr>\n",
              "  </thead>\n",
              "  <tbody>\n",
              "    <tr>\n",
              "      <th>0</th>\n",
              "      <td>249.8092</td>\n",
              "      <td>9.30</td>\n",
              "      <td>156</td>\n",
              "      <td>7</td>\n",
              "      <td>0</td>\n",
              "      <td>1</td>\n",
              "      <td>4</td>\n",
              "      <td>3735.1380</td>\n",
              "      <td>0</td>\n",
              "      <td>0.016047</td>\n",
              "      <td>0</td>\n",
              "      <td>1</td>\n",
              "      <td>1</td>\n",
              "      <td>1</td>\n",
              "      <td>0.000064</td>\n",
              "      <td>0.001726</td>\n",
              "    </tr>\n",
              "    <tr>\n",
              "      <th>1</th>\n",
              "      <td>48.2692</td>\n",
              "      <td>5.92</td>\n",
              "      <td>8</td>\n",
              "      <td>3</td>\n",
              "      <td>2</td>\n",
              "      <td>1</td>\n",
              "      <td>14</td>\n",
              "      <td>443.4228</td>\n",
              "      <td>2</td>\n",
              "      <td>0.019278</td>\n",
              "      <td>1</td>\n",
              "      <td>1</td>\n",
              "      <td>0</td>\n",
              "      <td>0</td>\n",
              "      <td>0.000399</td>\n",
              "      <td>0.003256</td>\n",
              "    </tr>\n",
              "    <tr>\n",
              "      <th>2</th>\n",
              "      <td>141.6180</td>\n",
              "      <td>17.50</td>\n",
              "      <td>660</td>\n",
              "      <td>7</td>\n",
              "      <td>0</td>\n",
              "      <td>1</td>\n",
              "      <td>10</td>\n",
              "      <td>2097.2700</td>\n",
              "      <td>0</td>\n",
              "      <td>0.016760</td>\n",
              "      <td>1</td>\n",
              "      <td>0</td>\n",
              "      <td>1</td>\n",
              "      <td>1</td>\n",
              "      <td>0.000118</td>\n",
              "      <td>0.000958</td>\n",
              "    </tr>\n",
              "    <tr>\n",
              "      <th>3</th>\n",
              "      <td>182.0950</td>\n",
              "      <td>19.20</td>\n",
              "      <td>1117</td>\n",
              "      <td>0</td>\n",
              "      <td>2</td>\n",
              "      <td>2</td>\n",
              "      <td>6</td>\n",
              "      <td>732.3800</td>\n",
              "      <td>2</td>\n",
              "      <td>0.000000</td>\n",
              "      <td>0</td>\n",
              "      <td>0</td>\n",
              "      <td>1</td>\n",
              "      <td>1</td>\n",
              "      <td>0.000000</td>\n",
              "      <td>0.000000</td>\n",
              "    </tr>\n",
              "    <tr>\n",
              "      <th>4</th>\n",
              "      <td>53.8614</td>\n",
              "      <td>8.93</td>\n",
              "      <td>1293</td>\n",
              "      <td>1</td>\n",
              "      <td>2</td>\n",
              "      <td>0</td>\n",
              "      <td>9</td>\n",
              "      <td>994.7052</td>\n",
              "      <td>1</td>\n",
              "      <td>0.000000</td>\n",
              "      <td>1</td>\n",
              "      <td>1</td>\n",
              "      <td>2</td>\n",
              "      <td>0</td>\n",
              "      <td>0.000000</td>\n",
              "      <td>0.000000</td>\n",
              "    </tr>\n",
              "  </tbody>\n",
              "</table>\n",
              "</div>"
            ],
            "text/plain": [
              "   Item_MRP  Item_Weight  Item_Identifier  Outlet_Identifier  \\\n",
              "0  249.8092         9.30              156                  7   \n",
              "1   48.2692         5.92                8                  3   \n",
              "2  141.6180        17.50              660                  7   \n",
              "3  182.0950        19.20             1117                  0   \n",
              "4   53.8614         8.93             1293                  1   \n",
              "\n",
              "   Outlet_Location_Type  Outlet_Size  Item_Type  Item_Outlet_Sales  \\\n",
              "0                     0            1          4          3735.1380   \n",
              "1                     2            1         14           443.4228   \n",
              "2                     0            1         10          2097.2700   \n",
              "3                     2            2          6           732.3800   \n",
              "4                     2            0          9           994.7052   \n",
              "\n",
              "   Item_Fat_Content  Item_Visibility  Item_Costly  Item_Heavy  \\\n",
              "0                 0         0.016047            0           1   \n",
              "1                 2         0.019278            1           1   \n",
              "2                 0         0.016760            1           0   \n",
              "3                 2         0.000000            0           0   \n",
              "4                 1         0.000000            1           1   \n",
              "\n",
              "   Item_Type_Combined  Is_Item_Solid  Visibilty_2_MRP_Ratio  \\\n",
              "0                   1              1               0.000064   \n",
              "1                   0              0               0.000399   \n",
              "2                   1              1               0.000118   \n",
              "3                   1              1               0.000000   \n",
              "4                   2              0               0.000000   \n",
              "\n",
              "   Visibilty_2_Weight_Ratio  \n",
              "0                  0.001726  \n",
              "1                  0.003256  \n",
              "2                  0.000958  \n",
              "3                  0.000000  \n",
              "4                  0.000000  "
            ]
          },
          "metadata": {
            "tags": []
          },
          "execution_count": 165
        }
      ]
    },
    {
      "cell_type": "code",
      "metadata": {
        "id": "GCVdQsdZB5ew",
        "colab_type": "code",
        "colab": {},
        "outputId": "9a5097e5-a7ac-4154-d103-7281422934f6"
      },
      "source": [
        "# One Hot Encoding\n",
        "s_dataset = pd.get_dummies(s_dataset,columns=['Outlet_Location_Type','Is_Item_Solid','Item_Identifier','Outlet_Identifier','Outlet_Size','Item_Type','Item_Fat_Content','Item_Type_Combined','Item_Costly','Item_Heavy'])\n",
        "s_dataset.head()"
      ],
      "execution_count": 0,
      "outputs": [
        {
          "output_type": "execute_result",
          "data": {
            "text/html": [
              "<div>\n",
              "<style scoped>\n",
              "    .dataframe tbody tr th:only-of-type {\n",
              "        vertical-align: middle;\n",
              "    }\n",
              "\n",
              "    .dataframe tbody tr th {\n",
              "        vertical-align: top;\n",
              "    }\n",
              "\n",
              "    .dataframe thead th {\n",
              "        text-align: right;\n",
              "    }\n",
              "</style>\n",
              "<table border=\"1\" class=\"dataframe\">\n",
              "  <thead>\n",
              "    <tr style=\"text-align: right;\">\n",
              "      <th></th>\n",
              "      <th>Item_MRP</th>\n",
              "      <th>Item_Weight</th>\n",
              "      <th>Item_Outlet_Sales</th>\n",
              "      <th>Item_Visibility</th>\n",
              "      <th>Visibilty_2_MRP_Ratio</th>\n",
              "      <th>Visibilty_2_Weight_Ratio</th>\n",
              "      <th>Outlet_Location_Type_0</th>\n",
              "      <th>Outlet_Location_Type_1</th>\n",
              "      <th>Outlet_Location_Type_2</th>\n",
              "      <th>Is_Item_Solid_0</th>\n",
              "      <th>...</th>\n",
              "      <th>Item_Fat_Content_0</th>\n",
              "      <th>Item_Fat_Content_1</th>\n",
              "      <th>Item_Fat_Content_2</th>\n",
              "      <th>Item_Type_Combined_0</th>\n",
              "      <th>Item_Type_Combined_1</th>\n",
              "      <th>Item_Type_Combined_2</th>\n",
              "      <th>Item_Costly_0</th>\n",
              "      <th>Item_Costly_1</th>\n",
              "      <th>Item_Heavy_0</th>\n",
              "      <th>Item_Heavy_1</th>\n",
              "    </tr>\n",
              "  </thead>\n",
              "  <tbody>\n",
              "    <tr>\n",
              "      <th>0</th>\n",
              "      <td>249.8092</td>\n",
              "      <td>9.30</td>\n",
              "      <td>3735.1380</td>\n",
              "      <td>0.016047</td>\n",
              "      <td>0.000064</td>\n",
              "      <td>0.001726</td>\n",
              "      <td>1</td>\n",
              "      <td>0</td>\n",
              "      <td>0</td>\n",
              "      <td>0</td>\n",
              "      <td>...</td>\n",
              "      <td>1</td>\n",
              "      <td>0</td>\n",
              "      <td>0</td>\n",
              "      <td>0</td>\n",
              "      <td>1</td>\n",
              "      <td>0</td>\n",
              "      <td>1</td>\n",
              "      <td>0</td>\n",
              "      <td>0</td>\n",
              "      <td>1</td>\n",
              "    </tr>\n",
              "    <tr>\n",
              "      <th>1</th>\n",
              "      <td>48.2692</td>\n",
              "      <td>5.92</td>\n",
              "      <td>443.4228</td>\n",
              "      <td>0.019278</td>\n",
              "      <td>0.000399</td>\n",
              "      <td>0.003256</td>\n",
              "      <td>0</td>\n",
              "      <td>0</td>\n",
              "      <td>1</td>\n",
              "      <td>1</td>\n",
              "      <td>...</td>\n",
              "      <td>0</td>\n",
              "      <td>0</td>\n",
              "      <td>1</td>\n",
              "      <td>1</td>\n",
              "      <td>0</td>\n",
              "      <td>0</td>\n",
              "      <td>0</td>\n",
              "      <td>1</td>\n",
              "      <td>0</td>\n",
              "      <td>1</td>\n",
              "    </tr>\n",
              "    <tr>\n",
              "      <th>2</th>\n",
              "      <td>141.6180</td>\n",
              "      <td>17.50</td>\n",
              "      <td>2097.2700</td>\n",
              "      <td>0.016760</td>\n",
              "      <td>0.000118</td>\n",
              "      <td>0.000958</td>\n",
              "      <td>1</td>\n",
              "      <td>0</td>\n",
              "      <td>0</td>\n",
              "      <td>0</td>\n",
              "      <td>...</td>\n",
              "      <td>1</td>\n",
              "      <td>0</td>\n",
              "      <td>0</td>\n",
              "      <td>0</td>\n",
              "      <td>1</td>\n",
              "      <td>0</td>\n",
              "      <td>0</td>\n",
              "      <td>1</td>\n",
              "      <td>1</td>\n",
              "      <td>0</td>\n",
              "    </tr>\n",
              "    <tr>\n",
              "      <th>3</th>\n",
              "      <td>182.0950</td>\n",
              "      <td>19.20</td>\n",
              "      <td>732.3800</td>\n",
              "      <td>0.000000</td>\n",
              "      <td>0.000000</td>\n",
              "      <td>0.000000</td>\n",
              "      <td>0</td>\n",
              "      <td>0</td>\n",
              "      <td>1</td>\n",
              "      <td>0</td>\n",
              "      <td>...</td>\n",
              "      <td>0</td>\n",
              "      <td>0</td>\n",
              "      <td>1</td>\n",
              "      <td>0</td>\n",
              "      <td>1</td>\n",
              "      <td>0</td>\n",
              "      <td>1</td>\n",
              "      <td>0</td>\n",
              "      <td>1</td>\n",
              "      <td>0</td>\n",
              "    </tr>\n",
              "    <tr>\n",
              "      <th>4</th>\n",
              "      <td>53.8614</td>\n",
              "      <td>8.93</td>\n",
              "      <td>994.7052</td>\n",
              "      <td>0.000000</td>\n",
              "      <td>0.000000</td>\n",
              "      <td>0.000000</td>\n",
              "      <td>0</td>\n",
              "      <td>0</td>\n",
              "      <td>1</td>\n",
              "      <td>1</td>\n",
              "      <td>...</td>\n",
              "      <td>0</td>\n",
              "      <td>1</td>\n",
              "      <td>0</td>\n",
              "      <td>0</td>\n",
              "      <td>0</td>\n",
              "      <td>1</td>\n",
              "      <td>0</td>\n",
              "      <td>1</td>\n",
              "      <td>0</td>\n",
              "      <td>1</td>\n",
              "    </tr>\n",
              "  </tbody>\n",
              "</table>\n",
              "<p>5 rows × 1603 columns</p>\n",
              "</div>"
            ],
            "text/plain": [
              "   Item_MRP  Item_Weight  Item_Outlet_Sales  Item_Visibility  \\\n",
              "0  249.8092         9.30          3735.1380         0.016047   \n",
              "1   48.2692         5.92           443.4228         0.019278   \n",
              "2  141.6180        17.50          2097.2700         0.016760   \n",
              "3  182.0950        19.20           732.3800         0.000000   \n",
              "4   53.8614         8.93           994.7052         0.000000   \n",
              "\n",
              "   Visibilty_2_MRP_Ratio  Visibilty_2_Weight_Ratio  Outlet_Location_Type_0  \\\n",
              "0               0.000064                  0.001726                       1   \n",
              "1               0.000399                  0.003256                       0   \n",
              "2               0.000118                  0.000958                       1   \n",
              "3               0.000000                  0.000000                       0   \n",
              "4               0.000000                  0.000000                       0   \n",
              "\n",
              "   Outlet_Location_Type_1  Outlet_Location_Type_2  Is_Item_Solid_0  \\\n",
              "0                       0                       0                0   \n",
              "1                       0                       1                1   \n",
              "2                       0                       0                0   \n",
              "3                       0                       1                0   \n",
              "4                       0                       1                1   \n",
              "\n",
              "       ...       Item_Fat_Content_0  Item_Fat_Content_1  Item_Fat_Content_2  \\\n",
              "0      ...                        1                   0                   0   \n",
              "1      ...                        0                   0                   1   \n",
              "2      ...                        1                   0                   0   \n",
              "3      ...                        0                   0                   1   \n",
              "4      ...                        0                   1                   0   \n",
              "\n",
              "   Item_Type_Combined_0  Item_Type_Combined_1  Item_Type_Combined_2  \\\n",
              "0                     0                     1                     0   \n",
              "1                     1                     0                     0   \n",
              "2                     0                     1                     0   \n",
              "3                     0                     1                     0   \n",
              "4                     0                     0                     1   \n",
              "\n",
              "   Item_Costly_0  Item_Costly_1  Item_Heavy_0  Item_Heavy_1  \n",
              "0              1              0             0             1  \n",
              "1              0              1             0             1  \n",
              "2              0              1             1             0  \n",
              "3              1              0             1             0  \n",
              "4              0              1             0             1  \n",
              "\n",
              "[5 rows x 1603 columns]"
            ]
          },
          "metadata": {
            "tags": []
          },
          "execution_count": 166
        }
      ]
    },
    {
      "cell_type": "code",
      "metadata": {
        "id": "9w2ryJJEB5e2",
        "colab_type": "code",
        "colab": {},
        "outputId": "f75640a6-2056-48a7-c4f2-1a3cf9e7e96e"
      },
      "source": [
        "s_dataset.isnull().sum()"
      ],
      "execution_count": 0,
      "outputs": [
        {
          "output_type": "execute_result",
          "data": {
            "text/plain": [
              "Item_MRP                    0\n",
              "Item_Weight                 0\n",
              "Item_Outlet_Sales           0\n",
              "Item_Visibility             0\n",
              "Visibilty_2_MRP_Ratio       0\n",
              "Visibilty_2_Weight_Ratio    0\n",
              "Outlet_Location_Type_0      0\n",
              "Outlet_Location_Type_1      0\n",
              "Outlet_Location_Type_2      0\n",
              "Is_Item_Solid_0             0\n",
              "Is_Item_Solid_1             0\n",
              "Item_Identifier_0           0\n",
              "Item_Identifier_1           0\n",
              "Item_Identifier_2           0\n",
              "Item_Identifier_3           0\n",
              "Item_Identifier_4           0\n",
              "Item_Identifier_5           0\n",
              "Item_Identifier_6           0\n",
              "Item_Identifier_7           0\n",
              "Item_Identifier_8           0\n",
              "Item_Identifier_9           0\n",
              "Item_Identifier_10          0\n",
              "Item_Identifier_11          0\n",
              "Item_Identifier_12          0\n",
              "Item_Identifier_13          0\n",
              "Item_Identifier_14          0\n",
              "Item_Identifier_15          0\n",
              "Item_Identifier_16          0\n",
              "Item_Identifier_17          0\n",
              "Item_Identifier_18          0\n",
              "                           ..\n",
              "Outlet_Identifier_7         0\n",
              "Outlet_Size_0               0\n",
              "Outlet_Size_1               0\n",
              "Outlet_Size_2               0\n",
              "Item_Type_0                 0\n",
              "Item_Type_1                 0\n",
              "Item_Type_2                 0\n",
              "Item_Type_3                 0\n",
              "Item_Type_4                 0\n",
              "Item_Type_5                 0\n",
              "Item_Type_6                 0\n",
              "Item_Type_7                 0\n",
              "Item_Type_8                 0\n",
              "Item_Type_9                 0\n",
              "Item_Type_10                0\n",
              "Item_Type_11                0\n",
              "Item_Type_12                0\n",
              "Item_Type_13                0\n",
              "Item_Type_14                0\n",
              "Item_Type_15                0\n",
              "Item_Fat_Content_0          0\n",
              "Item_Fat_Content_1          0\n",
              "Item_Fat_Content_2          0\n",
              "Item_Type_Combined_0        0\n",
              "Item_Type_Combined_1        0\n",
              "Item_Type_Combined_2        0\n",
              "Item_Costly_0               0\n",
              "Item_Costly_1               0\n",
              "Item_Heavy_0                0\n",
              "Item_Heavy_1                0\n",
              "Length: 1603, dtype: int64"
            ]
          },
          "metadata": {
            "tags": []
          },
          "execution_count": 167
        }
      ]
    },
    {
      "cell_type": "code",
      "metadata": {
        "id": "qS4ppywAB5fA",
        "colab_type": "code",
        "colab": {},
        "outputId": "0ed45f23-bc19-4b54-ddcc-9529eb07b803"
      },
      "source": [
        " x = s_dataset.iloc[:,0:]\n",
        "y = s_dataset.iloc[:,2]\n",
        "x = x.drop(labels = ['Item_Outlet_Sales'],axis =1)\n",
        "x.head()"
      ],
      "execution_count": 0,
      "outputs": [
        {
          "output_type": "execute_result",
          "data": {
            "text/html": [
              "<div>\n",
              "<style scoped>\n",
              "    .dataframe tbody tr th:only-of-type {\n",
              "        vertical-align: middle;\n",
              "    }\n",
              "\n",
              "    .dataframe tbody tr th {\n",
              "        vertical-align: top;\n",
              "    }\n",
              "\n",
              "    .dataframe thead th {\n",
              "        text-align: right;\n",
              "    }\n",
              "</style>\n",
              "<table border=\"1\" class=\"dataframe\">\n",
              "  <thead>\n",
              "    <tr style=\"text-align: right;\">\n",
              "      <th></th>\n",
              "      <th>Item_MRP</th>\n",
              "      <th>Item_Weight</th>\n",
              "      <th>Item_Visibility</th>\n",
              "      <th>Visibilty_2_MRP_Ratio</th>\n",
              "      <th>Visibilty_2_Weight_Ratio</th>\n",
              "      <th>Outlet_Location_Type_0</th>\n",
              "      <th>Outlet_Location_Type_1</th>\n",
              "      <th>Outlet_Location_Type_2</th>\n",
              "      <th>Is_Item_Solid_0</th>\n",
              "      <th>Is_Item_Solid_1</th>\n",
              "      <th>...</th>\n",
              "      <th>Item_Fat_Content_0</th>\n",
              "      <th>Item_Fat_Content_1</th>\n",
              "      <th>Item_Fat_Content_2</th>\n",
              "      <th>Item_Type_Combined_0</th>\n",
              "      <th>Item_Type_Combined_1</th>\n",
              "      <th>Item_Type_Combined_2</th>\n",
              "      <th>Item_Costly_0</th>\n",
              "      <th>Item_Costly_1</th>\n",
              "      <th>Item_Heavy_0</th>\n",
              "      <th>Item_Heavy_1</th>\n",
              "    </tr>\n",
              "  </thead>\n",
              "  <tbody>\n",
              "    <tr>\n",
              "      <th>0</th>\n",
              "      <td>249.8092</td>\n",
              "      <td>9.30</td>\n",
              "      <td>0.016047</td>\n",
              "      <td>0.000064</td>\n",
              "      <td>0.001726</td>\n",
              "      <td>1</td>\n",
              "      <td>0</td>\n",
              "      <td>0</td>\n",
              "      <td>0</td>\n",
              "      <td>1</td>\n",
              "      <td>...</td>\n",
              "      <td>1</td>\n",
              "      <td>0</td>\n",
              "      <td>0</td>\n",
              "      <td>0</td>\n",
              "      <td>1</td>\n",
              "      <td>0</td>\n",
              "      <td>1</td>\n",
              "      <td>0</td>\n",
              "      <td>0</td>\n",
              "      <td>1</td>\n",
              "    </tr>\n",
              "    <tr>\n",
              "      <th>1</th>\n",
              "      <td>48.2692</td>\n",
              "      <td>5.92</td>\n",
              "      <td>0.019278</td>\n",
              "      <td>0.000399</td>\n",
              "      <td>0.003256</td>\n",
              "      <td>0</td>\n",
              "      <td>0</td>\n",
              "      <td>1</td>\n",
              "      <td>1</td>\n",
              "      <td>0</td>\n",
              "      <td>...</td>\n",
              "      <td>0</td>\n",
              "      <td>0</td>\n",
              "      <td>1</td>\n",
              "      <td>1</td>\n",
              "      <td>0</td>\n",
              "      <td>0</td>\n",
              "      <td>0</td>\n",
              "      <td>1</td>\n",
              "      <td>0</td>\n",
              "      <td>1</td>\n",
              "    </tr>\n",
              "    <tr>\n",
              "      <th>2</th>\n",
              "      <td>141.6180</td>\n",
              "      <td>17.50</td>\n",
              "      <td>0.016760</td>\n",
              "      <td>0.000118</td>\n",
              "      <td>0.000958</td>\n",
              "      <td>1</td>\n",
              "      <td>0</td>\n",
              "      <td>0</td>\n",
              "      <td>0</td>\n",
              "      <td>1</td>\n",
              "      <td>...</td>\n",
              "      <td>1</td>\n",
              "      <td>0</td>\n",
              "      <td>0</td>\n",
              "      <td>0</td>\n",
              "      <td>1</td>\n",
              "      <td>0</td>\n",
              "      <td>0</td>\n",
              "      <td>1</td>\n",
              "      <td>1</td>\n",
              "      <td>0</td>\n",
              "    </tr>\n",
              "    <tr>\n",
              "      <th>3</th>\n",
              "      <td>182.0950</td>\n",
              "      <td>19.20</td>\n",
              "      <td>0.000000</td>\n",
              "      <td>0.000000</td>\n",
              "      <td>0.000000</td>\n",
              "      <td>0</td>\n",
              "      <td>0</td>\n",
              "      <td>1</td>\n",
              "      <td>0</td>\n",
              "      <td>1</td>\n",
              "      <td>...</td>\n",
              "      <td>0</td>\n",
              "      <td>0</td>\n",
              "      <td>1</td>\n",
              "      <td>0</td>\n",
              "      <td>1</td>\n",
              "      <td>0</td>\n",
              "      <td>1</td>\n",
              "      <td>0</td>\n",
              "      <td>1</td>\n",
              "      <td>0</td>\n",
              "    </tr>\n",
              "    <tr>\n",
              "      <th>4</th>\n",
              "      <td>53.8614</td>\n",
              "      <td>8.93</td>\n",
              "      <td>0.000000</td>\n",
              "      <td>0.000000</td>\n",
              "      <td>0.000000</td>\n",
              "      <td>0</td>\n",
              "      <td>0</td>\n",
              "      <td>1</td>\n",
              "      <td>1</td>\n",
              "      <td>0</td>\n",
              "      <td>...</td>\n",
              "      <td>0</td>\n",
              "      <td>1</td>\n",
              "      <td>0</td>\n",
              "      <td>0</td>\n",
              "      <td>0</td>\n",
              "      <td>1</td>\n",
              "      <td>0</td>\n",
              "      <td>1</td>\n",
              "      <td>0</td>\n",
              "      <td>1</td>\n",
              "    </tr>\n",
              "  </tbody>\n",
              "</table>\n",
              "<p>5 rows × 1602 columns</p>\n",
              "</div>"
            ],
            "text/plain": [
              "   Item_MRP  Item_Weight  Item_Visibility  Visibilty_2_MRP_Ratio  \\\n",
              "0  249.8092         9.30         0.016047               0.000064   \n",
              "1   48.2692         5.92         0.019278               0.000399   \n",
              "2  141.6180        17.50         0.016760               0.000118   \n",
              "3  182.0950        19.20         0.000000               0.000000   \n",
              "4   53.8614         8.93         0.000000               0.000000   \n",
              "\n",
              "   Visibilty_2_Weight_Ratio  Outlet_Location_Type_0  Outlet_Location_Type_1  \\\n",
              "0                  0.001726                       1                       0   \n",
              "1                  0.003256                       0                       0   \n",
              "2                  0.000958                       1                       0   \n",
              "3                  0.000000                       0                       0   \n",
              "4                  0.000000                       0                       0   \n",
              "\n",
              "   Outlet_Location_Type_2  Is_Item_Solid_0  Is_Item_Solid_1      ...       \\\n",
              "0                       0                0                1      ...        \n",
              "1                       1                1                0      ...        \n",
              "2                       0                0                1      ...        \n",
              "3                       1                0                1      ...        \n",
              "4                       1                1                0      ...        \n",
              "\n",
              "   Item_Fat_Content_0  Item_Fat_Content_1  Item_Fat_Content_2  \\\n",
              "0                   1                   0                   0   \n",
              "1                   0                   0                   1   \n",
              "2                   1                   0                   0   \n",
              "3                   0                   0                   1   \n",
              "4                   0                   1                   0   \n",
              "\n",
              "   Item_Type_Combined_0  Item_Type_Combined_1  Item_Type_Combined_2  \\\n",
              "0                     0                     1                     0   \n",
              "1                     1                     0                     0   \n",
              "2                     0                     1                     0   \n",
              "3                     0                     1                     0   \n",
              "4                     0                     0                     1   \n",
              "\n",
              "   Item_Costly_0  Item_Costly_1  Item_Heavy_0  Item_Heavy_1  \n",
              "0              1              0             0             1  \n",
              "1              0              1             0             1  \n",
              "2              0              1             1             0  \n",
              "3              1              0             1             0  \n",
              "4              0              1             0             1  \n",
              "\n",
              "[5 rows x 1602 columns]"
            ]
          },
          "metadata": {
            "tags": []
          },
          "execution_count": 168
        }
      ]
    },
    {
      "cell_type": "code",
      "metadata": {
        "id": "Hru56kTFB5fE",
        "colab_type": "code",
        "colab": {}
      },
      "source": [
        "from sklearn.model_selection import train_test_split\n",
        "x_train,x_test,y_train,y_test = train_test_split(x,y,test_size=0.3)\n",
        "from sklearn.preprocessing import StandardScaler\n",
        "sc = StandardScaler()\n",
        "x_train = sc.fit_transform(x_train)\n",
        "x_test = sc.transform(x_test)"
      ],
      "execution_count": 0,
      "outputs": []
    },
    {
      "cell_type": "code",
      "metadata": {
        "id": "yGUwqtVYB5fJ",
        "colab_type": "code",
        "colab": {},
        "outputId": "f3401ca9-b7ad-4bd5-88e6-db91f142dcc7"
      },
      "source": [
        "from sklearn.linear_model import LinearRegression\n",
        "reg = LinearRegression()\n",
        "reg.fit(x_train,y_train)\n",
        "round(reg.score(x_train,y_train) * 100,2)"
      ],
      "execution_count": 0,
      "outputs": [
        {
          "output_type": "execute_result",
          "data": {
            "text/plain": [
              "66.16"
            ]
          },
          "metadata": {
            "tags": []
          },
          "execution_count": 170
        }
      ]
    },
    {
      "cell_type": "code",
      "metadata": {
        "id": "SFe-VqyxB5fO",
        "colab_type": "code",
        "colab": {},
        "outputId": "0376abc7-6b98-47ae-e972-a59a935120dd"
      },
      "source": [
        "from sklearn.tree import DecisionTreeRegressor\n",
        "tree = DecisionTreeRegressor(max_depth=15,min_samples_leaf=100)\n",
        "tree.fit(x_train,y_train)"
      ],
      "execution_count": 0,
      "outputs": [
        {
          "output_type": "execute_result",
          "data": {
            "text/plain": [
              "DecisionTreeRegressor(criterion='mse', max_depth=15, max_features=None,\n",
              "           max_leaf_nodes=None, min_impurity_decrease=0.0,\n",
              "           min_impurity_split=None, min_samples_leaf=100,\n",
              "           min_samples_split=2, min_weight_fraction_leaf=0.0,\n",
              "           presort=False, random_state=None, splitter='best')"
            ]
          },
          "metadata": {
            "tags": []
          },
          "execution_count": 171
        }
      ]
    },
    {
      "cell_type": "code",
      "metadata": {
        "id": "aZ0V-Kd6B5fS",
        "colab_type": "code",
        "colab": {},
        "outputId": "fa446933-68c2-4d12-f0b4-6b19bbdebd2e"
      },
      "source": [
        " tree_accuracy = round(tree.score(x_train,y_train),2)\n",
        "tree_accuracy"
      ],
      "execution_count": 0,
      "outputs": [
        {
          "output_type": "execute_result",
          "data": {
            "text/plain": [
              "0.54"
            ]
          },
          "metadata": {
            "tags": []
          },
          "execution_count": 172
        }
      ]
    },
    {
      "cell_type": "code",
      "metadata": {
        "id": "eYoguPUdB5fX",
        "colab_type": "code",
        "colab": {},
        "outputId": "347f1240-b791-4429-db53-35d0c3c5a9a2"
      },
      "source": [
        "from sklearn.ensemble import RandomForestRegressor\n",
        "rf = RandomForestRegressor(n_estimators=400,max_depth=6, min_samples_leaf=100,n_jobs=4)\n",
        "rf.fit(x_train,y_train)"
      ],
      "execution_count": 0,
      "outputs": [
        {
          "output_type": "execute_result",
          "data": {
            "text/plain": [
              "RandomForestRegressor(bootstrap=True, criterion='mse', max_depth=6,\n",
              "           max_features='auto', max_leaf_nodes=None,\n",
              "           min_impurity_decrease=0.0, min_impurity_split=None,\n",
              "           min_samples_leaf=100, min_samples_split=2,\n",
              "           min_weight_fraction_leaf=0.0, n_estimators=400, n_jobs=4,\n",
              "           oob_score=False, random_state=None, verbose=0, warm_start=False)"
            ]
          },
          "metadata": {
            "tags": []
          },
          "execution_count": 173
        }
      ]
    },
    {
      "cell_type": "code",
      "metadata": {
        "id": "LRbcCf2ZB5fb",
        "colab_type": "code",
        "colab": {},
        "outputId": "23aa756b-18d7-4649-8c4e-99674dbf2d28"
      },
      "source": [
        "rf_accuracy = round(rf.score(x_train,y_train),2)\n",
        "rf_accuracy"
      ],
      "execution_count": 0,
      "outputs": [
        {
          "output_type": "execute_result",
          "data": {
            "text/plain": [
              "0.53"
            ]
          },
          "metadata": {
            "tags": []
          },
          "execution_count": 174
        }
      ]
    },
    {
      "cell_type": "code",
      "metadata": {
        "id": "REfCXIAxB5ff",
        "colab_type": "code",
        "colab": {},
        "outputId": "f702654b-c673-44b7-ebf6-55575e225637"
      },
      "source": [
        "rf_accuracy = round(rf.score(x_train,y_train),2)\n",
        "rf_accuracy"
      ],
      "execution_count": 0,
      "outputs": [
        {
          "output_type": "execute_result",
          "data": {
            "text/plain": [
              "0.53"
            ]
          },
          "metadata": {
            "tags": []
          },
          "execution_count": 175
        }
      ]
    },
    {
      "cell_type": "code",
      "metadata": {
        "id": "sXI5Q4YuB5fi",
        "colab_type": "code",
        "colab": {}
      },
      "source": [
        ""
      ],
      "execution_count": 0,
      "outputs": []
    }
  ]
}