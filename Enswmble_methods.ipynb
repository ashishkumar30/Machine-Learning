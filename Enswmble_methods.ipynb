{
  "nbformat": 4,
  "nbformat_minor": 0,
  "metadata": {
    "kernelspec": {
      "display_name": "Python 3",
      "language": "python",
      "name": "python3"
    },
    "language_info": {
      "codemirror_mode": {
        "name": "ipython",
        "version": 3
      },
      "file_extension": ".py",
      "mimetype": "text/x-python",
      "name": "python",
      "nbconvert_exporter": "python",
      "pygments_lexer": "ipython3",
      "version": "3.7.1"
    },
    "colab": {
      "name": "Enswmble_methods.ipynb",
      "provenance": [],
      "collapsed_sections": [],
      "include_colab_link": true
    }
  },
  "cells": [
    {
      "cell_type": "markdown",
      "metadata": {
        "id": "view-in-github",
        "colab_type": "text"
      },
      "source": [
        "<a href=\"https://colab.research.google.com/github/ashishkumar30/Machine-Learning/blob/master/Enswmble_methods.ipynb\" target=\"_parent\"><img src=\"https://colab.research.google.com/assets/colab-badge.svg\" alt=\"Open In Colab\"/></a>"
      ]
    },
    {
      "cell_type": "code",
      "metadata": {
        "id": "h6_exCqlAXGl",
        "colab_type": "code",
        "colab": {}
      },
      "source": [
        "import pandas as pd\n",
        "import numpy as np\n",
        "from sklearn.datasets import load_wine\n",
        "from sklearn.metrics import classification_report"
      ],
      "execution_count": 0,
      "outputs": []
    },
    {
      "cell_type": "code",
      "metadata": {
        "id": "EY8tQY7sAXGw",
        "colab_type": "code",
        "colab": {}
      },
      "source": [
        "df = load_wine()"
      ],
      "execution_count": 0,
      "outputs": []
    },
    {
      "cell_type": "code",
      "metadata": {
        "id": "FedlPKRsAXG2",
        "colab_type": "code",
        "colab": {}
      },
      "source": [
        "x = df.data\n",
        "y = df.target"
      ],
      "execution_count": 0,
      "outputs": []
    },
    {
      "cell_type": "code",
      "metadata": {
        "id": "mnQ70tTyAXG8",
        "colab_type": "code",
        "colab": {}
      },
      "source": [
        "from sklearn.model_selection import train_test_split"
      ],
      "execution_count": 0,
      "outputs": []
    },
    {
      "cell_type": "code",
      "metadata": {
        "id": "ItPlw39lAXHE",
        "colab_type": "code",
        "colab": {}
      },
      "source": [
        "X_train, X_test, y_train, y_test = train_test_split(x,y, test_size=0.33, random_state=42)"
      ],
      "execution_count": 0,
      "outputs": []
    },
    {
      "cell_type": "code",
      "metadata": {
        "id": "bq-mN60VAXHN",
        "colab_type": "code",
        "colab": {}
      },
      "source": [
        "from sklearn.ensemble import BaggingClassifier,RandomForestClassifier\n",
        "from sklearn.tree import DecisionTreeClassifier"
      ],
      "execution_count": 0,
      "outputs": []
    },
    {
      "cell_type": "code",
      "metadata": {
        "id": "HVxVRim5AXHU",
        "colab_type": "code",
        "colab": {}
      },
      "source": [
        "cart = DecisionTreeClassifier()"
      ],
      "execution_count": 0,
      "outputs": []
    },
    {
      "cell_type": "code",
      "metadata": {
        "id": "Fvka-TkoAXHa",
        "colab_type": "code",
        "colab": {},
        "outputId": "6ce80296-4bee-4981-80c3-96d910f873b9"
      },
      "source": [
        "cart.fit(X_train,y_train)\n",
        "p = cart.predict(X_test)\n",
        "print(classification_report(y_test,p))"
      ],
      "execution_count": 0,
      "outputs": [
        {
          "output_type": "stream",
          "text": [
            "              precision    recall  f1-score   support\n",
            "\n",
            "           0       0.95      0.95      0.95        20\n",
            "           1       0.96      1.00      0.98        24\n",
            "           2       1.00      0.93      0.97        15\n",
            "\n",
            "   micro avg       0.97      0.97      0.97        59\n",
            "   macro avg       0.97      0.96      0.97        59\n",
            "weighted avg       0.97      0.97      0.97        59\n",
            "\n"
          ],
          "name": "stdout"
        }
      ]
    },
    {
      "cell_type": "code",
      "metadata": {
        "id": "IorC5w5DAXHh",
        "colab_type": "code",
        "colab": {}
      },
      "source": [
        "model = BaggingClassifier(base_estimator=cart,n_estimators=10)"
      ],
      "execution_count": 0,
      "outputs": []
    },
    {
      "cell_type": "code",
      "metadata": {
        "id": "lXPtGZX2AXHn",
        "colab_type": "code",
        "colab": {},
        "outputId": "3d3dd653-f6df-43bf-eb8b-cede4e347232"
      },
      "source": [
        "model.fit(X_train,y_train)\n",
        "pred = model.predict(X_test)\n",
        "print(classification_report(y_test,pred))"
      ],
      "execution_count": 0,
      "outputs": [
        {
          "output_type": "stream",
          "text": [
            "              precision    recall  f1-score   support\n",
            "\n",
            "           0       1.00      1.00      1.00        20\n",
            "           1       0.96      1.00      0.98        24\n",
            "           2       1.00      0.93      0.97        15\n",
            "\n",
            "   micro avg       0.98      0.98      0.98        59\n",
            "   macro avg       0.99      0.98      0.98        59\n",
            "weighted avg       0.98      0.98      0.98        59\n",
            "\n"
          ],
          "name": "stdout"
        }
      ]
    },
    {
      "cell_type": "code",
      "metadata": {
        "id": "tU9qsZVUAXHt",
        "colab_type": "code",
        "colab": {}
      },
      "source": [
        "max_feature = 5\n",
        "numOfTrees = 10\n",
        "rf = RandomForestClassifier(n_estimators=numOfTrees,max_features=max_feature)"
      ],
      "execution_count": 0,
      "outputs": []
    },
    {
      "cell_type": "code",
      "metadata": {
        "id": "u_hSGFeHAXH0",
        "colab_type": "code",
        "colab": {},
        "outputId": "5f79ae7f-5073-4eee-f06a-66575f4df45f"
      },
      "source": [
        "rf.fit(X_train,y_train)\n",
        "pred_rf = rf.predict(X_test)\n",
        "print(classification_report(y_test,pred_rf))"
      ],
      "execution_count": 0,
      "outputs": [
        {
          "output_type": "stream",
          "text": [
            "              precision    recall  f1-score   support\n",
            "\n",
            "           0       0.91      1.00      0.95        20\n",
            "           1       1.00      0.92      0.96        24\n",
            "           2       1.00      1.00      1.00        15\n",
            "\n",
            "   micro avg       0.97      0.97      0.97        59\n",
            "   macro avg       0.97      0.97      0.97        59\n",
            "weighted avg       0.97      0.97      0.97        59\n",
            "\n"
          ],
          "name": "stdout"
        }
      ]
    },
    {
      "cell_type": "code",
      "metadata": {
        "id": "fSqbrwPhAXH7",
        "colab_type": "code",
        "colab": {}
      },
      "source": [
        "from sklearn.ensemble import GradientBoostingClassifier"
      ],
      "execution_count": 0,
      "outputs": []
    },
    {
      "cell_type": "code",
      "metadata": {
        "id": "AnGjG4vyAXIH",
        "colab_type": "code",
        "colab": {}
      },
      "source": [
        "model_GB = GradientBoostingClassifier(n_estimators=100)"
      ],
      "execution_count": 0,
      "outputs": []
    },
    {
      "cell_type": "code",
      "metadata": {
        "id": "wuSO6p1XAXIT",
        "colab_type": "code",
        "colab": {},
        "outputId": "fde1cc93-b1d1-4e83-bfa3-299fb5f8c18b"
      },
      "source": [
        "model_GB.fit(X_train,y_train)\n",
        "pred_GB = model_GB.predict(X_test)\n",
        "print(classification_report(y_test,pred_GB))"
      ],
      "execution_count": 0,
      "outputs": [
        {
          "output_type": "stream",
          "text": [
            "              precision    recall  f1-score   support\n",
            "\n",
            "           0       0.91      1.00      0.95        20\n",
            "           1       0.96      0.92      0.94        24\n",
            "           2       1.00      0.93      0.97        15\n",
            "\n",
            "   micro avg       0.95      0.95      0.95        59\n",
            "   macro avg       0.96      0.95      0.95        59\n",
            "weighted avg       0.95      0.95      0.95        59\n",
            "\n"
          ],
          "name": "stdout"
        }
      ]
    },
    {
      "cell_type": "code",
      "metadata": {
        "id": "sTej0Fg0AXIe",
        "colab_type": "code",
        "colab": {}
      },
      "source": [
        "from sklearn.ensemble import VotingClassifier\n",
        "from sklearn.linear_model import LogisticRegression\n",
        "from sklearn.svm import SVC"
      ],
      "execution_count": 0,
      "outputs": []
    },
    {
      "cell_type": "code",
      "metadata": {
        "id": "ihDYb0ZvAXI1",
        "colab_type": "code",
        "colab": {}
      },
      "source": [
        "estimators = []\n",
        "\n",
        "model1 = DecisionTreeClassifier()\n",
        "estimators.append(('cart', model1))\n",
        "model2 = LogisticRegression()\n",
        "estimators.append(('logistic', model2))\n",
        "model3 = SVC()\n",
        "estimators.append(('svm', model3))"
      ],
      "execution_count": 0,
      "outputs": []
    },
    {
      "cell_type": "code",
      "metadata": {
        "id": "uSED8yB5AXI7",
        "colab_type": "code",
        "colab": {}
      },
      "source": [
        "model_VC = VotingClassifier(estimators=estimators)"
      ],
      "execution_count": 0,
      "outputs": []
    },
    {
      "cell_type": "code",
      "metadata": {
        "id": "gjyTsL9VAXI_",
        "colab_type": "code",
        "colab": {},
        "outputId": "fc5ac6ce-f47d-413a-e36f-7439382b4bbd"
      },
      "source": [
        "model_VC.fit(X_train,y_train)\n",
        "pred_VC = model_VC.predict(X_test)\n",
        "print(classification_report(y_test,pred_VC))"
      ],
      "execution_count": 0,
      "outputs": [
        {
          "output_type": "stream",
          "text": [
            "C:\\Users\\Genius\\Anaconda3\\lib\\site-packages\\sklearn\\linear_model\\logistic.py:433: FutureWarning: Default solver will be changed to 'lbfgs' in 0.22. Specify a solver to silence this warning.\n",
            "  FutureWarning)\n",
            "C:\\Users\\Genius\\Anaconda3\\lib\\site-packages\\sklearn\\linear_model\\logistic.py:460: FutureWarning: Default multi_class will be changed to 'auto' in 0.22. Specify the multi_class option to silence this warning.\n",
            "  \"this warning.\", FutureWarning)\n",
            "C:\\Users\\Genius\\Anaconda3\\lib\\site-packages\\sklearn\\svm\\base.py:196: FutureWarning: The default value of gamma will change from 'auto' to 'scale' in version 0.22 to account better for unscaled features. Set gamma explicitly to 'auto' or 'scale' to avoid this warning.\n",
            "  \"avoid this warning.\", FutureWarning)\n"
          ],
          "name": "stderr"
        },
        {
          "output_type": "stream",
          "text": [
            "              precision    recall  f1-score   support\n",
            "\n",
            "           0       1.00      0.90      0.95        20\n",
            "           1       0.89      1.00      0.94        24\n",
            "           2       1.00      0.93      0.97        15\n",
            "\n",
            "   micro avg       0.95      0.95      0.95        59\n",
            "   macro avg       0.96      0.94      0.95        59\n",
            "weighted avg       0.95      0.95      0.95        59\n",
            "\n"
          ],
          "name": "stdout"
        }
      ]
    },
    {
      "cell_type": "code",
      "metadata": {
        "id": "MEcjP0ORAXJI",
        "colab_type": "code",
        "colab": {}
      },
      "source": [
        ""
      ],
      "execution_count": 0,
      "outputs": []
    }
  ]
}