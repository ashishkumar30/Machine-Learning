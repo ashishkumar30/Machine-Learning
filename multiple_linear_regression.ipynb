{
  "nbformat": 4,
  "nbformat_minor": 0,
  "metadata": {
    "colab": {
      "name": "multiple_linear_regression.ipynb",
      "version": "0.3.2",
      "provenance": [],
      "collapsed_sections": [],
      "include_colab_link": true
    },
    "language_info": {
      "codemirror_mode": {
        "name": "ipython",
        "version": 3
      },
      "file_extension": ".py",
      "mimetype": "text/x-python",
      "name": "python",
      "nbconvert_exporter": "python",
      "pygments_lexer": "ipython3",
      "version": "3.6.3"
    },
    "kernelspec": {
      "display_name": "Python 3",
      "language": "python",
      "name": "python3"
    }
  },
  "cells": [
    {
      "cell_type": "markdown",
      "metadata": {
        "id": "view-in-github",
        "colab_type": "text"
      },
      "source": [
        "<a href=\"https://colab.research.google.com/github/ashishkumar30/Machine-Learning/blob/master/multiple_linear_regression.ipynb\" target=\"_parent\"><img src=\"https://colab.research.google.com/assets/colab-badge.svg\" alt=\"Open In Colab\"/></a>"
      ]
    },
    {
      "cell_type": "code",
      "metadata": {
        "id": "3RceebbZWEAf",
        "colab_type": "code",
        "colab": {}
      },
      "source": [
        "import numpy as np\n",
        "import matplotlib.pyplot as plt\n",
        "import pandas as pd"
      ],
      "execution_count": 0,
      "outputs": []
    },
    {
      "cell_type": "code",
      "metadata": {
        "id": "45zQC0IfWEAl",
        "colab_type": "code",
        "colab": {},
        "outputId": "6be055aa-a23c-4ae7-af86-8e886f44c571"
      },
      "source": [
        "dataset = pd.read_csv('startups.csv')\n",
        "print(dataset.head(10))\n",
        "X = dataset.iloc[:, :-1].values\n",
        "y = dataset.iloc[:, 4].values"
      ],
      "execution_count": 0,
      "outputs": [
        {
          "output_type": "stream",
          "text": [
            "   R&D Spend  Administration  Marketing Spend       State     Profit\n",
            "0  165349.20       136897.80        471784.10    New York  192261.83\n",
            "1  162597.70       151377.59        443898.53  California  191792.06\n",
            "2  153441.51       101145.55        407934.54     Florida  191050.39\n",
            "3  144372.41       118671.85        383199.62    New York  182901.99\n",
            "4  142107.34        91391.77        366168.42     Florida  166187.94\n",
            "5  131876.90        99814.71        362861.36    New York  156991.12\n",
            "6  134615.46       147198.87        127716.82  California  156122.51\n",
            "7  130298.13       145530.06        323876.68     Florida  155752.60\n",
            "8  120542.52       148718.95        311613.29    New York  152211.77\n",
            "9  123334.88       108679.17        304981.62  California  149759.96\n"
          ],
          "name": "stdout"
        }
      ]
    },
    {
      "cell_type": "code",
      "metadata": {
        "id": "CyA28UUCWEAs",
        "colab_type": "code",
        "colab": {},
        "outputId": "5bcf9c44-e6b6-45d8-be35-71d9b2e131d5"
      },
      "source": [
        "print(pd.DataFrame(X))\n",
        "print(pd.DataFrame(y))"
      ],
      "execution_count": 0,
      "outputs": [
        {
          "output_type": "stream",
          "text": [
            "          0        1        2           3\n",
            "0    165349   136898   471784    New York\n",
            "1    162598   151378   443899  California\n",
            "2    153442   101146   407935     Florida\n",
            "3    144372   118672   383200    New York\n",
            "4    142107  91391.8   366168     Florida\n",
            "5    131877  99814.7   362861    New York\n",
            "6    134615   147199   127717  California\n",
            "7    130298   145530   323877     Florida\n",
            "8    120543   148719   311613    New York\n",
            "9    123335   108679   304982  California\n",
            "10   101913   110594   229161     Florida\n",
            "11   100672  91790.6   249745  California\n",
            "12  93863.8   127320   249839     Florida\n",
            "13  91992.4   135495   252665  California\n",
            "14   119943   156547   256513     Florida\n",
            "15   114524   122617   261776    New York\n",
            "16  78013.1   121598   264346  California\n",
            "17  94657.2   145078   282574    New York\n",
            "18  91749.2   114176   294920     Florida\n",
            "19  86419.7   153514        0    New York\n",
            "20  76253.9   113867   298664  California\n",
            "21  78389.5   153773   299737    New York\n",
            "22  73994.6   122783   303319     Florida\n",
            "23  67532.5   105751   304769     Florida\n",
            "24    77044  99281.3   140575    New York\n",
            "25  64664.7   139553   137963  California\n",
            "26  75328.9   144136   134050     Florida\n",
            "27  72107.6   127865   353184    New York\n",
            "28  66051.5   182646   118148     Florida\n",
            "29  65605.5   153032   107138    New York\n",
            "30  61994.5   115641  91131.2     Florida\n",
            "31  61136.4   152702  88218.2    New York\n",
            "32  63408.9   129220  46085.2  California\n",
            "33  55493.9   103057   214635     Florida\n",
            "34  46426.1   157694   210798  California\n",
            "35    46014  85047.4   205518    New York\n",
            "36  28663.8   127056   201127     Florida\n",
            "37  44069.9  51283.1   197029  California\n",
            "38  20229.6  65947.9   185265    New York\n",
            "39  38558.5  82982.1   174999  California\n",
            "40  28754.3   118546   172796  California\n",
            "41  27892.9  84710.8   164471     Florida\n",
            "42  23640.9  96189.6   148001  California\n",
            "43  15505.7   127382  35534.2    New York\n",
            "44  22177.7   154806  28334.7  California\n",
            "45  1000.23   124153  1903.93    New York\n",
            "46  1315.46   115816   297114     Florida\n",
            "47        0   135427        0  California\n",
            "48   542.05  51743.2        0    New York\n",
            "49        0   116984  45173.1  California\n",
            "            0\n",
            "0   192261.83\n",
            "1   191792.06\n",
            "2   191050.39\n",
            "3   182901.99\n",
            "4   166187.94\n",
            "5   156991.12\n",
            "6   156122.51\n",
            "7   155752.60\n",
            "8   152211.77\n",
            "9   149759.96\n",
            "10  146121.95\n",
            "11  144259.40\n",
            "12  141585.52\n",
            "13  134307.35\n",
            "14  132602.65\n",
            "15  129917.04\n",
            "16  126992.93\n",
            "17  125370.37\n",
            "18  124266.90\n",
            "19  122776.86\n",
            "20  118474.03\n",
            "21  111313.02\n",
            "22  110352.25\n",
            "23  108733.99\n",
            "24  108552.04\n",
            "25  107404.34\n",
            "26  105733.54\n",
            "27  105008.31\n",
            "28  103282.38\n",
            "29  101004.64\n",
            "30   99937.59\n",
            "31   97483.56\n",
            "32   97427.84\n",
            "33   96778.92\n",
            "34   96712.80\n",
            "35   96479.51\n",
            "36   90708.19\n",
            "37   89949.14\n",
            "38   81229.06\n",
            "39   81005.76\n",
            "40   78239.91\n",
            "41   77798.83\n",
            "42   71498.49\n",
            "43   69758.98\n",
            "44   65200.33\n",
            "45   64926.08\n",
            "46   49490.75\n",
            "47   42559.73\n",
            "48   35673.41\n",
            "49   14681.40\n"
          ],
          "name": "stdout"
        }
      ]
    },
    {
      "cell_type": "code",
      "metadata": {
        "id": "Mx7-L8qiWEAx",
        "colab_type": "code",
        "colab": {}
      },
      "source": [
        "from sklearn.preprocessing import LabelEncoder, OneHotEncoder\n",
        "labelencoder = LabelEncoder()\n",
        "X[:, 3] = labelencoder.fit_transform(X[:, 3])"
      ],
      "execution_count": 0,
      "outputs": []
    },
    {
      "cell_type": "code",
      "metadata": {
        "id": "WShtB6-LWEA1",
        "colab_type": "code",
        "colab": {},
        "outputId": "4fd7a4da-c14c-4c00-ebe1-aa44e3cbd4d5"
      },
      "source": [
        "print(pd.DataFrame(X))"
      ],
      "execution_count": 0,
      "outputs": [
        {
          "output_type": "stream",
          "text": [
            "          0        1        2  3\n",
            "0    165349   136898   471784  2\n",
            "1    162598   151378   443899  0\n",
            "2    153442   101146   407935  1\n",
            "3    144372   118672   383200  2\n",
            "4    142107  91391.8   366168  1\n",
            "5    131877  99814.7   362861  2\n",
            "6    134615   147199   127717  0\n",
            "7    130298   145530   323877  1\n",
            "8    120543   148719   311613  2\n",
            "9    123335   108679   304982  0\n",
            "10   101913   110594   229161  1\n",
            "11   100672  91790.6   249745  0\n",
            "12  93863.8   127320   249839  1\n",
            "13  91992.4   135495   252665  0\n",
            "14   119943   156547   256513  1\n",
            "15   114524   122617   261776  2\n",
            "16  78013.1   121598   264346  0\n",
            "17  94657.2   145078   282574  2\n",
            "18  91749.2   114176   294920  1\n",
            "19  86419.7   153514        0  2\n",
            "20  76253.9   113867   298664  0\n",
            "21  78389.5   153773   299737  2\n",
            "22  73994.6   122783   303319  1\n",
            "23  67532.5   105751   304769  1\n",
            "24    77044  99281.3   140575  2\n",
            "25  64664.7   139553   137963  0\n",
            "26  75328.9   144136   134050  1\n",
            "27  72107.6   127865   353184  2\n",
            "28  66051.5   182646   118148  1\n",
            "29  65605.5   153032   107138  2\n",
            "30  61994.5   115641  91131.2  1\n",
            "31  61136.4   152702  88218.2  2\n",
            "32  63408.9   129220  46085.2  0\n",
            "33  55493.9   103057   214635  1\n",
            "34  46426.1   157694   210798  0\n",
            "35    46014  85047.4   205518  2\n",
            "36  28663.8   127056   201127  1\n",
            "37  44069.9  51283.1   197029  0\n",
            "38  20229.6  65947.9   185265  2\n",
            "39  38558.5  82982.1   174999  0\n",
            "40  28754.3   118546   172796  0\n",
            "41  27892.9  84710.8   164471  1\n",
            "42  23640.9  96189.6   148001  0\n",
            "43  15505.7   127382  35534.2  2\n",
            "44  22177.7   154806  28334.7  0\n",
            "45  1000.23   124153  1903.93  2\n",
            "46  1315.46   115816   297114  1\n",
            "47        0   135427        0  0\n",
            "48   542.05  51743.2        0  2\n",
            "49        0   116984  45173.1  0\n"
          ],
          "name": "stdout"
        }
      ]
    },
    {
      "cell_type": "code",
      "metadata": {
        "id": "OohHdVFOWEA6",
        "colab_type": "code",
        "colab": {}
      },
      "source": [
        "onehotencoder = OneHotEncoder(categorical_features = [3])\n",
        "X = onehotencoder.fit_transform(X).toarray()"
      ],
      "execution_count": 0,
      "outputs": []
    },
    {
      "cell_type": "code",
      "metadata": {
        "id": "PX0c7oD5WEA_",
        "colab_type": "code",
        "colab": {},
        "outputId": "d3dc2a20-b77f-40db-e61d-0bafa8f31704"
      },
      "source": [
        "print(pd.DataFrame(X))"
      ],
      "execution_count": 0,
      "outputs": [
        {
          "output_type": "stream",
          "text": [
            "      0    1    2          3          4          5\n",
            "0   0.0  0.0  1.0  165349.20  136897.80  471784.10\n",
            "1   1.0  0.0  0.0  162597.70  151377.59  443898.53\n",
            "2   0.0  1.0  0.0  153441.51  101145.55  407934.54\n",
            "3   0.0  0.0  1.0  144372.41  118671.85  383199.62\n",
            "4   0.0  1.0  0.0  142107.34   91391.77  366168.42\n",
            "5   0.0  0.0  1.0  131876.90   99814.71  362861.36\n",
            "6   1.0  0.0  0.0  134615.46  147198.87  127716.82\n",
            "7   0.0  1.0  0.0  130298.13  145530.06  323876.68\n",
            "8   0.0  0.0  1.0  120542.52  148718.95  311613.29\n",
            "9   1.0  0.0  0.0  123334.88  108679.17  304981.62\n",
            "10  0.0  1.0  0.0  101913.08  110594.11  229160.95\n",
            "11  1.0  0.0  0.0  100671.96   91790.61  249744.55\n",
            "12  0.0  1.0  0.0   93863.75  127320.38  249839.44\n",
            "13  1.0  0.0  0.0   91992.39  135495.07  252664.93\n",
            "14  0.0  1.0  0.0  119943.24  156547.42  256512.92\n",
            "15  0.0  0.0  1.0  114523.61  122616.84  261776.23\n",
            "16  1.0  0.0  0.0   78013.11  121597.55  264346.06\n",
            "17  0.0  0.0  1.0   94657.16  145077.58  282574.31\n",
            "18  0.0  1.0  0.0   91749.16  114175.79  294919.57\n",
            "19  0.0  0.0  1.0   86419.70  153514.11       0.00\n",
            "20  1.0  0.0  0.0   76253.86  113867.30  298664.47\n",
            "21  0.0  0.0  1.0   78389.47  153773.43  299737.29\n",
            "22  0.0  1.0  0.0   73994.56  122782.75  303319.26\n",
            "23  0.0  1.0  0.0   67532.53  105751.03  304768.73\n",
            "24  0.0  0.0  1.0   77044.01   99281.34  140574.81\n",
            "25  1.0  0.0  0.0   64664.71  139553.16  137962.62\n",
            "26  0.0  1.0  0.0   75328.87  144135.98  134050.07\n",
            "27  0.0  0.0  1.0   72107.60  127864.55  353183.81\n",
            "28  0.0  1.0  0.0   66051.52  182645.56  118148.20\n",
            "29  0.0  0.0  1.0   65605.48  153032.06  107138.38\n",
            "30  0.0  1.0  0.0   61994.48  115641.28   91131.24\n",
            "31  0.0  0.0  1.0   61136.38  152701.92   88218.23\n",
            "32  1.0  0.0  0.0   63408.86  129219.61   46085.25\n",
            "33  0.0  1.0  0.0   55493.95  103057.49  214634.81\n",
            "34  1.0  0.0  0.0   46426.07  157693.92  210797.67\n",
            "35  0.0  0.0  1.0   46014.02   85047.44  205517.64\n",
            "36  0.0  1.0  0.0   28663.76  127056.21  201126.82\n",
            "37  1.0  0.0  0.0   44069.95   51283.14  197029.42\n",
            "38  0.0  0.0  1.0   20229.59   65947.93  185265.10\n",
            "39  1.0  0.0  0.0   38558.51   82982.09  174999.30\n",
            "40  1.0  0.0  0.0   28754.33  118546.05  172795.67\n",
            "41  0.0  1.0  0.0   27892.92   84710.77  164470.71\n",
            "42  1.0  0.0  0.0   23640.93   96189.63  148001.11\n",
            "43  0.0  0.0  1.0   15505.73  127382.30   35534.17\n",
            "44  1.0  0.0  0.0   22177.74  154806.14   28334.72\n",
            "45  0.0  0.0  1.0    1000.23  124153.04    1903.93\n",
            "46  0.0  1.0  0.0    1315.46  115816.21  297114.46\n",
            "47  1.0  0.0  0.0       0.00  135426.92       0.00\n",
            "48  0.0  0.0  1.0     542.05   51743.15       0.00\n",
            "49  1.0  0.0  0.0       0.00  116983.80   45173.06\n"
          ],
          "name": "stdout"
        }
      ]
    },
    {
      "cell_type": "code",
      "metadata": {
        "id": "aGE-junuWEBE",
        "colab_type": "code",
        "colab": {}
      },
      "source": [
        "# Avoiding the Dummy Variable Trap\n",
        "X = X[:, 1:]"
      ],
      "execution_count": 0,
      "outputs": []
    },
    {
      "cell_type": "code",
      "metadata": {
        "id": "g2u88ALkWEBH",
        "colab_type": "code",
        "colab": {},
        "outputId": "5f13b19e-253f-4310-f1e1-06cbca033feb"
      },
      "source": [
        "print(pd.DataFrame(X))"
      ],
      "execution_count": 0,
      "outputs": [
        {
          "output_type": "stream",
          "text": [
            "      0    1          2          3          4\n",
            "0   0.0  1.0  165349.20  136897.80  471784.10\n",
            "1   0.0  0.0  162597.70  151377.59  443898.53\n",
            "2   1.0  0.0  153441.51  101145.55  407934.54\n",
            "3   0.0  1.0  144372.41  118671.85  383199.62\n",
            "4   1.0  0.0  142107.34   91391.77  366168.42\n",
            "5   0.0  1.0  131876.90   99814.71  362861.36\n",
            "6   0.0  0.0  134615.46  147198.87  127716.82\n",
            "7   1.0  0.0  130298.13  145530.06  323876.68\n",
            "8   0.0  1.0  120542.52  148718.95  311613.29\n",
            "9   0.0  0.0  123334.88  108679.17  304981.62\n",
            "10  1.0  0.0  101913.08  110594.11  229160.95\n",
            "11  0.0  0.0  100671.96   91790.61  249744.55\n",
            "12  1.0  0.0   93863.75  127320.38  249839.44\n",
            "13  0.0  0.0   91992.39  135495.07  252664.93\n",
            "14  1.0  0.0  119943.24  156547.42  256512.92\n",
            "15  0.0  1.0  114523.61  122616.84  261776.23\n",
            "16  0.0  0.0   78013.11  121597.55  264346.06\n",
            "17  0.0  1.0   94657.16  145077.58  282574.31\n",
            "18  1.0  0.0   91749.16  114175.79  294919.57\n",
            "19  0.0  1.0   86419.70  153514.11       0.00\n",
            "20  0.0  0.0   76253.86  113867.30  298664.47\n",
            "21  0.0  1.0   78389.47  153773.43  299737.29\n",
            "22  1.0  0.0   73994.56  122782.75  303319.26\n",
            "23  1.0  0.0   67532.53  105751.03  304768.73\n",
            "24  0.0  1.0   77044.01   99281.34  140574.81\n",
            "25  0.0  0.0   64664.71  139553.16  137962.62\n",
            "26  1.0  0.0   75328.87  144135.98  134050.07\n",
            "27  0.0  1.0   72107.60  127864.55  353183.81\n",
            "28  1.0  0.0   66051.52  182645.56  118148.20\n",
            "29  0.0  1.0   65605.48  153032.06  107138.38\n",
            "30  1.0  0.0   61994.48  115641.28   91131.24\n",
            "31  0.0  1.0   61136.38  152701.92   88218.23\n",
            "32  0.0  0.0   63408.86  129219.61   46085.25\n",
            "33  1.0  0.0   55493.95  103057.49  214634.81\n",
            "34  0.0  0.0   46426.07  157693.92  210797.67\n",
            "35  0.0  1.0   46014.02   85047.44  205517.64\n",
            "36  1.0  0.0   28663.76  127056.21  201126.82\n",
            "37  0.0  0.0   44069.95   51283.14  197029.42\n",
            "38  0.0  1.0   20229.59   65947.93  185265.10\n",
            "39  0.0  0.0   38558.51   82982.09  174999.30\n",
            "40  0.0  0.0   28754.33  118546.05  172795.67\n",
            "41  1.0  0.0   27892.92   84710.77  164470.71\n",
            "42  0.0  0.0   23640.93   96189.63  148001.11\n",
            "43  0.0  1.0   15505.73  127382.30   35534.17\n",
            "44  0.0  0.0   22177.74  154806.14   28334.72\n",
            "45  0.0  1.0    1000.23  124153.04    1903.93\n",
            "46  1.0  0.0    1315.46  115816.21  297114.46\n",
            "47  0.0  0.0       0.00  135426.92       0.00\n",
            "48  0.0  1.0     542.05   51743.15       0.00\n",
            "49  0.0  0.0       0.00  116983.80   45173.06\n"
          ],
          "name": "stdout"
        }
      ]
    },
    {
      "cell_type": "code",
      "metadata": {
        "id": "MlyWkbC8WEBO",
        "colab_type": "code",
        "colab": {},
        "outputId": "577339fb-cb3c-47a2-9274-9dbadb6228d7"
      },
      "source": [
        "from sklearn.cross_validation import train_test_split\n",
        "X_train, X_test, y_train, y_test = train_test_split(X, y, test_size = 0.2, random_state = 0)"
      ],
      "execution_count": 0,
      "outputs": [
        {
          "output_type": "stream",
          "text": [
            "C:\\Users\\Vishal Vikram Singh\\Anaconda3\\lib\\site-packages\\sklearn\\cross_validation.py:41: DeprecationWarning: This module was deprecated in version 0.18 in favor of the model_selection module into which all the refactored classes and functions are moved. Also note that the interface of the new CV iterators are different from that of this module. This module will be removed in 0.20.\n",
            "  \"This module will be removed in 0.20.\", DeprecationWarning)\n"
          ],
          "name": "stderr"
        }
      ]
    },
    {
      "cell_type": "code",
      "metadata": {
        "id": "_OqxFfVLWEBU",
        "colab_type": "code",
        "colab": {},
        "outputId": "d2a66fa9-77fc-421e-c05a-1bb2c8c93aa3"
      },
      "source": [
        "X_train.shape"
      ],
      "execution_count": 0,
      "outputs": [
        {
          "output_type": "execute_result",
          "data": {
            "text/plain": [
              "(40, 5)"
            ]
          },
          "metadata": {
            "tags": []
          },
          "execution_count": 11
        }
      ]
    },
    {
      "cell_type": "code",
      "metadata": {
        "id": "5Dh2ztIlWEBZ",
        "colab_type": "code",
        "colab": {},
        "outputId": "d932f70c-4c2a-4ce3-a50f-bfac266c8e26"
      },
      "source": [
        "from sklearn.linear_model import LinearRegression\n",
        "regressor = LinearRegression()\n",
        "regressor.fit(X_train, y_train)"
      ],
      "execution_count": 0,
      "outputs": [
        {
          "output_type": "execute_result",
          "data": {
            "text/plain": [
              "LinearRegression(copy_X=True, fit_intercept=True, n_jobs=1, normalize=False)"
            ]
          },
          "metadata": {
            "tags": []
          },
          "execution_count": 12
        }
      ]
    },
    {
      "cell_type": "code",
      "metadata": {
        "id": "F_t6MAGnWEBd",
        "colab_type": "code",
        "colab": {}
      },
      "source": [
        "y_pred = regressor.predict(X_test)"
      ],
      "execution_count": 0,
      "outputs": []
    },
    {
      "cell_type": "code",
      "metadata": {
        "id": "4yR0mRSkWEBh",
        "colab_type": "code",
        "colab": {},
        "outputId": "8e3abb50-2484-4220-f76a-d88d078ce56b"
      },
      "source": [
        "print(pd.DataFrame({'Actual': list(y_test),'Predicted': list(y_pred)}))"
      ],
      "execution_count": 0,
      "outputs": [
        {
          "output_type": "stream",
          "text": [
            "      Actual      Predicted\n",
            "0  103282.38  103015.201598\n",
            "1  144259.40  132582.277608\n",
            "2  146121.95  132447.738452\n",
            "3   77798.83   71976.098513\n",
            "4  191050.39  178537.482211\n",
            "5  105008.31  116161.242302\n",
            "6   81229.06   67851.692097\n",
            "7   97483.56   98791.733747\n",
            "8  110352.25  113969.435330\n",
            "9  166187.94  167921.065696\n"
          ],
          "name": "stdout"
        }
      ]
    },
    {
      "cell_type": "code",
      "metadata": {
        "id": "Jq0cds6eWEBn",
        "colab_type": "code",
        "colab": {},
        "outputId": "549a4def-f1d2-480c-97f4-fb6bee8615dd"
      },
      "source": [
        "from sklearn import metrics\n",
        "print(\"Mean Absolute Error:\",metrics.mean_absolute_error(y_test,y_pred))\n",
        "print(\"Mean Squared Error:\",metrics.mean_squared_error(y_test,y_pred))\n",
        "print(\"Root Mean Absolute Error:\",np.sqrt(metrics.mean_absolute_error(y_test,y_pred)))"
      ],
      "execution_count": 0,
      "outputs": [
        {
          "output_type": "stream",
          "text": [
            "Mean Absolute Error: 7514.293659640891\n",
            "Mean Squared Error: 83502864.03257468\n",
            "Root Mean Absolute Error: 86.68502557905195\n"
          ],
          "name": "stdout"
        }
      ]
    },
    {
      "cell_type": "code",
      "metadata": {
        "id": "leUmqCAPWEBt",
        "colab_type": "code",
        "colab": {},
        "outputId": "d74e4367-78a0-4bc7-c92a-29653721f638"
      },
      "source": [
        "print(pd.DataFrame(X).columns)\n",
        "coeff_df = pd.DataFrame(regressor.coef_,pd.DataFrame(X).columns,columns=['Coefficient'])\n",
        "coeff_df"
      ],
      "execution_count": 0,
      "outputs": [
        {
          "output_type": "stream",
          "text": [
            "RangeIndex(start=0, stop=5, step=1)\n"
          ],
          "name": "stdout"
        },
        {
          "output_type": "execute_result",
          "data": {
            "text/html": [
              "<div>\n",
              "<style>\n",
              "    .dataframe thead tr:only-child th {\n",
              "        text-align: right;\n",
              "    }\n",
              "\n",
              "    .dataframe thead th {\n",
              "        text-align: left;\n",
              "    }\n",
              "\n",
              "    .dataframe tbody tr th {\n",
              "        vertical-align: top;\n",
              "    }\n",
              "</style>\n",
              "<table border=\"1\" class=\"dataframe\">\n",
              "  <thead>\n",
              "    <tr style=\"text-align: right;\">\n",
              "      <th></th>\n",
              "      <th>Coefficient</th>\n",
              "    </tr>\n",
              "  </thead>\n",
              "  <tbody>\n",
              "    <tr>\n",
              "      <th>0</th>\n",
              "      <td>-959.284160</td>\n",
              "    </tr>\n",
              "    <tr>\n",
              "      <th>1</th>\n",
              "      <td>699.369053</td>\n",
              "    </tr>\n",
              "    <tr>\n",
              "      <th>2</th>\n",
              "      <td>0.773467</td>\n",
              "    </tr>\n",
              "    <tr>\n",
              "      <th>3</th>\n",
              "      <td>0.032885</td>\n",
              "    </tr>\n",
              "    <tr>\n",
              "      <th>4</th>\n",
              "      <td>0.036610</td>\n",
              "    </tr>\n",
              "  </tbody>\n",
              "</table>\n",
              "</div>"
            ],
            "text/plain": [
              "   Coefficient\n",
              "0  -959.284160\n",
              "1   699.369053\n",
              "2     0.773467\n",
              "3     0.032885\n",
              "4     0.036610"
            ]
          },
          "metadata": {
            "tags": []
          },
          "execution_count": 20
        }
      ]
    },
    {
      "cell_type": "code",
      "metadata": {
        "id": "KJL4ke4AWEBx",
        "colab_type": "code",
        "colab": {}
      },
      "source": [
        "test = pd.DataFrame([0.0,0.0,0.0,0.0,0.0])"
      ],
      "execution_count": 0,
      "outputs": []
    },
    {
      "cell_type": "code",
      "metadata": {
        "id": "TJXVs3yAWEB3",
        "colab_type": "code",
        "colab": {},
        "outputId": "725b9ac7-e549-4800-9b05-9389fa45929e"
      },
      "source": [
        "test"
      ],
      "execution_count": 0,
      "outputs": [
        {
          "output_type": "execute_result",
          "data": {
            "text/html": [
              "<div>\n",
              "<style>\n",
              "    .dataframe thead tr:only-child th {\n",
              "        text-align: right;\n",
              "    }\n",
              "\n",
              "    .dataframe thead th {\n",
              "        text-align: left;\n",
              "    }\n",
              "\n",
              "    .dataframe tbody tr th {\n",
              "        vertical-align: top;\n",
              "    }\n",
              "</style>\n",
              "<table border=\"1\" class=\"dataframe\">\n",
              "  <thead>\n",
              "    <tr style=\"text-align: right;\">\n",
              "      <th></th>\n",
              "      <th>0</th>\n",
              "    </tr>\n",
              "  </thead>\n",
              "  <tbody>\n",
              "    <tr>\n",
              "      <th>0</th>\n",
              "      <td>0.0</td>\n",
              "    </tr>\n",
              "    <tr>\n",
              "      <th>1</th>\n",
              "      <td>0.0</td>\n",
              "    </tr>\n",
              "    <tr>\n",
              "      <th>2</th>\n",
              "      <td>0.0</td>\n",
              "    </tr>\n",
              "    <tr>\n",
              "      <th>3</th>\n",
              "      <td>0.0</td>\n",
              "    </tr>\n",
              "    <tr>\n",
              "      <th>4</th>\n",
              "      <td>0.0</td>\n",
              "    </tr>\n",
              "  </tbody>\n",
              "</table>\n",
              "</div>"
            ],
            "text/plain": [
              "     0\n",
              "0  0.0\n",
              "1  0.0\n",
              "2  0.0\n",
              "3  0.0\n",
              "4  0.0"
            ]
          },
          "metadata": {
            "tags": []
          },
          "execution_count": 22
        }
      ]
    },
    {
      "cell_type": "code",
      "metadata": {
        "id": "58y9_7QCWEB7",
        "colab_type": "code",
        "colab": {},
        "outputId": "762d550a-b399-4d27-e4e1-6cb3682aff57"
      },
      "source": [
        "test.T"
      ],
      "execution_count": 0,
      "outputs": [
        {
          "output_type": "execute_result",
          "data": {
            "text/html": [
              "<div>\n",
              "<style>\n",
              "    .dataframe thead tr:only-child th {\n",
              "        text-align: right;\n",
              "    }\n",
              "\n",
              "    .dataframe thead th {\n",
              "        text-align: left;\n",
              "    }\n",
              "\n",
              "    .dataframe tbody tr th {\n",
              "        vertical-align: top;\n",
              "    }\n",
              "</style>\n",
              "<table border=\"1\" class=\"dataframe\">\n",
              "  <thead>\n",
              "    <tr style=\"text-align: right;\">\n",
              "      <th></th>\n",
              "      <th>0</th>\n",
              "      <th>1</th>\n",
              "      <th>2</th>\n",
              "      <th>3</th>\n",
              "      <th>4</th>\n",
              "    </tr>\n",
              "  </thead>\n",
              "  <tbody>\n",
              "    <tr>\n",
              "      <th>0</th>\n",
              "      <td>0.0</td>\n",
              "      <td>0.0</td>\n",
              "      <td>0.0</td>\n",
              "      <td>0.0</td>\n",
              "      <td>0.0</td>\n",
              "    </tr>\n",
              "  </tbody>\n",
              "</table>\n",
              "</div>"
            ],
            "text/plain": [
              "     0    1    2    3    4\n",
              "0  0.0  0.0  0.0  0.0  0.0"
            ]
          },
          "metadata": {
            "tags": []
          },
          "execution_count": 23
        }
      ]
    },
    {
      "cell_type": "code",
      "metadata": {
        "id": "7QqVvbJxWECB",
        "colab_type": "code",
        "colab": {}
      },
      "source": [
        "test = test.T"
      ],
      "execution_count": 0,
      "outputs": []
    },
    {
      "cell_type": "code",
      "metadata": {
        "id": "8TBbF-xrWECG",
        "colab_type": "code",
        "colab": {},
        "outputId": "049589d1-080f-48a0-e982-59d6443e843e"
      },
      "source": [
        "test"
      ],
      "execution_count": 0,
      "outputs": [
        {
          "output_type": "execute_result",
          "data": {
            "text/html": [
              "<div>\n",
              "<style>\n",
              "    .dataframe thead tr:only-child th {\n",
              "        text-align: right;\n",
              "    }\n",
              "\n",
              "    .dataframe thead th {\n",
              "        text-align: left;\n",
              "    }\n",
              "\n",
              "    .dataframe tbody tr th {\n",
              "        vertical-align: top;\n",
              "    }\n",
              "</style>\n",
              "<table border=\"1\" class=\"dataframe\">\n",
              "  <thead>\n",
              "    <tr style=\"text-align: right;\">\n",
              "      <th></th>\n",
              "      <th>0</th>\n",
              "      <th>1</th>\n",
              "      <th>2</th>\n",
              "      <th>3</th>\n",
              "      <th>4</th>\n",
              "    </tr>\n",
              "  </thead>\n",
              "  <tbody>\n",
              "    <tr>\n",
              "      <th>0</th>\n",
              "      <td>0.0</td>\n",
              "      <td>0.0</td>\n",
              "      <td>0.0</td>\n",
              "      <td>0.0</td>\n",
              "      <td>0.0</td>\n",
              "    </tr>\n",
              "  </tbody>\n",
              "</table>\n",
              "</div>"
            ],
            "text/plain": [
              "     0    1    2    3    4\n",
              "0  0.0  0.0  0.0  0.0  0.0"
            ]
          },
          "metadata": {
            "tags": []
          },
          "execution_count": 25
        }
      ]
    },
    {
      "cell_type": "code",
      "metadata": {
        "id": "EdR7EjYgWECO",
        "colab_type": "code",
        "colab": {}
      },
      "source": [
        "predi = regressor.predict(test)"
      ],
      "execution_count": 0,
      "outputs": []
    },
    {
      "cell_type": "code",
      "metadata": {
        "id": "y5oXLAvDWECU",
        "colab_type": "code",
        "colab": {},
        "outputId": "3500ebab-fc5c-4ae3-ab64-204913c5175a"
      },
      "source": [
        "predi"
      ],
      "execution_count": 0,
      "outputs": [
        {
          "output_type": "execute_result",
          "data": {
            "text/plain": [
              "array([ 42554.16761772])"
            ]
          },
          "metadata": {
            "tags": []
          },
          "execution_count": 27
        }
      ]
    }
  ]
}