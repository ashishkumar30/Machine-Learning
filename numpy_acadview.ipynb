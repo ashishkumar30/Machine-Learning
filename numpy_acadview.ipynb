{
  "nbformat": 4,
  "nbformat_minor": 0,
  "metadata": {
    "colab": {
      "name": "numpy_acadview.ipynb",
      "version": "0.3.2",
      "provenance": [],
      "include_colab_link": true
    },
    "kernelspec": {
      "display_name": "Python 3",
      "language": "python",
      "name": "python3"
    }
  },
  "cells": [
    {
      "cell_type": "markdown",
      "metadata": {
        "id": "view-in-github",
        "colab_type": "text"
      },
      "source": [
        "<a href=\"https://colab.research.google.com/github/ashishkumar30/Machine-Learning/blob/master/numpy_acadview.ipynb\" target=\"_parent\"><img src=\"https://colab.research.google.com/assets/colab-badge.svg\" alt=\"Open In Colab\"/></a>"
      ]
    },
    {
      "cell_type": "code",
      "metadata": {
        "id": "zYKYElhxfYaT",
        "colab_type": "code",
        "colab": {}
      },
      "source": [
        "import numpy as np"
      ],
      "execution_count": 0,
      "outputs": []
    },
    {
      "cell_type": "code",
      "metadata": {
        "id": "nbar4MdUfYaZ",
        "colab_type": "code",
        "colab": {}
      },
      "source": [
        "a = np.array([1,2,3])"
      ],
      "execution_count": 0,
      "outputs": []
    },
    {
      "cell_type": "code",
      "metadata": {
        "id": "tvxj3pHRfYad",
        "colab_type": "code",
        "outputId": "3924f65b-1656-428e-b36f-27f5e85f37c7",
        "colab": {}
      },
      "source": [
        "type(a)"
      ],
      "execution_count": 0,
      "outputs": [
        {
          "output_type": "execute_result",
          "data": {
            "text/plain": [
              "numpy.ndarray"
            ]
          },
          "metadata": {
            "tags": []
          },
          "execution_count": 76
        }
      ]
    },
    {
      "cell_type": "code",
      "metadata": {
        "id": "cu3Fl24afYak",
        "colab_type": "code",
        "outputId": "e35623c5-86ad-47ba-81f0-ab691ffca056",
        "colab": {}
      },
      "source": [
        "a"
      ],
      "execution_count": 0,
      "outputs": [
        {
          "output_type": "execute_result",
          "data": {
            "text/plain": [
              "array([1, 2, 3])"
            ]
          },
          "metadata": {
            "tags": []
          },
          "execution_count": 77
        }
      ]
    },
    {
      "cell_type": "code",
      "metadata": {
        "id": "x9mHrVeBfYap",
        "colab_type": "code",
        "colab": {}
      },
      "source": [
        "lst = [1,2,3]"
      ],
      "execution_count": 0,
      "outputs": []
    },
    {
      "cell_type": "code",
      "metadata": {
        "id": "M-ZOQNcafYat",
        "colab_type": "code",
        "outputId": "7c46a11c-dc8a-4fb8-ef4c-56ea2bf8414c",
        "colab": {}
      },
      "source": [
        "type(lst)"
      ],
      "execution_count": 0,
      "outputs": [
        {
          "output_type": "execute_result",
          "data": {
            "text/plain": [
              "list"
            ]
          },
          "metadata": {
            "tags": []
          },
          "execution_count": 6
        }
      ]
    },
    {
      "cell_type": "code",
      "metadata": {
        "id": "nonlMCSgfYay",
        "colab_type": "code",
        "outputId": "f43d2c2c-d3ae-4d02-f1be-1d975e2ffe83",
        "colab": {}
      },
      "source": [
        "a.shape"
      ],
      "execution_count": 0,
      "outputs": [
        {
          "output_type": "execute_result",
          "data": {
            "text/plain": [
              "(3,)"
            ]
          },
          "metadata": {
            "tags": []
          },
          "execution_count": 7
        }
      ]
    },
    {
      "cell_type": "code",
      "metadata": {
        "id": "E7xy6FIcfYa2",
        "colab_type": "code",
        "outputId": "83b69cb9-db7f-4eb4-901b-a819c8740af5",
        "colab": {}
      },
      "source": [
        "a.reshape(3,1)"
      ],
      "execution_count": 0,
      "outputs": [
        {
          "output_type": "execute_result",
          "data": {
            "text/plain": [
              "array([[1],\n",
              "       [2],\n",
              "       [3]])"
            ]
          },
          "metadata": {
            "tags": []
          },
          "execution_count": 8
        }
      ]
    },
    {
      "cell_type": "code",
      "metadata": {
        "id": "D2jFUtsGfYa9",
        "colab_type": "code",
        "colab": {}
      },
      "source": [
        "a = np.array([4,5,6])"
      ],
      "execution_count": 0,
      "outputs": []
    },
    {
      "cell_type": "code",
      "metadata": {
        "id": "oeLBksqlfYbD",
        "colab_type": "code",
        "outputId": "f64bd85c-23ec-4ef9-d727-acc91201bf86",
        "colab": {}
      },
      "source": [
        "a[0]"
      ],
      "execution_count": 0,
      "outputs": [
        {
          "output_type": "execute_result",
          "data": {
            "text/plain": [
              "4"
            ]
          },
          "metadata": {
            "tags": []
          },
          "execution_count": 10
        }
      ]
    },
    {
      "cell_type": "code",
      "metadata": {
        "id": "tGzMsBUWfYbH",
        "colab_type": "code",
        "outputId": "afeef342-a1ba-4e47-f9ff-41c39e8ff65e",
        "colab": {}
      },
      "source": [
        "a[1]"
      ],
      "execution_count": 0,
      "outputs": [
        {
          "output_type": "execute_result",
          "data": {
            "text/plain": [
              "5"
            ]
          },
          "metadata": {
            "tags": []
          },
          "execution_count": 11
        }
      ]
    },
    {
      "cell_type": "code",
      "metadata": {
        "id": "MX18g4oxfYbM",
        "colab_type": "code",
        "colab": {}
      },
      "source": [
        "a = np.zeros((2,2),dtype = 'int64')"
      ],
      "execution_count": 0,
      "outputs": []
    },
    {
      "cell_type": "code",
      "metadata": {
        "id": "0kDyVD6nfYbQ",
        "colab_type": "code",
        "outputId": "733f5524-1218-4581-90ed-27d7445e9ef7",
        "colab": {}
      },
      "source": [
        "a"
      ],
      "execution_count": 0,
      "outputs": [
        {
          "output_type": "execute_result",
          "data": {
            "text/plain": [
              "array([[0, 0],\n",
              "       [0, 0]], dtype=int64)"
            ]
          },
          "metadata": {
            "tags": []
          },
          "execution_count": 83
        }
      ]
    },
    {
      "cell_type": "code",
      "metadata": {
        "id": "0QpnvlZyfYbU",
        "colab_type": "code",
        "colab": {}
      },
      "source": [
        "a = np.ones((2,2))"
      ],
      "execution_count": 0,
      "outputs": []
    },
    {
      "cell_type": "code",
      "metadata": {
        "id": "F2FCb5ERfYbZ",
        "colab_type": "code",
        "outputId": "99087e80-d06e-4299-e0c2-9e8d95fdcd89",
        "colab": {}
      },
      "source": [
        "a"
      ],
      "execution_count": 0,
      "outputs": [
        {
          "output_type": "execute_result",
          "data": {
            "text/plain": [
              "array([[1., 1.],\n",
              "       [1., 1.]])"
            ]
          },
          "metadata": {
            "tags": []
          },
          "execution_count": 16
        }
      ]
    },
    {
      "cell_type": "code",
      "metadata": {
        "id": "BN1BLd5dfYbg",
        "colab_type": "code",
        "outputId": "c10dee8e-03e1-41e8-f83f-0aad2b09ee13",
        "colab": {}
      },
      "source": [
        "a.dtype"
      ],
      "execution_count": 0,
      "outputs": [
        {
          "output_type": "execute_result",
          "data": {
            "text/plain": [
              "dtype('float64')"
            ]
          },
          "metadata": {
            "tags": []
          },
          "execution_count": 81
        }
      ]
    },
    {
      "cell_type": "code",
      "metadata": {
        "id": "Nl8sBooNfYbk",
        "colab_type": "code",
        "colab": {}
      },
      "source": [
        "a = np.ones((2,2),dtype = 'int64')"
      ],
      "execution_count": 0,
      "outputs": []
    },
    {
      "cell_type": "code",
      "metadata": {
        "id": "Ku4tir6lfYbr",
        "colab_type": "code",
        "outputId": "6fdc5a59-d2d8-42f3-a86e-cafcb7f8a4df",
        "colab": {}
      },
      "source": [
        "a"
      ],
      "execution_count": 0,
      "outputs": [
        {
          "output_type": "execute_result",
          "data": {
            "text/plain": [
              "array([[1, 1],\n",
              "       [1, 1]], dtype=int64)"
            ]
          },
          "metadata": {
            "tags": []
          },
          "execution_count": 20
        }
      ]
    },
    {
      "cell_type": "code",
      "metadata": {
        "id": "WEHI_O-2fYbv",
        "colab_type": "code",
        "colab": {}
      },
      "source": [
        "a = np.full((2,2),100)"
      ],
      "execution_count": 0,
      "outputs": []
    },
    {
      "cell_type": "code",
      "metadata": {
        "id": "6aOvyeMCfYby",
        "colab_type": "code",
        "outputId": "0c1169b7-fa14-4ea7-c1ec-ce7f231ef322",
        "colab": {}
      },
      "source": [
        "a"
      ],
      "execution_count": 0,
      "outputs": [
        {
          "output_type": "execute_result",
          "data": {
            "text/plain": [
              "array([[100, 100],\n",
              "       [100, 100]])"
            ]
          },
          "metadata": {
            "tags": []
          },
          "execution_count": 85
        }
      ]
    },
    {
      "cell_type": "code",
      "metadata": {
        "id": "mxF9bAmCfYb3",
        "colab_type": "code",
        "colab": {}
      },
      "source": [
        "a = np.eye(2)"
      ],
      "execution_count": 0,
      "outputs": []
    },
    {
      "cell_type": "code",
      "metadata": {
        "id": "FwJgZDtcfYb7",
        "colab_type": "code",
        "outputId": "cf40aa09-fcf8-418d-9afc-fe5bf7b89836",
        "colab": {}
      },
      "source": [
        "a"
      ],
      "execution_count": 0,
      "outputs": [
        {
          "output_type": "execute_result",
          "data": {
            "text/plain": [
              "array([[1., 0.],\n",
              "       [0., 1.]])"
            ]
          },
          "metadata": {
            "tags": []
          },
          "execution_count": 87
        }
      ]
    },
    {
      "cell_type": "code",
      "metadata": {
        "id": "yP8yfNOBfYcA",
        "colab_type": "code",
        "colab": {}
      },
      "source": [
        "a = np.diag([1,2,3])"
      ],
      "execution_count": 0,
      "outputs": []
    },
    {
      "cell_type": "code",
      "metadata": {
        "id": "CRp8NbCgfYcE",
        "colab_type": "code",
        "outputId": "b982e588-2014-4201-e5f6-3cfc547e3e65",
        "colab": {}
      },
      "source": [
        "a"
      ],
      "execution_count": 0,
      "outputs": [
        {
          "output_type": "execute_result",
          "data": {
            "text/plain": [
              "array([[1, 0, 0],\n",
              "       [0, 2, 0],\n",
              "       [0, 0, 3]])"
            ]
          },
          "metadata": {
            "tags": []
          },
          "execution_count": 27
        }
      ]
    },
    {
      "cell_type": "code",
      "metadata": {
        "id": "xlaDkinFfYcJ",
        "colab_type": "code",
        "outputId": "1293cd25-0917-4bdf-aafd-b916843084db",
        "colab": {}
      },
      "source": [
        "a.ndim #2-d array"
      ],
      "execution_count": 0,
      "outputs": [
        {
          "output_type": "execute_result",
          "data": {
            "text/plain": [
              "2"
            ]
          },
          "metadata": {
            "tags": []
          },
          "execution_count": 28
        }
      ]
    },
    {
      "cell_type": "code",
      "metadata": {
        "id": "nQyzeZFTfYcM",
        "colab_type": "code",
        "outputId": "5ea80707-6fd8-42b5-acf3-0f8710b1f42a",
        "colab": {}
      },
      "source": [
        "a.shape #attribute not function"
      ],
      "execution_count": 0,
      "outputs": [
        {
          "output_type": "execute_result",
          "data": {
            "text/plain": [
              "(3, 3)"
            ]
          },
          "metadata": {
            "tags": []
          },
          "execution_count": 29
        }
      ]
    },
    {
      "cell_type": "code",
      "metadata": {
        "id": "xaPGAUARfYcV",
        "colab_type": "code",
        "outputId": "51fb590f-e6fe-4f9d-c259-c7c392a83f48",
        "colab": {}
      },
      "source": [
        "a.size #total number of elements in the matrix"
      ],
      "execution_count": 0,
      "outputs": [
        {
          "output_type": "execute_result",
          "data": {
            "text/plain": [
              "9"
            ]
          },
          "metadata": {
            "tags": []
          },
          "execution_count": 30
        }
      ]
    },
    {
      "cell_type": "code",
      "metadata": {
        "id": "QQ2B8AcNfYcY",
        "colab_type": "code",
        "outputId": "f56eea7c-60fe-4173-ffa1-5cff64d15963",
        "colab": {}
      },
      "source": [
        "a.dtype #datatype"
      ],
      "execution_count": 0,
      "outputs": [
        {
          "output_type": "execute_result",
          "data": {
            "text/plain": [
              "dtype('int32')"
            ]
          },
          "metadata": {
            "tags": []
          },
          "execution_count": 31
        }
      ]
    },
    {
      "cell_type": "code",
      "metadata": {
        "id": "9DKHpqaJfYcc",
        "colab_type": "code",
        "colab": {}
      },
      "source": [
        "a = np.arange(15)"
      ],
      "execution_count": 0,
      "outputs": []
    },
    {
      "cell_type": "code",
      "metadata": {
        "id": "NhheUUL-fYci",
        "colab_type": "code",
        "outputId": "ee279f77-45ca-4af4-e291-354ddb4e0b85",
        "colab": {}
      },
      "source": [
        "a"
      ],
      "execution_count": 0,
      "outputs": [
        {
          "output_type": "execute_result",
          "data": {
            "text/plain": [
              "array([ 0,  1,  2,  3,  4,  5,  6,  7,  8,  9, 10, 11, 12, 13, 14])"
            ]
          },
          "metadata": {
            "tags": []
          },
          "execution_count": 90
        }
      ]
    },
    {
      "cell_type": "code",
      "metadata": {
        "id": "BzA9NrRqfYco",
        "colab_type": "code",
        "outputId": "203c99e4-afe9-4f12-c697-8683fcf517f3",
        "colab": {}
      },
      "source": [
        "type(a)"
      ],
      "execution_count": 0,
      "outputs": [
        {
          "output_type": "execute_result",
          "data": {
            "text/plain": [
              "numpy.ndarray"
            ]
          },
          "metadata": {
            "tags": []
          },
          "execution_count": 91
        }
      ]
    },
    {
      "cell_type": "code",
      "metadata": {
        "id": "3AgBmBlOfYcs",
        "colab_type": "code",
        "colab": {}
      },
      "source": [
        "a = a.reshape((3,5))"
      ],
      "execution_count": 0,
      "outputs": []
    },
    {
      "cell_type": "code",
      "metadata": {
        "id": "QvUGznNNfYcv",
        "colab_type": "code",
        "outputId": "b7f3919d-ef6a-4fe0-c360-e7a2b38ea22b",
        "colab": {}
      },
      "source": [
        "a"
      ],
      "execution_count": 0,
      "outputs": [
        {
          "output_type": "execute_result",
          "data": {
            "text/plain": [
              "array([[ 0,  1,  2,  3,  4],\n",
              "       [ 5,  6,  7,  8,  9],\n",
              "       [10, 11, 12, 13, 14]])"
            ]
          },
          "metadata": {
            "tags": []
          },
          "execution_count": 93
        }
      ]
    },
    {
      "cell_type": "code",
      "metadata": {
        "id": "M8r5DM6tfYc1",
        "colab_type": "code",
        "outputId": "c99d4618-b38d-46f1-9f3a-9369472b7f83",
        "colab": {}
      },
      "source": [
        "a.shape"
      ],
      "execution_count": 0,
      "outputs": [
        {
          "output_type": "execute_result",
          "data": {
            "text/plain": [
              "(3, 5)"
            ]
          },
          "metadata": {
            "tags": []
          },
          "execution_count": 94
        }
      ]
    },
    {
      "cell_type": "code",
      "metadata": {
        "id": "Z0S8wU3mfYc6",
        "colab_type": "code",
        "outputId": "08b6e103-b176-4c5a-95ab-b1d395eb7609",
        "colab": {}
      },
      "source": [
        "a[0:2,0:3]"
      ],
      "execution_count": 0,
      "outputs": [
        {
          "output_type": "execute_result",
          "data": {
            "text/plain": [
              "array([[0, 1, 2],\n",
              "       [5, 6, 7]])"
            ]
          },
          "metadata": {
            "tags": []
          },
          "execution_count": 95
        }
      ]
    },
    {
      "cell_type": "code",
      "metadata": {
        "id": "wgKDE6oMfYdA",
        "colab_type": "code",
        "colab": {}
      },
      "source": [
        "a = np.array([[1,2],[3,4],[5,6]])"
      ],
      "execution_count": 0,
      "outputs": []
    },
    {
      "cell_type": "code",
      "metadata": {
        "id": "UgFXjpZOfYdE",
        "colab_type": "code",
        "outputId": "a9f1358d-69d8-443f-b831-f0aa1a4738d6",
        "colab": {}
      },
      "source": [
        "a"
      ],
      "execution_count": 0,
      "outputs": [
        {
          "output_type": "execute_result",
          "data": {
            "text/plain": [
              "array([[1, 2],\n",
              "       [3, 4],\n",
              "       [5, 6]])"
            ]
          },
          "metadata": {
            "tags": []
          },
          "execution_count": 44
        }
      ]
    },
    {
      "cell_type": "code",
      "metadata": {
        "id": "n3OKr7spfYdQ",
        "colab_type": "code",
        "outputId": "d95052ea-fc2b-4d9c-fbfd-1c6347fcb96c",
        "colab": {}
      },
      "source": [
        "a[[0,1,2],[0,1,0]]"
      ],
      "execution_count": 0,
      "outputs": [
        {
          "output_type": "execute_result",
          "data": {
            "text/plain": [
              "array([1, 4, 5])"
            ]
          },
          "metadata": {
            "tags": []
          },
          "execution_count": 45
        }
      ]
    },
    {
      "cell_type": "code",
      "metadata": {
        "id": "mtE3uiOkfYdY",
        "colab_type": "code",
        "outputId": "6ff693ff-566a-408e-e406-0ed2e408c23f",
        "colab": {}
      },
      "source": [
        "a[0,0]"
      ],
      "execution_count": 0,
      "outputs": [
        {
          "output_type": "execute_result",
          "data": {
            "text/plain": [
              "1"
            ]
          },
          "metadata": {
            "tags": []
          },
          "execution_count": 46
        }
      ]
    },
    {
      "cell_type": "code",
      "metadata": {
        "id": "qY6_P-otfYde",
        "colab_type": "code",
        "outputId": "9ced1448-daec-4c99-b5cb-e2fc7377204c",
        "colab": {}
      },
      "source": [
        "a"
      ],
      "execution_count": 0,
      "outputs": [
        {
          "output_type": "execute_result",
          "data": {
            "text/plain": [
              "array([[1, 2],\n",
              "       [3, 4],\n",
              "       [5, 6]])"
            ]
          },
          "metadata": {
            "tags": []
          },
          "execution_count": 47
        }
      ]
    },
    {
      "cell_type": "code",
      "metadata": {
        "id": "kAjXXJtCfYdl",
        "colab_type": "code",
        "outputId": "43b21292-c3bf-494d-a4ef-85535d13d058",
        "colab": {}
      },
      "source": [
        "a>2"
      ],
      "execution_count": 0,
      "outputs": [
        {
          "output_type": "execute_result",
          "data": {
            "text/plain": [
              "array([[False, False],\n",
              "       [ True,  True],\n",
              "       [ True,  True]])"
            ]
          },
          "metadata": {
            "tags": []
          },
          "execution_count": 48
        }
      ]
    },
    {
      "cell_type": "code",
      "metadata": {
        "id": "QI356Gj7fYdr",
        "colab_type": "code",
        "outputId": "29959d5d-9ec9-4605-edf7-95bc9aa104d3",
        "colab": {}
      },
      "source": [
        "a[a>2]"
      ],
      "execution_count": 0,
      "outputs": [
        {
          "output_type": "execute_result",
          "data": {
            "text/plain": [
              "array([3, 4, 5, 6])"
            ]
          },
          "metadata": {
            "tags": []
          },
          "execution_count": 49
        }
      ]
    },
    {
      "cell_type": "code",
      "metadata": {
        "id": "YI1r-DhefYd0",
        "colab_type": "code",
        "colab": {}
      },
      "source": [
        "x = np.array([[1,2],[3,4]])"
      ],
      "execution_count": 0,
      "outputs": []
    },
    {
      "cell_type": "code",
      "metadata": {
        "id": "3TG61HUYfYd4",
        "colab_type": "code",
        "colab": {}
      },
      "source": [
        "y = np.array([[5,6],[7,8]])"
      ],
      "execution_count": 0,
      "outputs": []
    },
    {
      "cell_type": "code",
      "metadata": {
        "id": "ELW0mLTifYd6",
        "colab_type": "code",
        "outputId": "e7a89a31-3a8e-42d1-abdb-d024fdb3de44",
        "colab": {}
      },
      "source": [
        "x"
      ],
      "execution_count": 0,
      "outputs": [
        {
          "output_type": "execute_result",
          "data": {
            "text/plain": [
              "array([[1, 2],\n",
              "       [3, 4]])"
            ]
          },
          "metadata": {
            "tags": []
          },
          "execution_count": 52
        }
      ]
    },
    {
      "cell_type": "code",
      "metadata": {
        "id": "xivIk0a7fYd-",
        "colab_type": "code",
        "outputId": "83b6fd5d-3614-4493-c9fe-f81f22e11a7f",
        "colab": {}
      },
      "source": [
        "y"
      ],
      "execution_count": 0,
      "outputs": [
        {
          "output_type": "execute_result",
          "data": {
            "text/plain": [
              "array([[5, 6],\n",
              "       [7, 8]])"
            ]
          },
          "metadata": {
            "tags": []
          },
          "execution_count": 53
        }
      ]
    },
    {
      "cell_type": "code",
      "metadata": {
        "id": "CEUblYFafYeD",
        "colab_type": "code",
        "outputId": "62f6b4ab-8fcb-45bc-b92c-b2072e48c7eb",
        "colab": {}
      },
      "source": [
        "np.add(x,y) #element wise addition"
      ],
      "execution_count": 0,
      "outputs": [
        {
          "output_type": "execute_result",
          "data": {
            "text/plain": [
              "array([[ 6,  8],\n",
              "       [10, 12]])"
            ]
          },
          "metadata": {
            "tags": []
          },
          "execution_count": 54
        }
      ]
    },
    {
      "cell_type": "code",
      "metadata": {
        "id": "vZe1qbgUfYeJ",
        "colab_type": "code",
        "outputId": "b4b3dda2-534f-46d6-85ae-54904d283dfc",
        "colab": {}
      },
      "source": [
        "x+y"
      ],
      "execution_count": 0,
      "outputs": [
        {
          "output_type": "execute_result",
          "data": {
            "text/plain": [
              "array([[ 6,  8],\n",
              "       [10, 12]])"
            ]
          },
          "metadata": {
            "tags": []
          },
          "execution_count": 55
        }
      ]
    },
    {
      "cell_type": "code",
      "metadata": {
        "id": "LRaYk5XCfYeN",
        "colab_type": "code",
        "outputId": "09328d11-e37f-4272-81c4-0e674118d99e",
        "colab": {}
      },
      "source": [
        "np.subtract(x,y) #similarly multiply and divide"
      ],
      "execution_count": 0,
      "outputs": [
        {
          "output_type": "execute_result",
          "data": {
            "text/plain": [
              "array([[-4, -4],\n",
              "       [-4, -4]])"
            ]
          },
          "metadata": {
            "tags": []
          },
          "execution_count": 56
        }
      ]
    },
    {
      "cell_type": "code",
      "metadata": {
        "id": "Q7TgcoFmfYeQ",
        "colab_type": "code",
        "outputId": "d7181c46-f611-4f51-e2c8-915dd910a1fc",
        "colab": {}
      },
      "source": [
        "x-y"
      ],
      "execution_count": 0,
      "outputs": [
        {
          "output_type": "execute_result",
          "data": {
            "text/plain": [
              "array([[-4, -4],\n",
              "       [-4, -4]])"
            ]
          },
          "metadata": {
            "tags": []
          },
          "execution_count": 57
        }
      ]
    },
    {
      "cell_type": "code",
      "metadata": {
        "id": "XeqLENYAfYeS",
        "colab_type": "code",
        "outputId": "1d4706a7-252e-4504-e1c5-67368a73a177",
        "colab": {}
      },
      "source": [
        "np.sqrt(x)"
      ],
      "execution_count": 0,
      "outputs": [
        {
          "output_type": "execute_result",
          "data": {
            "text/plain": [
              "array([[1.        , 1.41421356],\n",
              "       [1.73205081, 2.        ]])"
            ]
          },
          "metadata": {
            "tags": []
          },
          "execution_count": 58
        }
      ]
    },
    {
      "cell_type": "code",
      "metadata": {
        "id": "oEdMNwEvfYeZ",
        "colab_type": "code",
        "colab": {}
      },
      "source": [
        "v = np.array([9,10])"
      ],
      "execution_count": 0,
      "outputs": []
    },
    {
      "cell_type": "code",
      "metadata": {
        "id": "hpSIi1aHfYed",
        "colab_type": "code",
        "outputId": "ee27d795-3501-45c1-d7c5-83ee632f8e47",
        "colab": {}
      },
      "source": [
        "v"
      ],
      "execution_count": 0,
      "outputs": [
        {
          "output_type": "execute_result",
          "data": {
            "text/plain": [
              "array([ 9, 10])"
            ]
          },
          "metadata": {
            "tags": []
          },
          "execution_count": 60
        }
      ]
    },
    {
      "cell_type": "code",
      "metadata": {
        "id": "KIu5crfafYeg",
        "colab_type": "code",
        "colab": {}
      },
      "source": [
        "w = np.array([11,12])"
      ],
      "execution_count": 0,
      "outputs": []
    },
    {
      "cell_type": "code",
      "metadata": {
        "id": "dOQVNbI9fYem",
        "colab_type": "code",
        "outputId": "6a98966f-7f77-4768-95e2-4dc274f303ab",
        "colab": {}
      },
      "source": [
        "w"
      ],
      "execution_count": 0,
      "outputs": [
        {
          "output_type": "execute_result",
          "data": {
            "text/plain": [
              "array([11, 12])"
            ]
          },
          "metadata": {
            "tags": []
          },
          "execution_count": 62
        }
      ]
    },
    {
      "cell_type": "code",
      "metadata": {
        "id": "9m6K5HEvfYep",
        "colab_type": "code",
        "outputId": "ffe6d15e-c3a6-4ea0-f213-41664e7b051c",
        "colab": {}
      },
      "source": [
        "v.dot(w)"
      ],
      "execution_count": 0,
      "outputs": [
        {
          "output_type": "execute_result",
          "data": {
            "text/plain": [
              "219"
            ]
          },
          "metadata": {
            "tags": []
          },
          "execution_count": 64
        }
      ]
    },
    {
      "cell_type": "code",
      "metadata": {
        "id": "aQi9lmT1fYev",
        "colab_type": "code",
        "outputId": "d3a9c120-17fd-4ff5-c3b0-cfa3f8d0b8bf",
        "colab": {}
      },
      "source": [
        "y"
      ],
      "execution_count": 0,
      "outputs": [
        {
          "output_type": "execute_result",
          "data": {
            "text/plain": [
              "array([[5, 6],\n",
              "       [7, 8]])"
            ]
          },
          "metadata": {
            "tags": []
          },
          "execution_count": 65
        }
      ]
    },
    {
      "cell_type": "code",
      "metadata": {
        "id": "t5tXTJUwfYey",
        "colab_type": "code",
        "outputId": "f1a92f5f-a2a2-47c0-aa8f-b65748cc7dfe",
        "colab": {}
      },
      "source": [
        "y.T"
      ],
      "execution_count": 0,
      "outputs": [
        {
          "output_type": "execute_result",
          "data": {
            "text/plain": [
              "array([[5, 7],\n",
              "       [6, 8]])"
            ]
          },
          "metadata": {
            "tags": []
          },
          "execution_count": 66
        }
      ]
    },
    {
      "cell_type": "code",
      "metadata": {
        "id": "8EUsJXP7fYe3",
        "colab_type": "code",
        "outputId": "07d6c06b-7cc6-4169-ff07-347db5e4f17c",
        "colab": {}
      },
      "source": [
        "y"
      ],
      "execution_count": 0,
      "outputs": [
        {
          "output_type": "execute_result",
          "data": {
            "text/plain": [
              "array([[5, 6],\n",
              "       [7, 8]])"
            ]
          },
          "metadata": {
            "tags": []
          },
          "execution_count": 67
        }
      ]
    },
    {
      "cell_type": "code",
      "metadata": {
        "id": "4ShgjksRfYe6",
        "colab_type": "code",
        "outputId": "4db3ebb6-84b3-4651-bca9-e8ed0825b526",
        "colab": {}
      },
      "source": [
        "y.sum(axis=0) #column"
      ],
      "execution_count": 0,
      "outputs": [
        {
          "output_type": "execute_result",
          "data": {
            "text/plain": [
              "array([12, 14])"
            ]
          },
          "metadata": {
            "tags": []
          },
          "execution_count": 68
        }
      ]
    },
    {
      "cell_type": "code",
      "metadata": {
        "id": "HecyfpFGfYe9",
        "colab_type": "code",
        "outputId": "64ead9d4-7a7f-494c-9c35-56a10cf495d3",
        "colab": {}
      },
      "source": [
        "y.sum(axis=1) #row"
      ],
      "execution_count": 0,
      "outputs": [
        {
          "output_type": "execute_result",
          "data": {
            "text/plain": [
              "array([11, 15])"
            ]
          },
          "metadata": {
            "tags": []
          },
          "execution_count": 69
        }
      ]
    },
    {
      "cell_type": "code",
      "metadata": {
        "id": "LQ7JGgnXfYfB",
        "colab_type": "code",
        "outputId": "40f650fc-8771-4051-984b-6ac635b87e60",
        "colab": {}
      },
      "source": [
        "a"
      ],
      "execution_count": 0,
      "outputs": [
        {
          "output_type": "execute_result",
          "data": {
            "text/plain": [
              "array([[1, 2],\n",
              "       [3, 4],\n",
              "       [5, 6]])"
            ]
          },
          "metadata": {
            "tags": []
          },
          "execution_count": 70
        }
      ]
    },
    {
      "cell_type": "code",
      "metadata": {
        "id": "xZd4NTfHfYfF",
        "colab_type": "code",
        "outputId": "af4f294d-bcfc-4c5f-ce33-eb0b757b7e38",
        "colab": {}
      },
      "source": [
        "np.mean(a) "
      ],
      "execution_count": 0,
      "outputs": [
        {
          "output_type": "execute_result",
          "data": {
            "text/plain": [
              "3.5"
            ]
          },
          "metadata": {
            "tags": []
          },
          "execution_count": 71
        }
      ]
    },
    {
      "cell_type": "code",
      "metadata": {
        "id": "G1sZkArkfYfJ",
        "colab_type": "code",
        "colab": {}
      },
      "source": [
        ""
      ],
      "execution_count": 0,
      "outputs": []
    }
  ]
}