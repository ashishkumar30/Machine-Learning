{
 "cells": [
  {
   "cell_type": "code",
   "execution_count": 82,
   "metadata": {},
   "outputs": [
    {
     "name": "stdout",
     "output_type": "stream",
     "text": [
      "predicted value is = [2.]\n",
      "Actual value is    = [2.]\n",
      "accuracy of model is =  85.0 % \n",
      "  \n",
      " \n",
      "            --Here is the graph for Iris Data Set-- \n",
      "   \n"
     ]
    },
    {
     "data": {
      "image/png": "[encoded data removed]",
      "text/plain": [
       "<Figure size 720x576 with 1 Axes>"
      ]
     },
     "metadata": {
      "needs_background": "light"
     },
     "output_type": "display_data"
    },
    {
     "name": "stdout",
     "output_type": "stream",
     "text": [
      "{'Iris-setosa': 0, 'Iris-versicolor': 1, 'Iris-virginica': 2}\n"
     ]
    }
   ],
   "source": [
    "import numpy as np\n",
    "from numpy import genfromtxt\n",
    "import pandas as pd\n",
    "import matplotlib.pyplot as plot\n",
    "from sklearn import linear_model\n",
    "\n",
    "\n",
    "import warnings\n",
    "warnings.filterwarnings(\"ignore\") \n",
    "\n",
    "                                      ##   Trannig Machine Learning model   ##\n",
    "    \n",
    "    \n",
    "    \n",
    "\n",
    "file=genfromtxt(\"iris.data.txt\", delimiter=\",\" , dtype=\"str\")                          \n",
    "\n",
    "dictionary={}\n",
    "count=0\n",
    "for a in file:\n",
    "    if a [4] not in dictionary:                                                          \n",
    "        dictionary[a[4]]=count\n",
    "        count+=1\n",
    "\n",
    "for a in file:\n",
    "    if a [4] in dictionary:\n",
    "        a[4] = dictionary[a[4]]\n",
    "\n",
    "dictionary1=0\n",
    "dictionary2=50\n",
    "dictionary3=100\n",
    "dataSet=[]\n",
    "for a in range (0,50):\n",
    "    dataSet.append(file[dictionary1])\n",
    "    dataSet.append(file[dictionary2])\n",
    "    dataSet.append(file[dictionary3])\n",
    "    dictionary1+=1\n",
    "    dictionary2+=1\n",
    "    dictionary3+=1\n",
    "\n",
    "\n",
    "trainingSet=file[: 130]\n",
    "trainingX=trainingSet[:,[0,1,2,3]]\n",
    "trainingX=trainingX.astype(float)\n",
    "trainingY=(trainingSet[:,[4]]).astype(int)\n",
    "trainingY=trainingY.astype(float)\n",
    "\n",
    "testingSet=file[130:]\n",
    "testingX=testingSet[:,[0,2,2,3]]\n",
    "testingX=testingX.astype(float)\n",
    "testingY=testingSet[:,[4]]\n",
    "testingY=testingY.astype(float)\n",
    "\n",
    "\n",
    "lr=linear_model.LogisticRegression()\n",
    "lr.fit(trainingX, trainingY)\n",
    "print(\"predicted value is = \"+ str(lr.predict( [testingX [14] ] )))\n",
    "print(\"Actual value is    = \"+ str(testingY[14]))\n",
    "\n",
    "\n",
    "acc=lr.score(testingX, testingY)*100\n",
    "print(\"accuracy of model is =  \"+ str(acc) + \" % \") \n",
    "print( '  \\n \\n            --Here is the graph for Iris Data Set-- \\n   ')\n",
    "\n",
    "\n",
    "\n",
    "\n",
    "                                     ##    Graph Plot    ##\n",
    "    \n",
    "import matplotlib.pyplot as plot\n",
    "\n",
    "features= file[:,[0,1,2,3]]\n",
    "features= features.astype(float)\n",
    "featuresAll=[]\n",
    "\n",
    "targets=file[:,[4]]\n",
    "targets=targets.astype(int)\n",
    "for a in features:\n",
    "    featuresAll.append([a[0]+a[1]+a[2]+a[3]])\n",
    "\n",
    "plot.scatter(featuresAll,targets,color=\"blue\", alpha=1)\n",
    "plot.rcParams[\"figure.figsize\"]=[10,8]\n",
    "plot.title(\"Iris Data Set \")\n",
    "plot.xlabel(\"Features\")\n",
    "plot.ylabel(\"Class\")\n",
    "plot.show()\n",
    "\n",
    "print(dictionary)\n",
    " \n",
    "\n",
    "\n",
    "# END \n",
    "\n",
    "\n"
   ]
  },
  {
   "cell_type": "code",
   "execution_count": null,
   "metadata": {},
   "outputs": [],
   "source": [
    "\n"
   ]
  },
  {
   "cell_type": "code",
   "execution_count": null,
   "metadata": {},
   "outputs": [],
   "source": []
  }
 ],
 "metadata": {
  "kernelspec": {
   "display_name": "Python 3",
   "language": "python",
   "name": "python3"
  },
  "language_info": {
   "codemirror_mode": {
    "name": "ipython",
    "version": 3
   },
   "file_extension": ".py",
   "mimetype": "text/x-python",
   "name": "python",
   "nbconvert_exporter": "python",
   "pygments_lexer": "ipython3",
   "version": "3.7.1"
  }
 },
 "nbformat": 4,
 "nbformat_minor": 2
}
