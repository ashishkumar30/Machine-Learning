{
 "cells": [
  {
   "cell_type": "code",
   "execution_count": 14,
   "metadata": {},
   "outputs": [
    {
     "name": "stdout",
     "output_type": "stream",
     "text": [
      "Enter value of P(A) : 5\n",
      "Enter value of P(B) : 11\n",
      "Enter value of P(A/B) : 55\n",
      " here is the probablity  121.0\n"
     ]
    }
   ],
   "source": [
    "\"\"\" \n",
    "Q.1 - Consider the below given probabilities:\n",
    "P(A) = 11 / 36 P(B) = 6 / 36 P(A|B) = 2 / 36\n",
    "\n",
    "Write a function in Python which takes 3 probabilities as argument\n",
    "and outputs the Conditional probability P(B|A).\"\"\"\n",
    "\n",
    "#sol\n",
    "\n",
    "\n",
    "a=  float(input(\"Enter value of P(A) : \"))\n",
    "b=  float(input(\"Enter value of P(B) : \"))\n",
    "c=  float(input(\"Enter value of P(A/B) : \"))\n",
    "output= ((c*b)/a)\n",
    "print( \" here is the probablity \" , output)\n"
   ]
  },
  {
   "cell_type": "code",
   "execution_count": 16,
   "metadata": {},
   "outputs": [
    {
     "name": "stdout",
     "output_type": "stream",
     "text": [
      " the probability that it was drawn from Bag I  0.5833333333333334\n"
     ]
    }
   ],
   "source": [
    "\"\"\"   \n",
    "Q.2 - Bag I contains 4 white and 6 black balls while another Bag II contains 4 white and 3 black balls. \n",
    "One ball is drawn at random from one of the bags and it is found to be black. \n",
    "Find the probability that it was drawn from Bag I.\"\"\"\n",
    "\n",
    "#sol\n",
    " \n",
    "\n",
    "bag1=1/2                 # bag1\n",
    "bag2=1/2                 # bag2\n",
    "black1=6/10              # prob selecting black from bag1\n",
    "black2=3/7               # prob selecting black from bag2\n",
    " \n",
    "prob=(bag1*black1)/((bag1*black1)+(bag2*black2))\n",
    "\n",
    "print(\" the probability that it was drawn from Bag I \",prob)\n",
    "\n",
    "\n"
   ]
  },
  {
   "cell_type": "code",
   "execution_count": 30,
   "metadata": {},
   "outputs": [
    {
     "name": "stdout",
     "output_type": "stream",
     "text": [
      "Probability that the number obtained is actually a ' four (4)' : -  0.2857142857142857\n"
     ]
    }
   ],
   "source": [
    "\"\"\" Q.3 - A man is known to speak truth 2 out of 3 times.\n",
    "He throws a die and reports that number obtained is a four. \n",
    "Find the probability that the number obtained is actually a four. \"\"\"\n",
    "\n",
    "#solution \n",
    "\n",
    "\n",
    "s_truth = 2/3\n",
    "s_lie = 1/3\n",
    "four_true = 1/6\n",
    "four_lie = 5/6\n",
    "\n",
    "a = ( \n",
    "    (s_truth * four_true) / ((s_truth * four_true) + (s_lie * four_lie)) \n",
    "    )\n",
    "print(\"Probability that the number obtained is actually a ' four (4)' : - \", a)\n",
    "\n",
    "\n"
   ]
  },
  {
   "cell_type": "code",
   "execution_count": null,
   "metadata": {},
   "outputs": [],
   "source": []
  },
  {
   "cell_type": "code",
   "execution_count": null,
   "metadata": {},
   "outputs": [],
   "source": []
  }
 ],
 "metadata": {
  "kernelspec": {
   "display_name": "Python 3",
   "language": "python",
   "name": "python3"
  },
  "language_info": {
   "codemirror_mode": {
    "name": "ipython",
    "version": 3
   },
   "file_extension": ".py",
   "mimetype": "text/x-python",
   "name": "python",
   "nbconvert_exporter": "python",
   "pygments_lexer": "ipython3",
   "version": "3.7.1"
  }
 },
 "nbformat": 4,
 "nbformat_minor": 2
}
